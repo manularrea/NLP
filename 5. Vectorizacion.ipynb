{
  "nbformat": 4,
  "nbformat_minor": 0,
  "metadata": {
    "colab": {
      "provenance": []
    },
    "kernelspec": {
      "name": "python3",
      "display_name": "Python 3"
    }
  },
  "cells": [
    {
      "cell_type": "markdown",
      "metadata": {
        "id": "5c8TuSXz4nSm"
      },
      "source": [
        "Text Mining - 5. Vectorización\n",
        "\n",
        "AFI - Máster en Data Science y Big Data\n",
        "\n",
        "Juan de Dios Romero Palop\n",
        "\n",
        "Abril 2024\n"
      ]
    },
    {
      "cell_type": "markdown",
      "metadata": {
        "id": "Q80RgAKy61_V"
      },
      "source": [
        "### Bag of words"
      ]
    },
    {
      "cell_type": "code",
      "metadata": {
        "id": "iWDYlwfl65Gd"
      },
      "source": [
        "from sklearn.feature_extraction.text import CountVectorizer"
      ],
      "execution_count": null,
      "outputs": []
    },
    {
      "cell_type": "code",
      "metadata": {
        "id": "xliERGd17Bcv"
      },
      "source": [
        "dataset = ['This is the first document.',\n",
        "          'This document is the second document.',\n",
        "          'And this is the third one.',\n",
        "          'Is this the first document?'\n",
        "          ]"
      ],
      "execution_count": null,
      "outputs": []
    },
    {
      "cell_type": "code",
      "metadata": {
        "id": "rR92bKFC7Dt8"
      },
      "source": [
        "## Vocabulario\n",
        "vectorizer = CountVectorizer()\n",
        "X = vectorizer.fit_transform(dataset)\n",
        "print(vectorizer.get_feature_names_out())"
      ],
      "execution_count": null,
      "outputs": []
    },
    {
      "cell_type": "code",
      "metadata": {
        "id": "qZGzkHYg7MPJ"
      },
      "source": [
        "print(X.toarray())"
      ],
      "execution_count": null,
      "outputs": []
    },
    {
      "cell_type": "markdown",
      "metadata": {
        "id": "HKeaUQ6K7mXI"
      },
      "source": [
        "https://scikit-learn.org/stable/modules/generated/sklearn.feature_extraction.text.CountVectorizer.html#sklearn.feature_extraction.text.CountVectorizer"
      ]
    },
    {
      "cell_type": "code",
      "metadata": {
        "id": "VM4FzE3w7mg0"
      },
      "source": [
        "## Vectorizador con palabras y grupos de 2 palabras\n",
        "vectorizer2 = CountVectorizer(analyzer='word', ngram_range=(1, 2))\n",
        "X2 = vectorizer2.fit_transform(dataset)\n",
        "print(vectorizer2.get_feature_names_out())"
      ],
      "execution_count": null,
      "outputs": []
    },
    {
      "cell_type": "code",
      "metadata": {
        "id": "LM8TrQhj7vAd"
      },
      "source": [
        "print(X2.toarray())"
      ],
      "execution_count": null,
      "outputs": []
    },
    {
      "cell_type": "markdown",
      "metadata": {
        "id": "oh98am2N66Lc"
      },
      "source": [
        "### TF-IDF"
      ]
    },
    {
      "cell_type": "code",
      "metadata": {
        "id": "neXE347N4tvP"
      },
      "source": [
        "from sklearn.feature_extraction.text import TfidfVectorizer"
      ],
      "execution_count": null,
      "outputs": []
    },
    {
      "cell_type": "code",
      "metadata": {
        "id": "qIMPQ_md4-G4"
      },
      "source": [
        "dataset = ['This is the first document.',\n",
        "          'This document is the second document.',\n",
        "          'And this is the third one.',\n",
        "          'Is this the first document?'\n",
        "          ]"
      ],
      "execution_count": null,
      "outputs": []
    },
    {
      "cell_type": "code",
      "metadata": {
        "id": "TGoQpAL_5OxI"
      },
      "source": [
        "vectorizer = TfidfVectorizer(use_idf =True)\n",
        "X = vectorizer.fit_transform(dataset)"
      ],
      "execution_count": null,
      "outputs": []
    },
    {
      "cell_type": "code",
      "metadata": {
        "id": "G8B7dv2L5SI4"
      },
      "source": [
        "print(vectorizer.get_feature_names_out())"
      ],
      "execution_count": null,
      "outputs": []
    },
    {
      "cell_type": "code",
      "metadata": {
        "id": "zyc4wXPlCgy2"
      },
      "source": [
        "vectorizer.idf_"
      ],
      "execution_count": null,
      "outputs": []
    },
    {
      "cell_type": "code",
      "metadata": {
        "id": "vH3dXUqeI5Ux"
      },
      "source": [
        "vectorizer.vocabulary_"
      ],
      "execution_count": null,
      "outputs": []
    },
    {
      "cell_type": "code",
      "metadata": {
        "id": "el_P-ozG5Tmt"
      },
      "source": [
        "print(X.shape)"
      ],
      "execution_count": null,
      "outputs": []
    },
    {
      "cell_type": "code",
      "metadata": {
        "id": "g2x7F1HT5V2O"
      },
      "source": [
        "print(X.toarray())"
      ],
      "execution_count": null,
      "outputs": []
    },
    {
      "cell_type": "markdown",
      "metadata": {
        "id": "vsE2iVmo50_V"
      },
      "source": [
        "https://scikit-learn.org/stable/modules/generated/sklearn.feature_extraction.text.TfidfVectorizer.html"
      ]
    },
    {
      "cell_type": "markdown",
      "metadata": {
        "id": "8Py_KA5caHSI"
      },
      "source": [
        "### word2vect"
      ]
    },
    {
      "cell_type": "code",
      "metadata": {
        "id": "sfffvQYR6Wd9"
      },
      "source": [
        "import gensim"
      ],
      "execution_count": null,
      "outputs": []
    },
    {
      "cell_type": "code",
      "metadata": {
        "id": "0yApWBq0bG5f"
      },
      "source": [
        "dataset = ['This is the first document.',\n",
        "          'This document is the second document.',\n",
        "          'And this is the third one.',\n",
        "          'Is this the first document?'\n",
        "          ]"
      ],
      "execution_count": null,
      "outputs": []
    },
    {
      "cell_type": "code",
      "metadata": {
        "id": "RDsfUSR0bEAs"
      },
      "source": [
        "word_split=[text.split(' ') for text in dataset]\n",
        "print(word_split)"
      ],
      "execution_count": null,
      "outputs": []
    },
    {
      "cell_type": "code",
      "metadata": {
        "id": "5RbojFNRbb5h"
      },
      "source": [
        "model = gensim.models.Word2Vec(word_split, min_count=1)"
      ],
      "execution_count": null,
      "outputs": []
    },
    {
      "cell_type": "markdown",
      "metadata": {
        "id": "-x0CMFXfcGns"
      },
      "source": [
        "https://radimrehurek.com/gensim/models/word2vec.html"
      ]
    },
    {
      "cell_type": "code",
      "metadata": {
        "id": "QQ_wfRzjc0Tx"
      },
      "source": [
        "#Una vez entrenado el modelo se puede persistir para no tener que entrenarlo otra vez\n",
        "#model.save('model.bin')\n",
        "\n",
        "#Para cargarlo\n",
        "#model = gensim.models.KeyedVectors.load_word2vec_format('model.bin', binary=True)"
      ],
      "execution_count": null,
      "outputs": []
    },
    {
      "cell_type": "code",
      "metadata": {
        "id": "Rvwb_AmZc-Ab"
      },
      "source": [
        "#Palabras más parecidas a una dada\n",
        "model.wv.most_similar(positive=['first'], topn=2)"
      ],
      "execution_count": null,
      "outputs": []
    },
    {
      "cell_type": "code",
      "metadata": {
        "id": "nna9RxtOdALn"
      },
      "source": [
        "#Valor del vector para una palabra\n",
        "model.wv[\"Is\"]"
      ],
      "execution_count": null,
      "outputs": []
    },
    {
      "cell_type": "code",
      "metadata": {
        "id": "aHuoYjdEcGBt"
      },
      "source": [
        "#parecido entre palabras\n",
        "model.wv.similarity('second', 'third')"
      ],
      "execution_count": null,
      "outputs": []
    },
    {
      "cell_type": "code",
      "source": [],
      "metadata": {
        "id": "11WIeCBG1jJO"
      },
      "execution_count": null,
      "outputs": []
    }
  ]
}