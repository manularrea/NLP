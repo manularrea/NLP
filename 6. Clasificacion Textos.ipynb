{
 "cells": [
  {
   "cell_type": "markdown",
   "metadata": {
    "id": "svuzsW-c_Va0"
   },
   "source": [
    "Text Mining - 6. Clasificacion textos\n",
    "\n",
    "AFI - Máster en Data Science y Big Data\n",
    "\n",
    "Juan de Dios Romero Palop\n",
    "\n",
    "Abril 2024\n",
    "\n",
    "Source: Andrew Task, Udacity\n"
   ]
  },
  {
   "cell_type": "markdown",
   "metadata": {
    "id": "d5Y0tolWGdIo"
   },
   "source": [
    "### 1. Carga de datos"
   ]
  },
  {
   "cell_type": "code",
   "execution_count": 1,
   "metadata": {
    "id": "eqOmYFCU_caw"
   },
   "outputs": [
    {
     "ename": "FileNotFoundError",
     "evalue": "[Errno 2] No such file or directory: '/content/drive/My Drive/Colab Notebooks/AFI/Text Mining/reviews.txt'",
     "output_type": "error",
     "traceback": [
      "\u001b[1;31m---------------------------------------------------------------------------\u001b[0m",
      "\u001b[1;31mFileNotFoundError\u001b[0m                         Traceback (most recent call last)",
      "Cell \u001b[1;32mIn[1], line 2\u001b[0m\n\u001b[0;32m      1\u001b[0m \u001b[38;5;66;03m## Críticas de películas\u001b[39;00m\n\u001b[1;32m----> 2\u001b[0m g \u001b[38;5;241m=\u001b[39m \u001b[38;5;28;43mopen\u001b[39;49m\u001b[43m(\u001b[49m\u001b[38;5;124;43m'\u001b[39;49m\u001b[38;5;124;43m/content/drive/My Drive/Colab Notebooks/AFI/Text Mining/reviews.txt\u001b[39;49m\u001b[38;5;124;43m'\u001b[39;49m\u001b[43m,\u001b[49m\u001b[38;5;124;43m'\u001b[39;49m\u001b[38;5;124;43mr\u001b[39;49m\u001b[38;5;124;43m'\u001b[39;49m\u001b[43m)\u001b[49m\n\u001b[0;32m      3\u001b[0m reviews \u001b[38;5;241m=\u001b[39m g\u001b[38;5;241m.\u001b[39mread()\u001b[38;5;241m.\u001b[39msplitlines()\n\u001b[0;32m      4\u001b[0m g\u001b[38;5;241m.\u001b[39mclose()\n",
      "File \u001b[1;32mc:\\Users\\manu-\\AppData\\Local\\Programs\\Python\\Python312\\Lib\\site-packages\\IPython\\core\\interactiveshell.py:324\u001b[0m, in \u001b[0;36m_modified_open\u001b[1;34m(file, *args, **kwargs)\u001b[0m\n\u001b[0;32m    317\u001b[0m \u001b[38;5;28;01mif\u001b[39;00m file \u001b[38;5;129;01min\u001b[39;00m {\u001b[38;5;241m0\u001b[39m, \u001b[38;5;241m1\u001b[39m, \u001b[38;5;241m2\u001b[39m}:\n\u001b[0;32m    318\u001b[0m     \u001b[38;5;28;01mraise\u001b[39;00m \u001b[38;5;167;01mValueError\u001b[39;00m(\n\u001b[0;32m    319\u001b[0m         \u001b[38;5;124mf\u001b[39m\u001b[38;5;124m\"\u001b[39m\u001b[38;5;124mIPython won\u001b[39m\u001b[38;5;124m'\u001b[39m\u001b[38;5;124mt let you open fd=\u001b[39m\u001b[38;5;132;01m{\u001b[39;00mfile\u001b[38;5;132;01m}\u001b[39;00m\u001b[38;5;124m by default \u001b[39m\u001b[38;5;124m\"\u001b[39m\n\u001b[0;32m    320\u001b[0m         \u001b[38;5;124m\"\u001b[39m\u001b[38;5;124mas it is likely to crash IPython. If you know what you are doing, \u001b[39m\u001b[38;5;124m\"\u001b[39m\n\u001b[0;32m    321\u001b[0m         \u001b[38;5;124m\"\u001b[39m\u001b[38;5;124myou can use builtins\u001b[39m\u001b[38;5;124m'\u001b[39m\u001b[38;5;124m open.\u001b[39m\u001b[38;5;124m\"\u001b[39m\n\u001b[0;32m    322\u001b[0m     )\n\u001b[1;32m--> 324\u001b[0m \u001b[38;5;28;01mreturn\u001b[39;00m \u001b[43mio_open\u001b[49m\u001b[43m(\u001b[49m\u001b[43mfile\u001b[49m\u001b[43m,\u001b[49m\u001b[43m \u001b[49m\u001b[38;5;241;43m*\u001b[39;49m\u001b[43margs\u001b[49m\u001b[43m,\u001b[49m\u001b[43m \u001b[49m\u001b[38;5;241;43m*\u001b[39;49m\u001b[38;5;241;43m*\u001b[39;49m\u001b[43mkwargs\u001b[49m\u001b[43m)\u001b[49m\n",
      "\u001b[1;31mFileNotFoundError\u001b[0m: [Errno 2] No such file or directory: '/content/drive/My Drive/Colab Notebooks/AFI/Text Mining/reviews.txt'"
     ]
    }
   ],
   "source": [
    "## Críticas de películas\n",
    "g = open('/content/drive/My Drive/Colab Notebooks/AFI/Text Mining/reviews.txt','r')\n",
    "reviews = g.read().splitlines()\n",
    "g.close()\n",
    "\n",
    "## Sentimiento asociado\n",
    "g = open('/content/drive/My Drive/Colab Notebooks/AFI/Text Mining/labels.txt','r') # What we WANT to know!\n",
    "labels = g.read().upper().splitlines()\n",
    "g.close()"
   ]
  },
  {
   "cell_type": "code",
   "execution_count": null,
   "metadata": {
    "id": "sCNRyZge_q-S"
   },
   "outputs": [],
   "source": [
    "len(reviews)"
   ]
  },
  {
   "cell_type": "code",
   "execution_count": null,
   "metadata": {
    "id": "m4-aZ98KApvE"
   },
   "outputs": [],
   "source": [
    "reviews[1]"
   ]
  },
  {
   "cell_type": "code",
   "execution_count": null,
   "metadata": {
    "id": "_Sp0eh4FAgAm"
   },
   "outputs": [],
   "source": [
    "len(labels)"
   ]
  },
  {
   "cell_type": "code",
   "execution_count": null,
   "metadata": {
    "id": "xsYwZbY8Alu3"
   },
   "outputs": [],
   "source": [
    "labels[1]"
   ]
  },
  {
   "cell_type": "code",
   "execution_count": null,
   "metadata": {
    "id": "7NnpYsu8b9-9"
   },
   "outputs": [],
   "source": [
    "def pretty_print_review_and_label(i):\n",
    "    print(labels[i] + \"\\t:\\t\" + reviews[i][:80] + \"...\")"
   ]
  },
  {
   "cell_type": "code",
   "execution_count": null,
   "metadata": {
    "id": "2uZIkLHR-658",
    "nbpresent": {
     "id": "e67a709f-234f-4493-bae6-4fb192141ee0"
    }
   },
   "outputs": [],
   "source": [
    "print(\"labels.txt \\t : \\t reviews.txt\\n\")\n",
    "pretty_print_review_and_label(2137)\n",
    "pretty_print_review_and_label(12816)\n",
    "pretty_print_review_and_label(6267)\n",
    "pretty_print_review_and_label(21934)\n",
    "pretty_print_review_and_label(5297)\n",
    "pretty_print_review_and_label(4998)"
   ]
  },
  {
   "cell_type": "markdown",
   "metadata": {
    "id": "sLGTusxtGV87"
   },
   "source": [
    "### 2. Análisis cuantitativo términos: ¿Qué términos aparecen en los comentarios positivos, cuales en los negativos y cuales aparecen en ambos?"
   ]
  },
  {
   "cell_type": "code",
   "execution_count": null,
   "metadata": {
    "id": "nlqB8_qn-66C"
   },
   "outputs": [],
   "source": [
    "from collections import Counter\n",
    "import numpy as np"
   ]
  },
  {
   "cell_type": "markdown",
   "metadata": {
    "id": "M91OwP4ecNyN"
   },
   "source": [
    "Vamos a utilizar la estructura Counter de python para ver cuantas veces aparece cada palabra en las críticas. Debajo tienes un ejemplo de como utilizar un contador."
   ]
  },
  {
   "cell_type": "markdown",
   "metadata": {
    "id": "dbZsxhiYcvuc"
   },
   "source": [
    "https://docs.python.org/2/library/collections.html#collections.Counter"
   ]
  },
  {
   "cell_type": "code",
   "execution_count": null,
   "metadata": {
    "id": "C5zuEETgcXD2"
   },
   "outputs": [],
   "source": [
    "ex_count = Counter()\n",
    "ex_count['palabra1'] = 3\n",
    "ex_count['palabra2'] = 5\n",
    "ex_count.most_common()"
   ]
  },
  {
   "cell_type": "code",
   "execution_count": null,
   "metadata": {
    "id": "ZrNcZkIpGmT1"
   },
   "outputs": [],
   "source": [
    "# Un contandor para cada tipo de review y uno total\n",
    "positive_counts = Counter()\n",
    "negative_counts = Counter()\n",
    "total_counts = Counter()"
   ]
  },
  {
   "cell_type": "code",
   "execution_count": null,
   "metadata": {
    "id": "BbU5hbuzHRQ9"
   },
   "outputs": [],
   "source": [
    "# Crea un bucle que, para cada crítica, recorra sus palabras una a una e incremente en 1 el número de aparaciones.\n",
    "# Aumenta el contador siempre en total_counts y en positive_counts O en negative_counts dependiendo de si es una crítica\n",
    "# positiva o negativa"
   ]
  },
  {
   "cell_type": "code",
   "execution_count": null,
   "metadata": {
    "id": "IX6QYAZAHWKA"
   },
   "outputs": [],
   "source": [
    "positive_counts.most_common(10)"
   ]
  },
  {
   "cell_type": "code",
   "execution_count": null,
   "metadata": {
    "id": "d9jcE5CGbZab"
   },
   "outputs": [],
   "source": [
    "negative_counts.most_common(10)"
   ]
  },
  {
   "cell_type": "code",
   "execution_count": null,
   "metadata": {
    "id": "56UEs2mpbZlA"
   },
   "outputs": [],
   "source": [
    "total_counts.most_common(10)"
   ]
  },
  {
   "cell_type": "markdown",
   "metadata": {
    "id": "oeZvc1p6dj84"
   },
   "source": [
    "El resultado del conteo muestra que las stopwords están presentes tanto en críticas positivas como en críticas negativas y pueden añadir ruido a la hora crear un modelo de clasificación. ¿Cómo podemos sacar aquellas palabras que son un indicador claro de que se trata de una crítica positiva o negativa?"
   ]
  },
  {
   "cell_type": "markdown",
   "metadata": {
    "id": "viJr7UXGeVbu"
   },
   "source": [
    "### 3. Análisis cuantitativo términos: Ratios"
   ]
  },
  {
   "cell_type": "markdown",
   "metadata": {
    "id": "YmhHY4jvek4X"
   },
   "source": [
    "Vamos a calcular los ratios de aparición de los términos de la siguiente manera: ratio = positive_counts/float(negative_counts + 1).\n",
    "\n",
    "**Nota**: vamos a trabajar unicamente con aquellos términos que **en total** aparecen 101 o más veces."
   ]
  },
  {
   "cell_type": "markdown",
   "metadata": {
    "id": "GDOywUqOfDli"
   },
   "source": [
    "*   ¿Por qué ese +1 en el denominador?\n",
    "*   A bote pronto, ¿cómo interpretaríamos los resultados? ¿En qué rango se van a mover los ratios?\n",
    "\n"
   ]
  },
  {
   "cell_type": "code",
   "execution_count": null,
   "metadata": {
    "id": "ktFv5uKydaCP"
   },
   "outputs": [],
   "source": [
    "pos_neg_ratios = Counter()\n",
    "\n",
    "# Calcula el ratio para los término más comunes"
   ]
  },
  {
   "cell_type": "code",
   "execution_count": null,
   "metadata": {
    "id": "O2BnMZPsf3_7"
   },
   "outputs": [],
   "source": [
    "pos_neg_ratios.most_common(15)"
   ]
  },
  {
   "cell_type": "code",
   "execution_count": null,
   "metadata": {
    "id": "HVQ2eL6j-66Z"
   },
   "outputs": [],
   "source": [
    "## Algunos ejemplos que nos ayudan a interpretar los resultados\n",
    "print(\"Pos-to-neg ratio for 'the' = {}\".format(pos_neg_ratios[\"the\"]))\n",
    "print(\"Pos-to-neg ratio for 'amazing' = {}\".format(pos_neg_ratios[\"amazing\"]))\n",
    "print(\"Pos-to-neg ratio for 'terrible' = {}\".format(pos_neg_ratios[\"terrible\"]))"
   ]
  },
  {
   "cell_type": "markdown",
   "metadata": {
    "id": "oaRceyK0gTdi"
   },
   "source": [
    "¿Qué problema tiene esta definición de ratio? ¿Cómo lo solucionamos?"
   ]
  },
  {
   "cell_type": "markdown",
   "metadata": {
    "id": "1CquUDSegmpV"
   },
   "source": [
    "### 4. Análisis cuantitativo términos: Logaritmos"
   ]
  },
  {
   "cell_type": "markdown",
   "metadata": {
    "id": "nEFWetNNg2pR"
   },
   "source": [
    "Al aplicar logaritmos a los valores calculados en el apartado anterior hacemos que los valores por debajo de 1 pasen a ser negativos (y con valor absoluto más alto cuanto más cercanos a 0 sean) y además conseguimos que dos términos con frecuencias relativas parecidas pero en críticas de signo distinto tomen valores con valor absoluto parecido y signo contrario."
   ]
  },
  {
   "cell_type": "code",
   "execution_count": null,
   "metadata": {
    "id": "w6SwM1-5-66d"
   },
   "outputs": [],
   "source": [
    "# Calcula el logaritmo de los ratios para todos los términos"
   ]
  },
  {
   "cell_type": "code",
   "execution_count": null,
   "metadata": {
    "id": "nelsu3orhrz_"
   },
   "outputs": [],
   "source": [
    "pos_neg_ratios.most_common(15)"
   ]
  },
  {
   "cell_type": "code",
   "execution_count": null,
   "metadata": {
    "id": "ac4dUOgEhnML"
   },
   "outputs": [],
   "source": [
    "## Algunos ejemplos que nos ayudan a interpretar los resultados\n",
    "print(\"Pos-to-neg ratio for 'the' = {}\".format(pos_neg_ratios[\"the\"]))\n",
    "print(\"Pos-to-neg ratio for 'amazing' = {}\".format(pos_neg_ratios[\"amazing\"]))\n",
    "print(\"Pos-to-neg ratio for 'terrible' = {}\".format(pos_neg_ratios[\"terrible\"]))"
   ]
  },
  {
   "cell_type": "code",
   "execution_count": null,
   "metadata": {
    "id": "BuwnIl_Wh8e5"
   },
   "outputs": [],
   "source": [
    "pos_neg_ratios.most_common()[:-31:-1]"
   ]
  },
  {
   "cell_type": "markdown",
   "metadata": {
    "id": "4hdAIKBvJEKa"
   },
   "source": [
    "### 5. Modelo de clasificación basado en bag of words"
   ]
  },
  {
   "cell_type": "markdown",
   "metadata": {
    "id": "hD8mLKkKJOaL"
   },
   "source": [
    "Vamos a aplicar la técnica de bag of words paso a paso a cada una de las críticas con el objetivo de convertirlas en vectores numéricos que sirvan de features de un nuestro modelo.\n",
    "\n",
    "#### Primer paso: construir el conjunto de palabras de nuestros vocabulario."
   ]
  },
  {
   "cell_type": "code",
   "execution_count": null,
   "metadata": {
    "id": "XbWDpvonhp7n"
   },
   "outputs": [],
   "source": [
    "vocab = set(total_counts.keys())"
   ]
  },
  {
   "cell_type": "code",
   "execution_count": null,
   "metadata": {
    "id": "ASu4GwbSJt_u"
   },
   "outputs": [],
   "source": [
    "vocab_size = len(vocab)\n",
    "vocab_size"
   ]
  },
  {
   "cell_type": "markdown",
   "metadata": {
    "id": "OeneoUAXKRe5"
   },
   "source": [
    "#### Segundo paso: construímos un vector del tamaño de nuestro vocabulario. Para ganar tiempo lo creamos como un vector entero de 0s usando la función de numpy zeros()"
   ]
  },
  {
   "cell_type": "code",
   "execution_count": null,
   "metadata": {
    "id": "re4cRsBcJy9L"
   },
   "outputs": [],
   "source": [
    "import numpy as np\n",
    "zeros = np.zeros(vocab_size)"
   ]
  },
  {
   "cell_type": "code",
   "execution_count": null,
   "metadata": {
    "id": "FwlXPMQUKMSp"
   },
   "outputs": [],
   "source": [
    "zeros"
   ]
  },
  {
   "cell_type": "markdown",
   "metadata": {
    "id": "S-wjmc3TKl7n"
   },
   "source": [
    "#### Tercer paso: asignar a cada palabra un índice del vector y crear una tabla maestra que guarde esta relación y nos permita crear fácilmente nuestros vectores."
   ]
  },
  {
   "cell_type": "code",
   "execution_count": null,
   "metadata": {
    "id": "WyTGXExmKOto"
   },
   "outputs": [],
   "source": [
    "# Creamos un diccionario que tiene como key la palabra y como valor el índice asociado\n",
    "word2index = {}\n",
    "for i,word in enumerate(vocab):\n",
    "    word2index[word] = i\n",
    "\n",
    "word2index"
   ]
  },
  {
   "cell_type": "markdown",
   "metadata": {
    "id": "00djBLcWLe3-"
   },
   "source": [
    "#### Cuarto paso: crear la función que dada una crítica devuelve un vector contando la frecuencia de las palabras utilizadas."
   ]
  },
  {
   "cell_type": "code",
   "execution_count": null,
   "metadata": {
    "id": "9Iov2PNeLEw5"
   },
   "outputs": [],
   "source": [
    "## Rellena la función que para crítica devuelve el vector asociado aplicando bag of words\n",
    "def bag_of_words(review):\n",
    "  v = np.zeros(vocab_size)\n",
    "\n",
    "## Inserta código aquí\n"
   ]
  },
  {
   "cell_type": "code",
   "execution_count": null,
   "metadata": {
    "id": "4uR3jCvuSBrf"
   },
   "outputs": [],
   "source": [
    "reviews[0]"
   ]
  },
  {
   "cell_type": "code",
   "execution_count": null,
   "metadata": {
    "id": "t2iUM_MeSGkP"
   },
   "outputs": [],
   "source": [
    "word2index['']"
   ]
  },
  {
   "cell_type": "code",
   "execution_count": null,
   "metadata": {
    "id": "3ASg9r1ga6en"
   },
   "outputs": [],
   "source": [
    "word2index[\"bromwell\"]"
   ]
  },
  {
   "cell_type": "code",
   "execution_count": null,
   "metadata": {
    "id": "n7BOLYxRMJFL"
   },
   "outputs": [],
   "source": [
    "bag_of_words(reviews[0])[42347]"
   ]
  },
  {
   "cell_type": "code",
   "execution_count": null,
   "metadata": {
    "id": "8e-pUBV5ay1t"
   },
   "outputs": [],
   "source": [
    "bag_of_words(reviews[0]).shape"
   ]
  },
  {
   "cell_type": "markdown",
   "metadata": {
    "id": "-zy1Su0ENDzb"
   },
   "source": [
    "#### Quinto paso: el target de nuestro modelo serán 1s y 0s. Vamos a crear una función que convierta los cadenas POSITIVE y NEGATIVE a 1 y 0."
   ]
  },
  {
   "cell_type": "code",
   "execution_count": null,
   "metadata": {
    "id": "LUQ52KX3MLfC"
   },
   "outputs": [],
   "source": [
    "## Rellena la función para que dada la etiqueta en forma de cadena devuelve el entero asociado\n",
    "def target_numerico(label):"
   ]
  },
  {
   "cell_type": "code",
   "execution_count": null,
   "metadata": {
    "id": "NXFHGGG8Ngf2"
   },
   "outputs": [],
   "source": [
    "target_numerico(labels[0])"
   ]
  },
  {
   "cell_type": "markdown",
   "metadata": {
    "id": "3socGi2cP_v4"
   },
   "source": [
    "#### Sexto paso: dividimos los datos que tenemos en train y test (esta vez lo hacemos a ojo)."
   ]
  },
  {
   "cell_type": "code",
   "execution_count": null,
   "metadata": {
    "id": "Hiy_hHiNQKHV"
   },
   "outputs": [],
   "source": [
    "training_size = 5000\n",
    "test_size = 10000\n",
    "training_rev = reviews[:training_size]\n",
    "training_lab = labels[:training_size]\n",
    "test_rev = reviews[-test_size:]\n",
    "test_lab = labels[-test_size:]\n",
    "print(len(training_lab))\n",
    "print(len(test_lab))"
   ]
  },
  {
   "cell_type": "code",
   "execution_count": null,
   "metadata": {
    "id": "bd6kzIovTxEZ"
   },
   "outputs": [],
   "source": [
    "print(training_rev[training_size-1])\n",
    "print(reviews[training_size-1])"
   ]
  },
  {
   "cell_type": "code",
   "execution_count": null,
   "metadata": {
    "id": "E61D-jvbT_kc"
   },
   "outputs": [],
   "source": [
    "print(test_rev[0])\n",
    "print(reviews[-test_size])"
   ]
  },
  {
   "cell_type": "markdown",
   "metadata": {
    "id": "8wjjnhbmQ2bR"
   },
   "source": [
    "#### Séptimo paso: calculamos las matrices de entrenamiento y de test."
   ]
  },
  {
   "cell_type": "code",
   "execution_count": null,
   "metadata": {
    "id": "5CnlYbNnNkdA"
   },
   "outputs": [],
   "source": [
    "X = np.empty((len(training_rev), vocab_size))\n",
    "print(X.shape)\n",
    "### Rellena X aquí"
   ]
  },
  {
   "cell_type": "code",
   "execution_count": null,
   "metadata": {
    "id": "mDfnC2WRVkAA"
   },
   "outputs": [],
   "source": [
    "X_test = np.empty((len(test_rev), vocab_size))\n",
    "print(X_test.shape)\n",
    "# Rellena X_test aquí"
   ]
  },
  {
   "cell_type": "code",
   "execution_count": null,
   "metadata": {
    "id": "DvJtxlnJcgwh"
   },
   "outputs": [],
   "source": [
    "training_rev = reviews[:training_size]\n",
    "training_lab = labels[:training_size]\n",
    "test_rev = reviews[-test_size:]\n",
    "test_lab"
   ]
  },
  {
   "cell_type": "code",
   "execution_count": null,
   "metadata": {
    "id": "8dRHQFKVPLaB"
   },
   "outputs": [],
   "source": [
    "y = np.empty((len(training_lab),))\n",
    "print(y.shape)\n",
    "# Rellena y aquí"
   ]
  },
  {
   "cell_type": "code",
   "execution_count": null,
   "metadata": {
    "id": "wQ8H8PfQVuiC"
   },
   "outputs": [],
   "source": [
    "y_test = np.empty((len(test_lab),))\n",
    "print(y_test.shape)\n",
    "# Rellena y_test aquí"
   ]
  },
  {
   "cell_type": "markdown",
   "metadata": {
    "id": "0BUgNbNaVZQI"
   },
   "source": [
    "#### Octavo paso: entrenamos el modelo"
   ]
  },
  {
   "cell_type": "code",
   "execution_count": null,
   "metadata": {
    "id": "418HbjvnS3R6"
   },
   "outputs": [],
   "source": [
    "from sklearn import linear_model\n",
    "from sklearn import model_selection\n",
    "from sklearn.metrics import classification_report\n",
    "from sklearn.metrics import confusion_matrix\n",
    "from sklearn.metrics import accuracy_score"
   ]
  },
  {
   "cell_type": "code",
   "execution_count": null,
   "metadata": {
    "id": "FFw3UoZDTNrz"
   },
   "outputs": [],
   "source": [
    "model = linear_model.LogisticRegression()\n",
    "model.fit(X,y)"
   ]
  },
  {
   "cell_type": "markdown",
   "metadata": {
    "id": "tHbMoVIvVd37"
   },
   "source": [
    "#### Noveno paso: aplicamos el predict sobre el conjunto de test y vemos qué tal funciona."
   ]
  },
  {
   "cell_type": "code",
   "execution_count": null,
   "metadata": {
    "id": "4ew7DEftTOnr"
   },
   "outputs": [],
   "source": [
    "predictions = model.predict(X_test)"
   ]
  },
  {
   "cell_type": "code",
   "execution_count": null,
   "metadata": {
    "id": "jz8FOER4VSYf"
   },
   "outputs": [],
   "source": [
    "model.score(X,y)"
   ]
  },
  {
   "cell_type": "code",
   "execution_count": null,
   "metadata": {
    "id": "5EMDdavGWEs-"
   },
   "outputs": [],
   "source": [
    "model.score(X_test,y_test)"
   ]
  },
  {
   "cell_type": "code",
   "execution_count": null,
   "metadata": {
    "id": "ZTVPXI4TWHvS"
   },
   "outputs": [],
   "source": [
    "print(confusion_matrix(y_test, predictions))"
   ]
  },
  {
   "cell_type": "code",
   "execution_count": null,
   "metadata": {
    "id": "qGy6v14K-Ovy"
   },
   "outputs": [],
   "source": [
    "print(classification_report(y_test, predictions))"
   ]
  },
  {
   "cell_type": "markdown",
   "metadata": {
    "id": "T1_6xKsU-cOe"
   },
   "source": [
    "#### Decimo paso: preparamos el código para probar el modelo con cadenas nuevas."
   ]
  },
  {
   "cell_type": "code",
   "execution_count": null,
   "metadata": {
    "id": "Melhwgn7-YVv"
   },
   "outputs": [],
   "source": [
    "# Rellena la función para, dada una crítica, aplicar el modelo que hemos entrenado\n",
    "# e imprimir POSITIVE/NEGATIVE\n",
    "def sentiment_analysis(review):"
   ]
  },
  {
   "cell_type": "code",
   "execution_count": null,
   "metadata": {
    "id": "83AM8es9_oNl"
   },
   "outputs": [],
   "source": [
    "sentiment_analysis('movie bad')"
   ]
  },
  {
   "cell_type": "code",
   "execution_count": null,
   "metadata": {
    "id": "cVkYqDqC_rLm"
   },
   "outputs": [],
   "source": [
    "sentiment_analysis('great movie i loved it')"
   ]
  },
  {
   "cell_type": "code",
   "execution_count": null,
   "metadata": {
    "id": "Rj8IWCGxAHNZ"
   },
   "outputs": [],
   "source": [
    "sentiment_analysis('españa is very good')"
   ]
  },
  {
   "cell_type": "markdown",
   "metadata": {
    "id": "2oUKhEDkASes"
   },
   "source": [
    "¿Qué hacemos con el error que se obtiene al meter una palabra que no está en el vocabulario? Solucionar este error es parte de la práctica de la asignatura."
   ]
  },
  {
   "cell_type": "code",
   "execution_count": null,
   "metadata": {
    "id": "LxIV-DyqAKUF"
   },
   "outputs": [],
   "source": [
    "sentiment_analysis('Cool movie')"
   ]
  },
  {
   "cell_type": "markdown",
   "metadata": {
    "id": "YDNO9LHVAp6E"
   },
   "source": [
    "Pero si Cool si es una palabra inglesa. ¿Qué ocurre? ¿Cómo lo solucionamos? Esto también es parte de la práctica de la asignatura."
   ]
  },
  {
   "cell_type": "code",
   "execution_count": null,
   "metadata": {
    "id": "cphmPCyuA3VS"
   },
   "outputs": [],
   "source": []
  }
 ],
 "metadata": {
  "colab": {
   "machine_shape": "hm",
   "provenance": []
  },
  "kernelspec": {
   "display_name": "Python 3 (ipykernel)",
   "language": "python",
   "name": "python3"
  },
  "language_info": {
   "codemirror_mode": {
    "name": "ipython",
    "version": 3
   },
   "file_extension": ".py",
   "mimetype": "text/x-python",
   "name": "python",
   "nbconvert_exporter": "python",
   "pygments_lexer": "ipython3",
   "version": "3.12.3"
  }
 },
 "nbformat": 4,
 "nbformat_minor": 4
}
