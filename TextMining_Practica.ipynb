{
 "cells": [
  {
   "cell_type": "markdown",
   "metadata": {
    "id": "8SLUTtXTn-oY"
   },
   "source": [
    "# Text Mining - Práctica\n",
    "\n",
    "## Afi - Máster en Data Science, Big Data e Inteligencia Artificial\n",
    "\n",
    "**Por: Manuela Larrea Gómez**\n",
    "\n",
    "Fecha: Junio 2024\n",
    "\n",
    "<hr>"
   ]
  },
  {
   "cell_type": "markdown",
   "metadata": {},
   "source": [
    "Paquetes requeridos"
   ]
  },
  {
   "cell_type": "code",
   "execution_count": null,
   "metadata": {
    "scrolled": true
   },
   "outputs": [],
   "source": [
    "!pip install nltk deep-translator\n",
    "!python -m spacy download es_core_news_sm"
   ]
  },
  {
   "cell_type": "code",
   "execution_count": 1,
   "metadata": {},
   "outputs": [
    {
     "name": "stderr",
     "output_type": "stream",
     "text": [
      "[nltk_data] Downloading package punkt to\n",
      "[nltk_data]     C:\\Users\\manu-\\AppData\\Roaming\\nltk_data...\n",
      "[nltk_data]   Package punkt is already up-to-date!\n",
      "[nltk_data] Downloading package stopwords to\n",
      "[nltk_data]     C:\\Users\\manu-\\AppData\\Roaming\\nltk_data...\n",
      "[nltk_data]   Package stopwords is already up-to-date!\n"
     ]
    }
   ],
   "source": [
    "import numpy as np\n",
    "import pandas as pd\n",
    "import re\n",
    "import matplotlib.pyplot as plt\n",
    "from wordcloud import WordCloud\n",
    "from collections import Counter\n",
    "\n",
    "import nltk\n",
    "from nltk.corpus import stopwords\n",
    "from nltk.tokenize import word_tokenize\n",
    "from nltk.probability import FreqDist\n",
    "from nltk.tag import pos_tag\n",
    "\n",
    "\n",
    "nltk.download('punkt')\n",
    "nltk.download('stopwords')\n",
    "\n",
    "import spacy\n",
    "\n",
    "from deep_translator import GoogleTranslator"
   ]
  },
  {
   "cell_type": "markdown",
   "metadata": {
    "id": "Cepa0wSSCk-a"
   },
   "source": [
    "### EJERCICIO 1 Fechas\n",
    "\n",
    "Vamos a crear expresiones regulares que nos permitan detectar dentro de un texto fechas en distintos formatos."
   ]
  },
  {
   "cell_type": "code",
   "execution_count": 3,
   "metadata": {
    "id": "35Hs_3oKn_zh"
   },
   "outputs": [],
   "source": [
    "# 1.1 Construye una regex que se active con el siguiente formato dd-mm-yy (e.g. 30-03-20)\n",
    "regex_1_1 = r'\\b\\d{2}-\\d{2}-\\d{2}\\b'"
   ]
  },
  {
   "cell_type": "markdown",
   "metadata": {},
   "source": [
    "Ahora, probemosla:"
   ]
  },
  {
   "cell_type": "code",
   "execution_count": 4,
   "metadata": {},
   "outputs": [
    {
     "name": "stdout",
     "output_type": "stream",
     "text": [
      "['09-06-24']\n"
     ]
    }
   ],
   "source": [
    "text = \"Esta práctica se entrega el 09-06-24 y es importante.\"\n",
    "matches = re.findall(regex_1_1, text)\n",
    "print(matches)  # Output: ['09-07-24']"
   ]
  },
  {
   "cell_type": "code",
   "execution_count": 5,
   "metadata": {
    "id": "pc68oATgDYUF"
   },
   "outputs": [],
   "source": [
    "# 1.2 A veces, como separador en vez de - se utiliza /. Modifica la regex anterior para que también se active con el siguiente formato:\n",
    "# dd/mm/yy (e.g. 30/03/20)\n",
    "# Ojo, debe activarse también con el formato de la celda anterior.\n",
    "regex_1_2 = r'\\b\\d{2}[-/]\\d{2}[-/]\\d{2}\\b'"
   ]
  },
  {
   "cell_type": "markdown",
   "metadata": {},
   "source": [
    "Ahora, probémosla:"
   ]
  },
  {
   "cell_type": "code",
   "execution_count": 6,
   "metadata": {},
   "outputs": [
    {
     "name": "stdout",
     "output_type": "stream",
     "text": [
      "['13-06-24', '16/06/24']\n"
     ]
    }
   ],
   "source": [
    "text = \"Afi Alumni es el 13-06-24 y el master acaba el 16/06/24.\"\n",
    "matches = re.findall(regex_1_2, text)\n",
    "print(matches)  # Output: ['13-06-24', '16/06/24']"
   ]
  },
  {
   "cell_type": "code",
   "execution_count": 7,
   "metadata": {
    "id": "fRqHZa1xDyf3"
   },
   "outputs": [],
   "source": [
    "# 1.3 Has llegado hasta aquí pero tú también sabes que no siempre se añade el 0 a los meses que van de enero a septiembre.\n",
    "# Modifica tu regex para que tenga en cuenta esto. (e.g. 30/3/20)\n",
    "# Ojo, debe activarse también con el formato de las celdas anteriores.\n",
    "regex_1_3 = r'\\b\\d{2}[-/](?:0?[1-9]|1[0-2])[-/]\\d{2}\\b'"
   ]
  },
  {
   "cell_type": "markdown",
   "metadata": {},
   "source": [
    "Ahora, probémosla:"
   ]
  },
  {
   "cell_type": "code",
   "execution_count": 8,
   "metadata": {},
   "outputs": [
    {
     "name": "stdout",
     "output_type": "stream",
     "text": [
      "['13-06-24', '16/6/24', '29-6-24']\n"
     ]
    }
   ],
   "source": [
    "text = \"Las fechas importantes de este mes son 13-06-24, 16/6/24 y 29-6-24.\"\n",
    "matches = re.findall(regex_1_3, text)\n",
    "print(matches)  # Output: ['13-06-24', '16/6/24' y '29-6-24']"
   ]
  },
  {
   "cell_type": "markdown",
   "metadata": {
    "id": "API32GcRG_DK"
   },
   "source": [
    "### EJERCICIO 2 Emails"
   ]
  },
  {
   "cell_type": "markdown",
   "metadata": {},
   "source": [
    "La expresión regular construida tiene en cuenta los requisitos definidos por estos documentos:\n",
    "\n",
    "**_Local-part:_**\n",
    "\n",
    "Según RFC 5322 (https://datatracker.ietf.org/doc/html/rfc5322), el local-part puede contener letras (a-z, A-Z), dígitos (0-9), y caracteres especiales (! # $ % & ' * + - / = ? ^ _ { | } ~`), pero para simplificación y compatibilidad, a menudo se permite solo un subconjunto más común (letras, números, puntos, guiones, guiones bajos y signos más).\n",
    "\n",
    "\n",
    "**_Domain:_**\n",
    "\n",
    "Según RFC 1035 (https://datatracker.ietf.org/doc/html/rfc1035) y RFC 5322, el domain debe seguir el formato de nombres de dominio válidos, que incluye letras, dígitos y guiones. Los nombres de dominio también pueden tener subdominios separados por puntos.\n",
    "\n",
    "La extensión del dominio debe tener al menos dos caracteres alfabéticos (para incluir dominios comunes como .com, .org, .net)."
   ]
  },
  {
   "cell_type": "code",
   "execution_count": 9,
   "metadata": {
    "id": "0WOlhK4bHPrC"
   },
   "outputs": [],
   "source": [
    "# Construye una regex que compruebe que una cadena cumple los requisitos para ser una dirección de email.\n",
    "regex_email = r'^[a-zA-Z0-9._%+-]+@[a-zA-Z0-9.-]+\\.[a-zA-Z]{2,}$'"
   ]
  },
  {
   "cell_type": "markdown",
   "metadata": {},
   "source": [
    "Ahora, probémosla:"
   ]
  },
  {
   "cell_type": "code",
   "execution_count": 10,
   "metadata": {},
   "outputs": [
    {
     "name": "stdout",
     "output_type": "stream",
     "text": [
      "manuscula.ai@example.com: Valid\n",
      "manu.manu+larrea+gomez@example.com: Valid\n",
      "manuela-larrea@example.co.uk: Valid\n",
      "manu@subdomain.example.com: Valid\n",
      "invalid-email@: Invalid\n",
      "another.invalid@.com: Invalid\n",
      "yet.another@invalid@domain.com: Invalid\n"
     ]
    }
   ],
   "source": [
    "emails = [\n",
    "    \"manuscula.ai@example.com\",\n",
    "    \"manu.manu+larrea+gomez@example.com\",\n",
    "    \"manuela-larrea@example.co.uk\",\n",
    "    \"manu@subdomain.example.com\",\n",
    "    \"invalid-email@\",\n",
    "    \"another.invalid@.com\",\n",
    "    \"yet.another@invalid@domain.com\",\n",
    "]\n",
    "\n",
    "for email in emails:\n",
    "    match = re.match(regex_email, email)\n",
    "    print(f\"{email}: {'Valid' if match else 'Invalid'}\")"
   ]
  },
  {
   "cell_type": "markdown",
   "metadata": {
    "id": "3mkHNbziHR3h"
   },
   "source": [
    "### EJERCICIO 3 Analizador de textos"
   ]
  },
  {
   "cell_type": "markdown",
   "metadata": {
    "id": "od_QYGQeHWAT"
   },
   "source": [
    "Prepara una secuencia de celdas que te sirva para hacer un análisis del texto o los textos que elijas.\n",
    "\n",
    "Puedes utilizar alguno de los ya incluídos en los paquetes o incluir alguno que encuentres por tu cuenta. En ese caso no te olvides de incluirlo(s) en la entrega de la práctica.\n",
    "\n",
    "Puedes elegir si lo haces sobre textos en español o en ingles.\n",
    "\n",
    "Utiliza las funciones vistas en clase e incluye una celda de texto explicando las conclusiones que sacas de los resultados.\n",
    "\n",
    "Recuerda lo dicho en clase, más vale pocas cosas pero relevantes que aplicar todo lo visto en clase sin motivo."
   ]
  },
  {
   "cell_type": "markdown",
   "metadata": {},
   "source": [
    "**_Solución_**\n",
    "\n",
    "Siempre me he preguntado qué de especial tuvo la arenga de Alejandro Magno durante su campaña a India, ya que (un poco de contexto) sus tropas estaban muy cansadas y desmotivadas y lo cuestionaban por querer continuar la marcha. Es muy increíble pensar que sus tropas le cuestionaron su liderazgo, teniendo en cuenta que para ese punto Alejandro Magno YA ERA uno de los conquistadores más grandes de la historia ... veamos:"
   ]
  },
  {
   "cell_type": "markdown",
   "metadata": {},
   "source": [
    "Según la teoría de discursos, un discurso motivacional eficaz debe:\n",
    "\n",
    "1. Reconocer los Logros Pasados: Recordar a la audiencia sus éxitos previos para fomentar un sentido de orgullo y capacidad.\n",
    "\n",
    "2. Proveer una Visión de Futuro: Ofrecer una imagen clara y positiva del futuro que inspire y motive.\n",
    "\n",
    "3. Apelar a Emociones: Utilizar una mezcla de emociones para conectar con la audiencia a un nivel personal.\n",
    "\n",
    "4. Establecer una Relación de Confianza: Mostrar que el orador comparte los mismos riesgos y recompensas que la audiencia.\n",
    "\n",
    "Fuente:  https://pressbooks.ulib.csuohio.edu/csu-fyw-rhetoric/chapter/rhetorical-strategies-building-compelling-arguments/\n",
    "\n",
    "Veamos si con NLP podemos ver donde radicó el éxito de Alejandro Magno"
   ]
  },
  {
   "cell_type": "markdown",
   "metadata": {},
   "source": [
    "Leemos y cargamos los datos"
   ]
  },
  {
   "cell_type": "code",
   "execution_count": 11,
   "metadata": {},
   "outputs": [],
   "source": [
    "with open('./data/Alex_Magnus.txt', 'r', encoding='utf-8') as f:\n",
    "    text = f.read()\n",
    "    \n",
    "text = text.replace(\"\\n\", ' ')\n",
    "text = text.replace(\"\\ufeff\", '')\n",
    "text = text.replace(\"—\", ' ')"
   ]
  },
  {
   "cell_type": "markdown",
   "metadata": {},
   "source": [
    "Tokenizamos"
   ]
  },
  {
   "cell_type": "code",
   "execution_count": 12,
   "metadata": {},
   "outputs": [],
   "source": [
    "tokens = word_tokenize(text.lower())"
   ]
  },
  {
   "cell_type": "markdown",
   "metadata": {},
   "source": [
    "Eliminamos las stopwords para hacer un analisis de frecuencia de palabras"
   ]
  },
  {
   "cell_type": "code",
   "execution_count": 13,
   "metadata": {},
   "outputs": [],
   "source": [
    "stop_words = set(stopwords.words('spanish'))\n",
    "filtered_tokens = [word for word in tokens if word.isalnum() and word not in stop_words]"
   ]
  },
  {
   "cell_type": "markdown",
   "metadata": {},
   "source": [
    "Las más frecuenctes son:"
   ]
  },
  {
   "cell_type": "code",
   "execution_count": 14,
   "metadata": {},
   "outputs": [
    {
     "data": {
      "text/plain": [
       "[('si', 9),\n",
       " ('ser', 5),\n",
       " ('aliados', 4),\n",
       " ('griegos', 4),\n",
       " ('sometido', 4),\n",
       " ('allá', 4),\n",
       " ('río', 4),\n",
       " ('macedonios', 3),\n",
       " ('libia', 3),\n",
       " ('así', 3)]"
      ]
     },
     "execution_count": 14,
     "metadata": {},
     "output_type": "execute_result"
    }
   ],
   "source": [
    "word_counts = Counter(filtered_tokens)\n",
    "common_words = word_counts.most_common(10)\n",
    "common_words"
   ]
  },
  {
   "cell_type": "markdown",
   "metadata": {},
   "source": [
    "Ahora, veamos cuales son los sustantivos más frecuentes:"
   ]
  },
  {
   "cell_type": "code",
   "execution_count": 15,
   "metadata": {},
   "outputs": [],
   "source": [
    "# Descargamos el modelo de spaCy en español\n",
    "nlp = spacy.load(\"es_core_news_sm\")\n",
    "\n",
    "# Procesamos el texto con spaCy\n",
    "doc = nlp(text.lower())"
   ]
  },
  {
   "cell_type": "markdown",
   "metadata": {},
   "source": [
    "Filtramos los sustantivos"
   ]
  },
  {
   "cell_type": "code",
   "execution_count": 16,
   "metadata": {},
   "outputs": [],
   "source": [
    "nouns = [token.text for token in doc if token.pos_ == \"NOUN\"]"
   ]
  },
  {
   "cell_type": "markdown",
   "metadata": {},
   "source": [
    "Veamos los más frecuentes"
   ]
  },
  {
   "cell_type": "code",
   "execution_count": 17,
   "metadata": {},
   "outputs": [
    {
     "data": {
      "text/plain": [
       "[('vosotros', 6),\n",
       " ('tierra', 4),\n",
       " ('río', 4),\n",
       " ('macedonios', 3),\n",
       " ('aliados', 3),\n",
       " ('parte', 3),\n",
       " ('naciones', 3),\n",
       " ('hircania', 3),\n",
       " ('mar', 3),\n",
       " ('tierras', 3),\n",
       " ('trabajos', 3),\n",
       " ('océano', 3),\n",
       " ('golfo', 3),\n",
       " ('penalidades', 2),\n",
       " ('país', 2),\n",
       " ('hífasis', 2),\n",
       " ('imperio', 2),\n",
       " ('macedonia', 2),\n",
       " ('esfuerzos', 2),\n",
       " ('límites', 2)]"
      ]
     },
     "execution_count": 17,
     "metadata": {},
     "output_type": "execute_result"
    }
   ],
   "source": [
    "noun_counts = Counter(nouns)\n",
    "common_nouns = noun_counts.most_common(20)\n",
    "common_nouns"
   ]
  },
  {
   "cell_type": "markdown",
   "metadata": {},
   "source": [
    "Veamoslo en una wordcloud"
   ]
  },
  {
   "cell_type": "code",
   "execution_count": 18,
   "metadata": {},
   "outputs": [
    {
     "data": {
      "image/png": "[encoded data removed]",
      "text/plain": [
       "<Figure size 1000x500 with 1 Axes>"
      ]
     },
     "metadata": {},
     "output_type": "display_data"
    }
   ],
   "source": [
    "wordcloud = WordCloud(width=800, height=400, background_color='white').generate_from_frequencies(noun_counts)\n",
    "plt.figure(figsize=(10, 5))\n",
    "plt.imshow(wordcloud, interpolation='bilinear')\n",
    "plt.axis('off')\n",
    "plt.show()"
   ]
  },
  {
   "cell_type": "markdown",
   "metadata": {},
   "source": [
    "Estas palabras subrayan la narrativa de conquista y la llamada a la acción. \"Si\" y \"ser\" indican una estructura condicional y reflexiva, mientras que \"aliados\", \"griegos\" y \"macedonios\" destacan la composición de diversas etnias y culturas del ejército.\n",
    "\n",
    "Un poco de contexto histórico: El ejército de Alejandro era un resultado obvio de sus conquistas y expansiones territoriales. Si bien su núcleo estaba compuesto por Macedonios, tenia un montón de soldados de otros sitios:\n",
    "\n",
    "<!DOCTYPE html>\n",
    "<html lang=\"es\">\n",
    "<head>\n",
    "    <meta charset=\"UTF-8\">\n",
    "    <title>Composición del Ejército de Alejandro Magno</title>\n",
    "    <style>\n",
    "        table {\n",
    "            width: 100%;\n",
    "            border-collapse: collapse;\n",
    "        }\n",
    "        table, th, td {\n",
    "            border: 1px solid black;\n",
    "        }\n",
    "        th, td {\n",
    "            padding: 15px;\n",
    "            text-align: left;\n",
    "        }\n",
    "        th {\n",
    "            background-color: #f2f2f2;\n",
    "        }\n",
    "    </style>\n",
    "</head>\n",
    "<body>\n",
    "\n",
    "\n",
    "<table>\n",
    "    <tr>\n",
    "        <th>Grupo</th>\n",
    "        <th>Origen</th>\n",
    "        <th>Rol</th>\n",
    "    </tr>\n",
    "    <tr>\n",
    "        <td>Griegos</td>\n",
    "        <td>Ciudades-estado griegas como Atenas, Esparta, y Tebas</td>\n",
    "        <td>Unidades de infantería y tropas auxiliares</td>\n",
    "    </tr>\n",
    "    <tr>\n",
    "        <td>Tracios e Ilirios</td>\n",
    "        <td>Regiones del noreste de Grecia y la península balcánica</td>\n",
    "        <td>Infantería ligera y tropas de choque</td>\n",
    "    </tr>\n",
    "    <tr>\n",
    "        <td>Persas y otros asiáticos</td>\n",
    "        <td>Territorios conquistados en el Imperio Persa, incluyendo Persia, Media, Bactria, y Sogdiana</td>\n",
    "        <td>Integrados progresivamente en el ejército de Alejandro como infantería y caballería</td>\n",
    "    </tr>\n",
    "    <tr>\n",
    "        <td>Egipcios y otros pueblos del norte de África</td>\n",
    "        <td>Egipto y Libia helénica</td>\n",
    "        <td>Tropas auxiliares y arqueros</td>\n",
    "    </tr>\n",
    "</table>\n",
    "\n",
    "</body>\n",
    "</html>\n",
    "\n"
   ]
  },
  {
   "cell_type": "markdown",
   "metadata": {},
   "source": [
    "Ahora, veamos el ciclo de vida de estos sustantivos en todo el discurso"
   ]
  },
  {
   "cell_type": "code",
   "execution_count": 239,
   "metadata": {},
   "outputs": [],
   "source": [
    "most_common_nouns = [word for word, count in common_nouns[:5]]\n",
    "dispersion = {word: [i for i, token in enumerate(tokens) if token == word] for word in most_common_nouns}"
   ]
  },
  {
   "cell_type": "code",
   "execution_count": 240,
   "metadata": {},
   "outputs": [
    {
     "data": {
      "image/png": "[encoded data removed]",
      "text/plain": [
       "<Figure size 1200x600 with 1 Axes>"
      ]
     },
     "metadata": {},
     "output_type": "display_data"
    }
   ],
   "source": [
    "plt.figure(figsize=(12, 6))\n",
    "for word, indices in dispersion.items():\n",
    "    plt.plot(indices, [word] * len(indices), 'o', label=word)\n",
    "plt.yticks(range(len(most_common_nouns)), most_common_nouns)\n",
    "plt.legend(loc='upper right')\n",
    "plt.title(\"Dispersión de los 5 sustantivos más comunes\")\n",
    "plt.xlabel(\"Posición en el texto\")\n",
    "plt.show()"
   ]
  },
  {
   "cell_type": "markdown",
   "metadata": {},
   "source": [
    "Ahora veamos el \"sentimiento\". Para esto definiré una lista de palabras \"positivas\" y otra de palabras \"negativas\". \n",
    "\n",
    "Me crearé estas listas manualmente con las palabras más frecuentes que calculamos anteriormente, porque no dispongo de un diccionario de palabras positivas y negativas en español. En términos generales, lo que buscaré con estas listas será representar una seleccion de términos que podrían estar presentes en el discruso y que tinenen connotaciones claramente positivas o negativas:"
   ]
  },
  {
   "cell_type": "code",
   "execution_count": 21,
   "metadata": {},
   "outputs": [],
   "source": [
    "positive_words = ['gloria', 'éxito', 'valiente', 'firme', 'recompensa']\n",
    "negative_words = ['penalidades', 'temer', 'reprochable']\n",
    "\n",
    "# Calculamos la frecuencia de estas palabras\n",
    "word_freq = Counter(filtered_tokens)"
   ]
  },
  {
   "cell_type": "markdown",
   "metadata": {},
   "source": [
    "Ahora me inventaré un puntaje. Básicamente lo que haré será calcular la cantidad de palabras positivas y negativas en el discurso sumando las freciencias de las palabras que aparecen en las listas que creé anteriormente. Luego crear;e un diccionario sentimen_scores para almacenar esos conteos y calcular un puntaje neto (net) de \"sentimiento\""
   ]
  },
  {
   "cell_type": "code",
   "execution_count": 22,
   "metadata": {},
   "outputs": [],
   "source": [
    "positive_count = sum(word_freq[word] for word in positive_words if word in word_freq)\n",
    "negative_count = sum(word_freq[word] for word in negative_words if word in word_freq)\n",
    "\n",
    "sentiment_scores = {\n",
    "    'positive': positive_count,\n",
    "    'negative': negative_count,\n",
    "    'net': positive_count - negative_count\n",
    "}"
   ]
  },
  {
   "cell_type": "markdown",
   "metadata": {},
   "source": [
    "También podría ser interesante ver cuáles son las palabras que más aparecen juntas en el discruso para entender posibles relaciones entre términos. \n",
    "\n",
    "Para esto calculare la frecuencia  con la que aparecen juntas las palabras en una ventana de dos palabras. "
   ]
  },
  {
   "cell_type": "code",
   "execution_count": 23,
   "metadata": {},
   "outputs": [],
   "source": [
    "co_occurrence = Counter()\n",
    "window_size = 2\n",
    "\n",
    "for i in range(len(filtered_tokens) - window_size):\n",
    "    word_pair = tuple(filtered_tokens[i:i + window_size])\n",
    "    co_occurrence[word_pair] += 1"
   ]
  },
  {
   "cell_type": "code",
   "execution_count": 24,
   "metadata": {},
   "outputs": [
    {
     "data": {
      "text/plain": [
       "{'positive': 5, 'negative': 3, 'net': 2}"
      ]
     },
     "execution_count": 24,
     "metadata": {},
     "output_type": "execute_result"
    }
   ],
   "source": [
    "sentiment_scores"
   ]
  },
  {
   "cell_type": "markdown",
   "metadata": {},
   "source": [
    "El resultado sugiere un balance ligeramente positivo, adecuado para un discurso motivacional que busca inspirar a las tropas al enfocarse en la \"gloria\" y minimizar las \"penalidades\"."
   ]
  },
  {
   "cell_type": "code",
   "execution_count": 25,
   "metadata": {},
   "outputs": [
    {
     "data": {
      "text/plain": [
       "[(('macedonios', 'aliados'), 3),\n",
       " (('aliados', 'griegos'), 3),\n",
       " (('tierra', 'allá'), 2),\n",
       " (('mar', 'hircano'), 2),\n",
       " (('si', 'volvemos'), 2),\n",
       " (('griegos', 'ver'), 1),\n",
       " (('ver', 'seguís'), 1),\n",
       " (('seguís', 'designios'), 1),\n",
       " (('designios', 'arriesgados'), 1),\n",
       " (('arriesgados', 'determinación'), 1),\n",
       " (('determinación', 'igual'), 1),\n",
       " (('igual', 'animaba'), 1),\n",
       " (('animaba', 'reunido'), 1),\n",
       " (('reunido', 'mismo'), 1),\n",
       " (('mismo', 'lugar'), 1),\n",
       " (('lugar', 'ver'), 1),\n",
       " (('ver', 'si'), 1),\n",
       " (('si', 'puedo'), 1),\n",
       " (('puedo', 'persuadir'), 1),\n",
       " (('persuadir', 'continuar'), 1)]"
      ]
     },
     "execution_count": 25,
     "metadata": {},
     "output_type": "execute_result"
    }
   ],
   "source": [
    "co_occurrence.most_common(20)"
   ]
  },
  {
   "cell_type": "markdown",
   "metadata": {},
   "source": [
    "Las co-ocurrencias en el discurso destacan el fomento de la unidad, con frecuentes menciones de \"macedonios\" y \"aliados griegos\" que subrayan la importancia de la cohesión en su ejército dirverso. \n",
    "\n",
    "El enfoque en la expansión territorial, utilizando términos como \"tierra\" y \"allá\", refuerza la visión ambiciosa de nuevas conquistas e inspira a las tropas con la promesa de gloria. Además, Alejandro emplea estructuras condicionales, como \"si volvemos\", para contrastar las consecuencias de regresar con los beneficios de continuar, persuadiendo a las tropas de seguir adelante. \n",
    "\n",
    "Las demas co ocurrencias ya no tienen frecuencia superior de 1, pero resultan interesantes, como las frases que conectan la determinación y la valentía con \"designios arriesgados\""
   ]
  },
  {
   "cell_type": "markdown",
   "metadata": {},
   "source": [
    "Ahora veamoslo todo en conjunto para concluir"
   ]
  },
  {
   "cell_type": "code",
   "execution_count": 26,
   "metadata": {},
   "outputs": [
    {
     "data": {
      "text/plain": [
       "{'common_words': [('si', 9),\n",
       "  ('ser', 5),\n",
       "  ('aliados', 4),\n",
       "  ('griegos', 4),\n",
       "  ('sometido', 4),\n",
       "  ('allá', 4),\n",
       "  ('río', 4),\n",
       "  ('macedonios', 3),\n",
       "  ('libia', 3),\n",
       "  ('así', 3)],\n",
       " 'common_nouns': [('vosotros', 6),\n",
       "  ('tierra', 4),\n",
       "  ('río', 4),\n",
       "  ('macedonios', 3),\n",
       "  ('aliados', 3),\n",
       "  ('parte', 3),\n",
       "  ('naciones', 3),\n",
       "  ('hircania', 3),\n",
       "  ('mar', 3),\n",
       "  ('tierras', 3),\n",
       "  ('trabajos', 3),\n",
       "  ('océano', 3),\n",
       "  ('golfo', 3),\n",
       "  ('penalidades', 2),\n",
       "  ('país', 2),\n",
       "  ('hífasis', 2),\n",
       "  ('imperio', 2),\n",
       "  ('macedonia', 2),\n",
       "  ('esfuerzos', 2),\n",
       "  ('límites', 2)],\n",
       " 'sentiment_scores': {'positive': 5, 'negative': 3, 'net': 2},\n",
       " 'co_occurrence': [(('macedonios', 'aliados'), 3),\n",
       "  (('aliados', 'griegos'), 3),\n",
       "  (('tierra', 'allá'), 2),\n",
       "  (('mar', 'hircano'), 2),\n",
       "  (('si', 'volvemos'), 2),\n",
       "  (('griegos', 'ver'), 1),\n",
       "  (('ver', 'seguís'), 1),\n",
       "  (('seguís', 'designios'), 1),\n",
       "  (('designios', 'arriesgados'), 1),\n",
       "  (('arriesgados', 'determinación'), 1)]}"
      ]
     },
     "execution_count": 26,
     "metadata": {},
     "output_type": "execute_result"
    }
   ],
   "source": [
    "{\n",
    "    'common_words': common_words,\n",
    "    'common_nouns': common_nouns,\n",
    "    'sentiment_scores': sentiment_scores,\n",
    "    'co_occurrence': co_occurrence.most_common(10)\n",
    "}\n"
   ]
  },
  {
   "cell_type": "markdown",
   "metadata": {},
   "source": [
    "**Estructura Inclusiva:** El uso frecuente de \"vosotros\" y referencias directas a los soldados crea un tono inclusivo y personal, esencial para conectar emocionalmente con la tropa. Alejandro apela a su sentido de pertenencia y responsabilidad compartida.\n",
    "\n",
    "**Enfoque en la Conquista y la Expansión:** La repetición de términos relacionados con la geografía (\"tierra\", \"río\") y la expansión (\"más allá\") subraya la narrativa de la conquista continua, inspirando a los soldados con la promesa de nuevas tierras y gloria.\n",
    "\n",
    "**Unidad Multinacional:** La mención de diferentes grupos étnicos (\"macedonios\", \"aliados\", \"griegos\") destaca la necesidad de mantener la unidad entre las diversas fuerzas, sin duda esto desmotivó la rebelión que Alejandro sentía en las narices. Fue crucial para el éxito de sus campañas.\n",
    "\n",
    "**Balance Emocional:** El análisis de sentimientos muestra un balance ligeramente positivo, adecuado para un discurso motivacional que busca elevar la moral de las tropas. Alejandro enfatiza los logros y minimiza las dificultades, manteniendo un tono de esperanza y ambición.\n",
    "\n",
    "\n",
    "Pero bueno... un leve disclaimer: Este discurso le funcionó a Alejandro en el corto plazo, porque las tropas continuaron la marcha un poco más, pero finalmente, la resistencia y la fatiga prevalecieron. Las tropas se revelaron en el río Hífasis y lo forzaron a regresar a Babilonia...\n",
    "\n",
    "Aquí sin duda la conclusión más directa es que las promesas de gloria de Alejandro solo sirvieron para el impulso inicial y momentáneo  (\"vosotros\", \"gloria\", \"tierra\"), pero no lograron sostener la moral en condiciones extremas... Un poco de descanso quizá no lo habría forzado a regresar a Babilonia. "
   ]
  },
  {
   "cell_type": "markdown",
   "metadata": {
    "id": "4r-EvU5lIZo6"
   },
   "source": [
    "### EJERCICIO 4 Traductor años 90\n",
    "\n",
    "1. Utiliza las funcionalidades vistas en clase para crear un traductor palabra a palabra.\n",
    "\n",
    "    El resultado debe ser la traducción al inglés de la siguiente historia\n",
    "\n",
    "    \"indio querer hablar vaquero\"\n",
    "\n",
    "    \"vaquero disparar\"\n",
    "\n",
    "    \"vaquero hombre malo\"\n",
    "\n",
    "2. Ahora me gustaría saber como quedaría esta historia en japonés.\n",
    "\n",
    "    En las traspas tienes información importante sobre cómo hacerlo.\n",
    "\n",
    "    Pista: quizás debas dar un rodeo."
   ]
  },
  {
   "cell_type": "code",
   "execution_count": 27,
   "metadata": {
    "id": "V4otz_DjoDeo"
   },
   "outputs": [],
   "source": [
    "def translate_word_by_word(text, source_lang='es', target_lang='en'):\n",
    "    # Tokenizar el texto en palabras\n",
    "    words = word_tokenize(text, language='spanish')\n",
    "    \n",
    "    # Traducir cada palabra individualmente\n",
    "    translated_words = [GoogleTranslator(source=source_lang, target=target_lang).translate(word) for word in words]\n",
    "    \n",
    "    # Volver a unir las palabras traducidas en una sola cadena\n",
    "    translated_text = ' '.join(translated_words)\n",
    "    return translated_text"
   ]
  },
  {
   "cell_type": "markdown",
   "metadata": {},
   "source": [
    "Ahora, probémoslo"
   ]
  },
  {
   "cell_type": "code",
   "execution_count": 28,
   "metadata": {},
   "outputs": [],
   "source": [
    "phrases = [\n",
    "    \"indio querer hablar vaquero\",\n",
    "    \"vaquero disparar\",\n",
    "    \"vaquero hombre malo\"\n",
    "]\n",
    "\n",
    "translated_phrases = [translate_word_by_word(phrase) for phrase in phrases]"
   ]
  },
  {
   "cell_type": "code",
   "execution_count": 29,
   "metadata": {},
   "outputs": [
    {
     "name": "stdout",
     "output_type": "stream",
     "text": [
      "Original: indio querer hablar vaquero\n",
      "Traducido: Indian want talk cowboy\n",
      "\n",
      "Original: vaquero disparar\n",
      "Traducido: cowboy shoot\n",
      "\n",
      "Original: vaquero hombre malo\n",
      "Traducido: cowboy man bad\n",
      "\n"
     ]
    }
   ],
   "source": [
    "for original, translated in zip(phrases, translated_phrases):\n",
    "    print(f\"Original: {original}\")\n",
    "    print(f\"Traducido: {translated}\")\n",
    "    print()"
   ]
  },
  {
   "cell_type": "markdown",
   "metadata": {},
   "source": [
    "Ahora, en japonés..."
   ]
  },
  {
   "cell_type": "markdown",
   "metadata": {},
   "source": [
    "Con este punto solo pienso en: Desarrollo incremental y escalabilidad. Así que aplicaré POO (programacion orientada a objetos). \n",
    "\n",
    "Nota: No eliminare el desarrollo anterior, para explicitar la necesidad de implementar la logica POO cuando se quiere hacer un producto extensible que soporte la traducción a diferentes idiomas"
   ]
  },
  {
   "cell_type": "code",
   "execution_count": 30,
   "metadata": {},
   "outputs": [],
   "source": [
    "class WordByWordTranslator:\n",
    "    def __init__(self, source_lang='es', target_lang='en'):\n",
    "        self.source_lang = source_lang\n",
    "        self.target_lang = target_lang\n",
    "\n",
    "    def set_target_language(self, target_lang):\n",
    "        self.target_lang = target_lang\n",
    "\n",
    "    def translate(self, text):\n",
    "        words = word_tokenize(text, language='spanish')\n",
    "        translated_words = [GoogleTranslator(source=self.source_lang, target=self.target_lang).translate(word) for word in words]\n",
    "        translated_text = ' '.join(translated_words)\n",
    "        return translated_text"
   ]
  },
  {
   "cell_type": "code",
   "execution_count": 31,
   "metadata": {},
   "outputs": [],
   "source": [
    "translator = WordByWordTranslator()"
   ]
  },
  {
   "cell_type": "markdown",
   "metadata": {},
   "source": [
    "Ahora, probémoslo:"
   ]
  },
  {
   "cell_type": "code",
   "execution_count": 32,
   "metadata": {},
   "outputs": [
    {
     "name": "stdout",
     "output_type": "stream",
     "text": [
      "Traducción al inglés:\n",
      "Original: indio querer hablar vaquero\n",
      "Traducido: Indian want talk cowboy\n",
      "\n",
      "Original: vaquero disparar\n",
      "Traducido: cowboy shoot\n",
      "\n",
      "Original: vaquero hombre malo\n",
      "Traducido: cowboy man bad\n",
      "\n",
      "Traducción al japonés:\n",
      "Original: indio querer hablar vaquero\n",
      "Traducido: インド人 欲しい 話す カウボーイ\n",
      "\n",
      "Original: vaquero disparar\n",
      "Traducido: カウボーイ シュート\n",
      "\n",
      "Original: vaquero hombre malo\n",
      "Traducido: カウボーイ 男 悪い\n",
      "\n"
     ]
    }
   ],
   "source": [
    "# Traduzco las frases a inglés\n",
    "print(\"Traducción al inglés:\")\n",
    "for phrase in phrases:\n",
    "    print(f\"Original: {phrase}\")\n",
    "    print(f\"Traducido: {translator.translate(phrase)}\")\n",
    "    print()\n",
    "\n",
    "# Cambio el idioma de destino a japonés y traduzco nuevamente\n",
    "translator.set_target_language('ja')\n",
    "print(\"Traducción al japonés:\")\n",
    "for phrase in phrases:\n",
    "    print(f\"Original: {phrase}\")\n",
    "    print(f\"Traducido: {translator.translate(phrase)}\")\n",
    "    print()"
   ]
  },
  {
   "cell_type": "markdown",
   "metadata": {},
   "source": [
    "### EJERCICIO 5 Clasificador textos\n",
    "\n",
    "Modifica el código visto en clase (6 Clasificación Textos) para solucionar los dos problemas que encontramos. De cara a la entrega, crea una copia del fichero, modificalo y envíalo en la práctica. Comprueba que el fichero entero funciona correctamente antes de enviarlo.\n",
    "\n",
    "1. Adapta las funciones correspondientes para que a la hora de vectorizar si encontramos una palabra que no está en el vocabulario no se lance un error.\n",
    "\n",
    "2. Adapta las funciones o añade alguna nueva para que los textos a los que queremos asignar un sentimiento se preprocesen de forma correcta.\n",
    "\n",
    "**_Solución:_**"
   ]
  },
  {
   "cell_type": "markdown",
   "metadata": {},
   "source": [
    "### 1. Carga de datos"
   ]
  },
  {
   "cell_type": "code",
   "execution_count": 48,
   "metadata": {},
   "outputs": [],
   "source": [
    "## Críticas de películas\n",
    "g = open('data/reviews.txt','r') \n",
    "reviews = g.read().splitlines()\n",
    "g.close()\n",
    "\n",
    "## Sentimiento asociado\n",
    "g = open('data//labels.txt','r') # What we WANT to know!\n",
    "labels = g.read().upper().splitlines()\n",
    "g.close()"
   ]
  },
  {
   "cell_type": "code",
   "execution_count": 49,
   "metadata": {},
   "outputs": [
    {
     "data": {
      "text/plain": [
       "25000"
      ]
     },
     "execution_count": 49,
     "metadata": {},
     "output_type": "execute_result"
    }
   ],
   "source": [
    "len(reviews)"
   ]
  },
  {
   "cell_type": "code",
   "execution_count": 50,
   "metadata": {},
   "outputs": [
    {
     "data": {
      "text/plain": [
       "'story of a man who has unnatural feelings for a pig . starts out with a opening scene that is a terrific example of absurd comedy . a formal orchestra audience is turned into an insane  violent mob by the crazy chantings of it  s singers . unfortunately it stays absurd the whole time with no general narrative eventually making it just too off putting . even those from the era should be turned off . the cryptic dialogue would make shakespeare seem easy to a third grader . on a technical level it  s better than you might think with some good cinematography by future great vilmos zsigmond . future stars sally kirkland and frederic forrest can be seen briefly .  '"
      ]
     },
     "execution_count": 50,
     "metadata": {},
     "output_type": "execute_result"
    }
   ],
   "source": [
    "reviews[1]"
   ]
  },
  {
   "cell_type": "code",
   "execution_count": 51,
   "metadata": {},
   "outputs": [
    {
     "data": {
      "text/plain": [
       "25000"
      ]
     },
     "execution_count": 51,
     "metadata": {},
     "output_type": "execute_result"
    }
   ],
   "source": [
    "len(labels)"
   ]
  },
  {
   "cell_type": "code",
   "execution_count": 52,
   "metadata": {},
   "outputs": [
    {
     "data": {
      "text/plain": [
       "'NEGATIVE'"
      ]
     },
     "execution_count": 52,
     "metadata": {},
     "output_type": "execute_result"
    }
   ],
   "source": [
    "labels[1]"
   ]
  },
  {
   "cell_type": "code",
   "execution_count": 53,
   "metadata": {},
   "outputs": [],
   "source": [
    "def pretty_print_review_and_label(i):\n",
    "    print(labels[i] + \"\\t:\\t\" + reviews[i][:80] + \"...\")"
   ]
  },
  {
   "cell_type": "code",
   "execution_count": 54,
   "metadata": {},
   "outputs": [
    {
     "name": "stdout",
     "output_type": "stream",
     "text": [
      "labels.txt \t : \t reviews.txt\n",
      "\n",
      "NEGATIVE\t:\tthis movie is terrible but it has some good effects .  ...\n",
      "POSITIVE\t:\tadrian pasdar is excellent is this film . he makes a fascinating woman .  ...\n",
      "NEGATIVE\t:\tcomment this movie is impossible . is terrible  very improbable  bad interpretat...\n",
      "POSITIVE\t:\texcellent episode movie ala pulp fiction .  days   suicides . it doesnt get more...\n",
      "NEGATIVE\t:\tif you haven  t seen this  it  s terrible . it is pure trash . i saw this about ...\n",
      "POSITIVE\t:\tthis schiffer guy is a real genius  the movie is of excellent quality and both e...\n"
     ]
    }
   ],
   "source": [
    "print(\"labels.txt \\t : \\t reviews.txt\\n\")\n",
    "pretty_print_review_and_label(2137)\n",
    "pretty_print_review_and_label(12816)\n",
    "pretty_print_review_and_label(6267)\n",
    "pretty_print_review_and_label(21934)\n",
    "pretty_print_review_and_label(5297)\n",
    "pretty_print_review_and_label(4998)"
   ]
  },
  {
   "cell_type": "markdown",
   "metadata": {},
   "source": [
    "### 2. Análisis cuantitativo términos: ¿Qué términos aparecen en los comentarios positivos, cuales en los negativos y cuales aparecen en ambos?"
   ]
  },
  {
   "cell_type": "markdown",
   "metadata": {},
   "source": [
    "Vamos a utilizar la estructura Counter de python para ver cuantas veces aparece cada palabra en las críticas. Debajo tienes un ejemplo de como utilizar un contador."
   ]
  },
  {
   "cell_type": "markdown",
   "metadata": {},
   "source": [
    "https://docs.python.org/2/library/collections.html#collections.Counter"
   ]
  },
  {
   "cell_type": "code",
   "execution_count": 192,
   "metadata": {},
   "outputs": [
    {
     "data": {
      "text/plain": [
       "[('palabra2', 5), ('palabra1', 3)]"
      ]
     },
     "execution_count": 192,
     "metadata": {},
     "output_type": "execute_result"
    }
   ],
   "source": [
    "ex_count = Counter()\n",
    "ex_count['palabra1'] = 3\n",
    "ex_count['palabra2'] = 5\n",
    "ex_count.most_common()"
   ]
  },
  {
   "cell_type": "code",
   "execution_count": 193,
   "metadata": {},
   "outputs": [],
   "source": [
    "# Un contandor para cada tipo de review y uno total\n",
    "positive_counts = Counter()\n",
    "negative_counts = Counter()\n",
    "total_counts = Counter()"
   ]
  },
  {
   "cell_type": "code",
   "execution_count": 194,
   "metadata": {},
   "outputs": [],
   "source": [
    "# Crea un bucle que, para cada crítica, recorra sus palabras una a una e incremente en 1 el número de aparaciones.\n",
    "# Aumenta el contador siempre en total_counts y en positive_counts O en negative_counts dependiendo de si es una crítica\n",
    "# positiva o negativa\n",
    "\n",
    "for i in range(len(reviews)):\n",
    "    if(labels[i] == 'POSITIVE'):\n",
    "        for word in reviews[i].split(\" \"):\n",
    "            positive_counts[word] += 1\n",
    "            total_counts[word] += 1\n",
    "    else:\n",
    "        for word in reviews[i].split(\" \"):\n",
    "            negative_counts[word] += 1\n",
    "            total_counts[word] += 1"
   ]
  },
  {
   "cell_type": "code",
   "execution_count": 195,
   "metadata": {},
   "outputs": [
    {
     "data": {
      "text/plain": [
       "[('', 550468),\n",
       " ('the', 173324),\n",
       " ('.', 159654),\n",
       " ('and', 89722),\n",
       " ('a', 83688),\n",
       " ('of', 76855),\n",
       " ('to', 66746),\n",
       " ('is', 57245),\n",
       " ('in', 50215),\n",
       " ('br', 49235)]"
      ]
     },
     "execution_count": 195,
     "metadata": {},
     "output_type": "execute_result"
    }
   ],
   "source": [
    "positive_counts.most_common(10)"
   ]
  },
  {
   "cell_type": "code",
   "execution_count": 196,
   "metadata": {},
   "outputs": [
    {
     "data": {
      "text/plain": [
       "[('', 561462),\n",
       " ('.', 167538),\n",
       " ('the', 163389),\n",
       " ('a', 79321),\n",
       " ('and', 74385),\n",
       " ('of', 69009),\n",
       " ('to', 68974),\n",
       " ('br', 52637),\n",
       " ('is', 50083),\n",
       " ('it', 48327)]"
      ]
     },
     "execution_count": 196,
     "metadata": {},
     "output_type": "execute_result"
    }
   ],
   "source": [
    "negative_counts.most_common(10)"
   ]
  },
  {
   "cell_type": "code",
   "execution_count": 197,
   "metadata": {},
   "outputs": [
    {
     "data": {
      "text/plain": [
       "[('', 1111930),\n",
       " ('the', 336713),\n",
       " ('.', 327192),\n",
       " ('and', 164107),\n",
       " ('a', 163009),\n",
       " ('of', 145864),\n",
       " ('to', 135720),\n",
       " ('is', 107328),\n",
       " ('br', 101872),\n",
       " ('it', 96352)]"
      ]
     },
     "execution_count": 197,
     "metadata": {},
     "output_type": "execute_result"
    }
   ],
   "source": [
    "total_counts.most_common(10)"
   ]
  },
  {
   "cell_type": "markdown",
   "metadata": {},
   "source": [
    "El resultado del conteo muestra que las stopwords están presentes tanto en críticas positivas como en críticas negativas y pueden añadir ruido a la hora crear un modelo de clasificación. ¿Cómo podemos sacar aquellas palabras que son un indicador claro de que se trata de una crítica positiva o negativa?"
   ]
  },
  {
   "cell_type": "markdown",
   "metadata": {},
   "source": [
    "### 3. Análisis cuantitativo términos: Ratios"
   ]
  },
  {
   "cell_type": "markdown",
   "metadata": {},
   "source": [
    "Vamos a calcular los ratios de aparición de los términos de la siguiente manera: ratio = positive_counts/float(negative_counts + 1).\n",
    "\n",
    "**Nota**: vamos a trabajar unicamente con aquellos términos que **en total** aparecen 101 o más veces."
   ]
  },
  {
   "cell_type": "markdown",
   "metadata": {},
   "source": [
    "*   ¿Por qué ese +1 en el denominador?\n",
    "*   A bote pronto, ¿cómo interpretaríamos los resultados? ¿En qué rango se van a mover los ratios?\n",
    "\n"
   ]
  },
  {
   "cell_type": "code",
   "execution_count": 198,
   "metadata": {},
   "outputs": [],
   "source": [
    "pos_neg_ratios = Counter()\n",
    "\n",
    "# Calcula el ratio para los término más comunes\n",
    "for term, cnt in total_counts.most_common():\n",
    "    if cnt > 100:\n",
    "        pos_neg_ratio = positive_counts[term] / (negative_counts[term] + 1)\n",
    "        pos_neg_ratios[term] = pos_neg_ratio\n"
   ]
  },
  {
   "cell_type": "code",
   "execution_count": 199,
   "metadata": {},
   "outputs": [
    {
     "data": {
      "text/plain": [
       "[('edie', 109.0),\n",
       " ('paulie', 59.0),\n",
       " ('felix', 23.4),\n",
       " ('polanski', 16.833333333333332),\n",
       " ('matthau', 16.555555555555557),\n",
       " ('victoria', 14.6),\n",
       " ('mildred', 13.5),\n",
       " ('gandhi', 12.666666666666666),\n",
       " ('flawless', 11.6),\n",
       " ('superbly', 9.583333333333334),\n",
       " ('perfection', 8.666666666666666),\n",
       " ('astaire', 8.5),\n",
       " ('captures', 7.68),\n",
       " ('voight', 7.615384615384615),\n",
       " ('wonderfully', 7.552631578947368)]"
      ]
     },
     "execution_count": 199,
     "metadata": {},
     "output_type": "execute_result"
    }
   ],
   "source": [
    "pos_neg_ratios.most_common(15)"
   ]
  },
  {
   "cell_type": "code",
   "execution_count": 200,
   "metadata": {},
   "outputs": [
    {
     "name": "stdout",
     "output_type": "stream",
     "text": [
      "Pos-to-neg ratio for 'the' = 1.0607993145235326\n",
      "Pos-to-neg ratio for 'amazing' = 4.022813688212928\n",
      "Pos-to-neg ratio for 'terrible' = 0.17744252873563218\n"
     ]
    }
   ],
   "source": [
    "## Algunos ejemplos que nos ayudan a interpretar los resultados\n",
    "print(\"Pos-to-neg ratio for 'the' = {}\".format(pos_neg_ratios[\"the\"]))\n",
    "print(\"Pos-to-neg ratio for 'amazing' = {}\".format(pos_neg_ratios[\"amazing\"]))\n",
    "print(\"Pos-to-neg ratio for 'terrible' = {}\".format(pos_neg_ratios[\"terrible\"]))"
   ]
  },
  {
   "cell_type": "markdown",
   "metadata": {},
   "source": [
    "¿Qué problema tiene esta definición de ratio? ¿Cómo lo solucionamos?"
   ]
  },
  {
   "cell_type": "markdown",
   "metadata": {},
   "source": [
    "### 4. Análisis cuantitativo términos: Logaritmos"
   ]
  },
  {
   "cell_type": "markdown",
   "metadata": {},
   "source": [
    "Al aplicar logaritmos a los valores calculados en el apartado anterior hacemos que los valores por debajo de 1 pasen a ser negativos (y con valor absoluto más alto cuanto más cercanos a 0 sean) y además conseguimos que dos términos con frecuencias relativas parecidas pero en críticas de signo distinto tomen valores con valor absoluto parecido y signo contrario."
   ]
  },
  {
   "cell_type": "code",
   "execution_count": 201,
   "metadata": {},
   "outputs": [],
   "source": [
    "# Calcula el logaritmo de los ratios para todos los términos\n",
    "for term,ratio in list(pos_neg_ratios.most_common()):\n",
    "    pos_neg_ratios[term] = np.log(ratio)"
   ]
  },
  {
   "cell_type": "code",
   "execution_count": 202,
   "metadata": {},
   "outputs": [
    {
     "data": {
      "text/plain": [
       "[('edie', 4.6913478822291435),\n",
       " ('paulie', 4.07753744390572),\n",
       " ('felix', 3.152736022363656),\n",
       " ('polanski', 2.8233610476132043),\n",
       " ('matthau', 2.80672172860924),\n",
       " ('victoria', 2.681021528714291),\n",
       " ('mildred', 2.6026896854443837),\n",
       " ('gandhi', 2.538973871058276),\n",
       " ('flawless', 2.451005098112319),\n",
       " ('superbly', 2.26002547857525),\n",
       " ('perfection', 2.159484249353372),\n",
       " ('astaire', 2.1400661634962708),\n",
       " ('captures', 2.038619547159581),\n",
       " ('voight', 2.030170492673053),\n",
       " ('wonderfully', 2.0218960560332353)]"
      ]
     },
     "execution_count": 202,
     "metadata": {},
     "output_type": "execute_result"
    }
   ],
   "source": [
    "pos_neg_ratios.most_common(15)"
   ]
  },
  {
   "cell_type": "code",
   "execution_count": 203,
   "metadata": {},
   "outputs": [
    {
     "name": "stdout",
     "output_type": "stream",
     "text": [
      "Pos-to-neg ratio for 'the' = 0.05902269426102881\n",
      "Pos-to-neg ratio for 'amazing' = 1.3919815802404802\n",
      "Pos-to-neg ratio for 'terrible' = -1.7291085042663878\n"
     ]
    }
   ],
   "source": [
    "## Algunos ejemplos que nos ayudan a interpretar los resultados\n",
    "print(\"Pos-to-neg ratio for 'the' = {}\".format(pos_neg_ratios[\"the\"]))\n",
    "print(\"Pos-to-neg ratio for 'amazing' = {}\".format(pos_neg_ratios[\"amazing\"]))\n",
    "print(\"Pos-to-neg ratio for 'terrible' = {}\".format(pos_neg_ratios[\"terrible\"]))"
   ]
  },
  {
   "cell_type": "code",
   "execution_count": 204,
   "metadata": {},
   "outputs": [
    {
     "data": {
      "text/plain": [
       "[('boll', -4.969813299576001),\n",
       " ('uwe', -4.624972813284271),\n",
       " ('seagal', -3.644143560272545),\n",
       " ('unwatchable', -3.258096538021482),\n",
       " ('stinker', -3.2088254890146994),\n",
       " ('mst', -2.9502698994772336),\n",
       " ('incoherent', -2.9368917735310576),\n",
       " ('unfunny', -2.6922395950755678),\n",
       " ('waste', -2.6193845640165536),\n",
       " ('blah', -2.5704288232261625),\n",
       " ('horrid', -2.4849066497880004),\n",
       " ('pointless', -2.4553061800117097),\n",
       " ('atrocious', -2.4259083090260445),\n",
       " ('redeeming', -2.3682390632154826),\n",
       " ('prom', -2.3608540011180215),\n",
       " ('drivel', -2.3470368555648795),\n",
       " ('lousy', -2.307572634505085),\n",
       " ('worst', -2.286987896180378),\n",
       " ('laughable', -2.264363880173848),\n",
       " ('awful', -2.227194247027435),\n",
       " ('poorly', -2.2207550747464135),\n",
       " ('wasting', -2.204604684633842),\n",
       " ('remotely', -2.1972245773362196),\n",
       " ('existent', -2.0794415416798357),\n",
       " ('boredom', -1.995100393246085),\n",
       " ('miserably', -1.9924301646902063),\n",
       " ('sucks', -1.987068221548821),\n",
       " ('uninspired', -1.9832976811269336),\n",
       " ('lame', -1.981767458946166),\n",
       " ('insult', -1.978345424808467)]"
      ]
     },
     "execution_count": 204,
     "metadata": {},
     "output_type": "execute_result"
    }
   ],
   "source": [
    "pos_neg_ratios.most_common()[:-31:-1]"
   ]
  },
  {
   "cell_type": "markdown",
   "metadata": {},
   "source": [
    "### 5. Modelo de clasificación basado en bag of words"
   ]
  },
  {
   "cell_type": "markdown",
   "metadata": {},
   "source": [
    "Vamos a aplicar la técnica de bag of words paso a paso a cada una de las críticas con el objetivo de convertirlas en vectores numéricos que sirvan de features de un nuestro modelo.\n",
    "\n",
    "### Primer paso: construir el conjunto de palabras de nuestros vocabulario."
   ]
  },
  {
   "cell_type": "code",
   "execution_count": 205,
   "metadata": {},
   "outputs": [],
   "source": [
    "vocab = set(total_counts.keys())"
   ]
  },
  {
   "cell_type": "code",
   "execution_count": 206,
   "metadata": {},
   "outputs": [
    {
     "data": {
      "text/plain": [
       "74074"
      ]
     },
     "execution_count": 206,
     "metadata": {},
     "output_type": "execute_result"
    }
   ],
   "source": [
    "vocab_size = len(vocab)\n",
    "vocab_size"
   ]
  },
  {
   "cell_type": "markdown",
   "metadata": {},
   "source": [
    "#### Segundo paso: construímos un vector del tamaño de nuestro vocabulario. Para ganar tiempo lo creamos como un vector entero de 0s usando la función de numpy zeros()"
   ]
  },
  {
   "cell_type": "code",
   "execution_count": 207,
   "metadata": {},
   "outputs": [],
   "source": [
    "zeros = np.zeros(vocab_size)"
   ]
  },
  {
   "cell_type": "code",
   "execution_count": 208,
   "metadata": {},
   "outputs": [
    {
     "data": {
      "text/plain": [
       "array([0., 0., 0., ..., 0., 0., 0.])"
      ]
     },
     "execution_count": 208,
     "metadata": {},
     "output_type": "execute_result"
    }
   ],
   "source": [
    "zeros"
   ]
  },
  {
   "cell_type": "markdown",
   "metadata": {},
   "source": [
    "#### Tercer paso: asignar a cada palabra un índice del vector y crear una tabla maestra que guarde esta relación y nos permita crear fácilmente nuestros vectores."
   ]
  },
  {
   "cell_type": "code",
   "execution_count": 211,
   "metadata": {},
   "outputs": [
    {
     "data": {
      "text/plain": [
       "{'': 0,\n",
       " 'hazelhurst': 1,\n",
       " 'perce': 2,\n",
       " 'witching': 3,\n",
       " 'savingtheday': 4,\n",
       " 'outweight': 5,\n",
       " 'staten': 6,\n",
       " 'rename': 7,\n",
       " 'incisive': 8,\n",
       " 'builder': 9,\n",
       " 'column': 10,\n",
       " 'symbiont': 11,\n",
       " 'mil': 12,\n",
       " 'isabell': 13,\n",
       " 'leroi': 14,\n",
       " 'todays': 15,\n",
       " 'sniffles': 16,\n",
       " 'liberal': 17,\n",
       " 'dod': 18,\n",
       " 'griswald': 19,\n",
       " 'clinging': 20,\n",
       " 'dunnno': 21,\n",
       " 'rietman': 22,\n",
       " 'mohammad': 23,\n",
       " 'landing': 24,\n",
       " 'toasted': 25,\n",
       " 'bonhomie': 26,\n",
       " 'carnivals': 27,\n",
       " 'infect': 28,\n",
       " 'despicably': 29,\n",
       " 'kukuanaland': 30,\n",
       " 'fightfest': 31,\n",
       " 'collaborating': 32,\n",
       " 'augmenting': 33,\n",
       " 'whoah': 34,\n",
       " 'synonym': 35,\n",
       " 'uschi': 36,\n",
       " 'sandrine': 37,\n",
       " 'lambert': 38,\n",
       " 'imparting': 39,\n",
       " 'sovereignty': 40,\n",
       " 'drablow': 41,\n",
       " 'picky': 42,\n",
       " 'blackest': 43,\n",
       " 'landsman': 44,\n",
       " 'partes': 45,\n",
       " 'toshikazu': 46,\n",
       " 'transcription': 47,\n",
       " 'impressible': 48,\n",
       " 'caesar': 49,\n",
       " 'ably': 50,\n",
       " 'druid': 51,\n",
       " 'meaty': 52,\n",
       " 'scathed': 53,\n",
       " 'woodcuts': 54,\n",
       " 'babcock': 55,\n",
       " 'doritos': 56,\n",
       " 'beliveable': 57,\n",
       " 'disassembled': 58,\n",
       " 'closely': 59,\n",
       " 'gaspar': 60,\n",
       " 'drake': 61,\n",
       " 'averagey': 62,\n",
       " 'principality': 63,\n",
       " 'darnedest': 64,\n",
       " 'unenlightened': 65,\n",
       " 'frumpiness': 66,\n",
       " 'billboards': 67,\n",
       " 'mikhalkov': 68,\n",
       " 'sharabee': 69,\n",
       " 'databanks': 70,\n",
       " 'doug': 71,\n",
       " 'myiazaki': 72,\n",
       " 'garand': 73,\n",
       " 'peyton': 74,\n",
       " 'reproach': 75,\n",
       " 'grandness': 76,\n",
       " 'chainsaw': 77,\n",
       " 'multiplies': 78,\n",
       " 'puerto': 79,\n",
       " 'syncher': 80,\n",
       " 'rahad': 81,\n",
       " 'gradual': 82,\n",
       " 'symbolisms': 83,\n",
       " 'theyou': 84,\n",
       " 'eeuurrgghh': 85,\n",
       " 'museum': 86,\n",
       " 'contriving': 87,\n",
       " 'skynet': 88,\n",
       " 'cetera': 89,\n",
       " 'ruthie': 90,\n",
       " 'gumball': 91,\n",
       " 'absent': 92,\n",
       " 'tite': 93,\n",
       " 'nickleodeon': 94,\n",
       " 'meddle': 95,\n",
       " 'zapper': 96,\n",
       " 'paiva': 97,\n",
       " 'cimarron': 98,\n",
       " 'tm': 99,\n",
       " 'flinging': 100,\n",
       " 'harmful': 101,\n",
       " 'saul': 102,\n",
       " 'proofread': 103,\n",
       " 'avonlea': 104,\n",
       " 'guitarists': 105,\n",
       " 'bludge': 106,\n",
       " 'coronets': 107,\n",
       " 'disguising': 108,\n",
       " 'ginuea': 109,\n",
       " 'flirtations': 110,\n",
       " 'lps': 111,\n",
       " 'loveliness': 112,\n",
       " 'unclean': 113,\n",
       " 'horthy': 114,\n",
       " 'mcbeak': 115,\n",
       " 'ump': 116,\n",
       " 'syrian': 117,\n",
       " 'rib': 118,\n",
       " 'cloris': 119,\n",
       " 'polnareff': 120,\n",
       " 'camra': 121,\n",
       " 'culls': 122,\n",
       " 'snooze': 123,\n",
       " 'keighley': 124,\n",
       " 'devry': 125,\n",
       " 'screenin': 126,\n",
       " 'wwaste': 127,\n",
       " 'peruvians': 128,\n",
       " 'harlem': 129,\n",
       " 'cristies': 130,\n",
       " 'naboo': 131,\n",
       " 'emphasizes': 132,\n",
       " 'dolphins': 133,\n",
       " 'produce': 134,\n",
       " 'couldve': 135,\n",
       " 'buza': 136,\n",
       " 'bernardo': 137,\n",
       " 'kruishoop': 138,\n",
       " 'reluctant': 139,\n",
       " 'brunda': 140,\n",
       " 'sonya': 141,\n",
       " 'daisuke': 142,\n",
       " 'mcclain': 143,\n",
       " 'enoughand': 144,\n",
       " 'intersects': 145,\n",
       " 'gambit': 146,\n",
       " 'finlayson': 147,\n",
       " 'takemitsu': 148,\n",
       " 'poisons': 149,\n",
       " 'huckster': 150,\n",
       " 'proportionately': 151,\n",
       " 'seond': 152,\n",
       " 'clouts': 153,\n",
       " 'coral': 154,\n",
       " 'andromedia': 155,\n",
       " 'stretch': 156,\n",
       " 'guiness': 157,\n",
       " 'crushing': 158,\n",
       " 'calculate': 159,\n",
       " 'corey': 160,\n",
       " 'gazelle': 161,\n",
       " 'deviates': 162,\n",
       " 'eugenics': 163,\n",
       " 'planed': 164,\n",
       " 'pilate': 165,\n",
       " 'bezukhov': 166,\n",
       " 'recognizably': 167,\n",
       " 'violation': 168,\n",
       " 'nemisis': 169,\n",
       " 'grieves': 170,\n",
       " 'upsetting': 171,\n",
       " 'cardona': 172,\n",
       " 'memorials': 173,\n",
       " 'brentwood': 174,\n",
       " 'defiance': 175,\n",
       " 'entrapped': 176,\n",
       " 'delilah': 177,\n",
       " 'loyally': 178,\n",
       " 'nicholls': 179,\n",
       " 'dental': 180,\n",
       " 'chevalier': 181,\n",
       " 'nadija': 182,\n",
       " 'blackman': 183,\n",
       " 'outsmarted': 184,\n",
       " 'neurotically': 185,\n",
       " 'amassed': 186,\n",
       " 'becouse': 187,\n",
       " 'tellin': 188,\n",
       " 'ricky': 189,\n",
       " 'crusades': 190,\n",
       " 'refurbishing': 191,\n",
       " 'gambler': 192,\n",
       " 'yearns': 193,\n",
       " 'horrendousness': 194,\n",
       " 'oedipus': 195,\n",
       " 'natale': 196,\n",
       " 'zombiefication': 197,\n",
       " 'pudney': 198,\n",
       " 'alessandra': 199,\n",
       " 'shepis': 200,\n",
       " 'incertitude': 201,\n",
       " 'maricarmen': 202,\n",
       " 'trackers': 203,\n",
       " 'gordito': 204,\n",
       " 'workman': 205,\n",
       " 'candyshack': 206,\n",
       " 'ekin': 207,\n",
       " 'virginie': 208,\n",
       " 'conception': 209,\n",
       " 'carts': 210,\n",
       " 'khans': 211,\n",
       " 'weedy': 212,\n",
       " 'schoolmate': 213,\n",
       " 'rizwan': 214,\n",
       " 'urichfamily': 215,\n",
       " 'hardworker': 216,\n",
       " 'cherish': 217,\n",
       " 'brighten': 218,\n",
       " 'goomba': 219,\n",
       " 'tanner': 220,\n",
       " 'aleck': 221,\n",
       " 'thalman': 222,\n",
       " 'wererabbit': 223,\n",
       " 'lute': 224,\n",
       " 'pid': 225,\n",
       " 'smashes': 226,\n",
       " 'relatable': 227,\n",
       " 'communal': 228,\n",
       " 'samantha': 229,\n",
       " 'hussars': 230,\n",
       " 'wacked': 231,\n",
       " 'hinckley': 232,\n",
       " 'darin': 233,\n",
       " 'scattering': 234,\n",
       " 'valdano': 235,\n",
       " 'maharishi': 236,\n",
       " 'shiloh': 237,\n",
       " 'rowland': 238,\n",
       " 'downplayed': 239,\n",
       " 'debrise': 240,\n",
       " 'lender': 241,\n",
       " 'studmuffins': 242,\n",
       " 'triggers': 243,\n",
       " 'volt': 244,\n",
       " 'kohler': 245,\n",
       " 'thelma': 246,\n",
       " 'housewifes': 247,\n",
       " 'dreadcentral': 248,\n",
       " 'psalms': 249,\n",
       " 'calvero': 250,\n",
       " 'promotion': 251,\n",
       " 'stallonethat': 252,\n",
       " 'monroe': 253,\n",
       " 'andrej': 254,\n",
       " 'solidify': 255,\n",
       " 'fiorentino': 256,\n",
       " 'impersonal': 257,\n",
       " 'bergeres': 258,\n",
       " 'swindle': 259,\n",
       " 'rookies': 260,\n",
       " 'fulbright': 261,\n",
       " 'pounder': 262,\n",
       " 'azkaban': 263,\n",
       " 'zelig': 264,\n",
       " 'bathrooms': 265,\n",
       " 'sponsors': 266,\n",
       " 'bridegroom': 267,\n",
       " 'cheungs': 268,\n",
       " 'derric': 269,\n",
       " 'essence': 270,\n",
       " 'koch': 271,\n",
       " 'edda': 272,\n",
       " 'martialed': 273,\n",
       " 'unwise': 274,\n",
       " 'unhesitatingly': 275,\n",
       " 'freely': 276,\n",
       " 'veering': 277,\n",
       " 'dreadfully': 278,\n",
       " 'satyricon': 279,\n",
       " 'herein': 280,\n",
       " 'modern': 281,\n",
       " 'bureaucrats': 282,\n",
       " 'alexanders': 283,\n",
       " 'redid': 284,\n",
       " 'pcm': 285,\n",
       " 'summed': 286,\n",
       " 'bloodwork': 287,\n",
       " 'bisexuality': 288,\n",
       " 'saath': 289,\n",
       " 'flake': 290,\n",
       " 'soderburgh': 291,\n",
       " 'shadowless': 292,\n",
       " 'erbe': 293,\n",
       " 'lahaye': 294,\n",
       " 'gymnasium': 295,\n",
       " 'douchebag': 296,\n",
       " 'happyend': 297,\n",
       " 'knighthoods': 298,\n",
       " 'willing': 299,\n",
       " 'toppled': 300,\n",
       " 'holler': 301,\n",
       " 'sacking': 302,\n",
       " 'rogen': 303,\n",
       " 'utopia': 304,\n",
       " 'nukkin': 305,\n",
       " 'twine': 306,\n",
       " 'storm': 307,\n",
       " 'profitable': 308,\n",
       " 'incongruity': 309,\n",
       " 'avoided': 310,\n",
       " 'founded': 311,\n",
       " 'possible': 312,\n",
       " 'jackanape': 313,\n",
       " 'creditsand': 314,\n",
       " 'hiccups': 315,\n",
       " 'thepace': 316,\n",
       " 'functionally': 317,\n",
       " 'bifurcated': 318,\n",
       " 'unravels': 319,\n",
       " 'remonstration': 320,\n",
       " 'hangers': 321,\n",
       " 'mastrantonio': 322,\n",
       " 'wm': 323,\n",
       " 'proffering': 324,\n",
       " 'dispersement': 325,\n",
       " 'amayao': 326,\n",
       " 'tiffs': 327,\n",
       " 'yaoi': 328,\n",
       " 'dragonfly': 329,\n",
       " 'protiv': 330,\n",
       " 'provincial': 331,\n",
       " 'releases': 332,\n",
       " 'fatal': 333,\n",
       " 'litvak': 334,\n",
       " 'revived': 335,\n",
       " 'exeggcute': 336,\n",
       " 'centuries': 337,\n",
       " 'gruesomely': 338,\n",
       " 'bodybag': 339,\n",
       " 'lots': 340,\n",
       " 'airways': 341,\n",
       " 'unfathomable': 342,\n",
       " 'mechanized': 343,\n",
       " 'diggs': 344,\n",
       " 'vollins': 345,\n",
       " 'tanak': 346,\n",
       " 'mandala': 347,\n",
       " 'eriksson': 348,\n",
       " 'throne': 349,\n",
       " 'karns': 350,\n",
       " 'end': 351,\n",
       " 'endemic': 352,\n",
       " 'suspicion': 353,\n",
       " 'dubbing': 354,\n",
       " 'styling': 355,\n",
       " 'beringer': 356,\n",
       " 'rumore': 357,\n",
       " 'conniption': 358,\n",
       " 'human': 359,\n",
       " 'conti': 360,\n",
       " 'squint': 361,\n",
       " 'val': 362,\n",
       " 'norge': 363,\n",
       " 'walentin': 364,\n",
       " 'reception': 365,\n",
       " 'pocus': 366,\n",
       " 'shuttles': 367,\n",
       " 'beaumont': 368,\n",
       " 'never': 369,\n",
       " 'dez': 370,\n",
       " 'butchery': 371,\n",
       " 'unadorned': 372,\n",
       " 'crabtree': 373,\n",
       " 'sincerely': 374,\n",
       " 'fillion': 375,\n",
       " 'shakycam': 376,\n",
       " 'daena': 377,\n",
       " 'zaping': 378,\n",
       " 'soder': 379,\n",
       " 'totoro': 380,\n",
       " 'snuggly': 381,\n",
       " 'coating': 382,\n",
       " 'swankiest': 383,\n",
       " 'lightens': 384,\n",
       " 'childrens': 385,\n",
       " 'frocked': 386,\n",
       " 'seer': 387,\n",
       " 'enormous': 388,\n",
       " 'final': 389,\n",
       " 'nitric': 390,\n",
       " 'phoebus': 391,\n",
       " 'snoozing': 392,\n",
       " 'rippa': 393,\n",
       " 'reflexive': 394,\n",
       " 'ultimtum': 395,\n",
       " 'broadcasting': 396,\n",
       " 'condos': 397,\n",
       " 'halarity': 398,\n",
       " 'resented': 399,\n",
       " 'dips': 400,\n",
       " 'henchpeople': 401,\n",
       " 'uncronological': 402,\n",
       " 'unconscious': 403,\n",
       " 'lightsaber': 404,\n",
       " 'whiplash': 405,\n",
       " 'picture': 406,\n",
       " 'raines': 407,\n",
       " 'bumblebee': 408,\n",
       " 'rushing': 409,\n",
       " 'stolid': 410,\n",
       " 'slowwwwww': 411,\n",
       " 'demarol': 412,\n",
       " 'analise': 413,\n",
       " 'dion': 414,\n",
       " 'mclarty': 415,\n",
       " 'unplayable': 416,\n",
       " 'churchill': 417,\n",
       " 'illuminations': 418,\n",
       " 'overpowers': 419,\n",
       " 'clinton': 420,\n",
       " 'swartzenegger': 421,\n",
       " 'prison': 422,\n",
       " 'kidneys': 423,\n",
       " 'followed': 424,\n",
       " 'viewable': 425,\n",
       " 'marton': 426,\n",
       " 'wonder': 427,\n",
       " 'haired': 428,\n",
       " 'fibers': 429,\n",
       " 'ltr': 430,\n",
       " 'nanouk': 431,\n",
       " 'inauguration': 432,\n",
       " 'reactionsthe': 433,\n",
       " 'so': 434,\n",
       " 'continents': 435,\n",
       " 'abhor': 436,\n",
       " 'seinfeld': 437,\n",
       " 'flim': 438,\n",
       " 'burtis': 439,\n",
       " 'sonali': 440,\n",
       " 'awaiting': 441,\n",
       " 'sidekick': 442,\n",
       " 'weapon': 443,\n",
       " 'importances': 444,\n",
       " 'neilsen': 445,\n",
       " 'blowsy': 446,\n",
       " 'wiggins': 447,\n",
       " 'rdb': 448,\n",
       " 'veeru': 449,\n",
       " 'silhouetted': 450,\n",
       " 'herren': 451,\n",
       " 'milly': 452,\n",
       " 'melina': 453,\n",
       " 'futureworld': 454,\n",
       " 'bouchey': 455,\n",
       " 'cornish': 456,\n",
       " 'laughtrack': 457,\n",
       " 'whithnail': 458,\n",
       " 'luchi': 459,\n",
       " 'startles': 460,\n",
       " 'vats': 461,\n",
       " 'glenaan': 462,\n",
       " 'devereux': 463,\n",
       " 'whereever': 464,\n",
       " 'bravery': 465,\n",
       " 'edina': 466,\n",
       " 'herding': 467,\n",
       " 'bambies': 468,\n",
       " 'undertaker': 469,\n",
       " 'brokers': 470,\n",
       " 'rascal': 471,\n",
       " 'oceanfront': 472,\n",
       " 'sticks': 473,\n",
       " 'chan': 474,\n",
       " 'drifted': 475,\n",
       " 'normative': 476,\n",
       " 'vengeant': 477,\n",
       " 'roeper': 478,\n",
       " 'auxiliary': 479,\n",
       " 'vovchenko': 480,\n",
       " 'belush': 481,\n",
       " 'converted': 482,\n",
       " 'brainwaves': 483,\n",
       " 'succeeded': 484,\n",
       " 'shapes': 485,\n",
       " 'everybodies': 486,\n",
       " 'basting': 487,\n",
       " 'schooners': 488,\n",
       " 'rosenkavalier': 489,\n",
       " 'signaled': 490,\n",
       " 'ohlund': 491,\n",
       " 'akins': 492,\n",
       " 'vows': 493,\n",
       " 'cutiest': 494,\n",
       " 'freshened': 495,\n",
       " 'francie': 496,\n",
       " 'sheesh': 497,\n",
       " 'rakeesha': 498,\n",
       " 'scotia': 499,\n",
       " 'reenactment': 500,\n",
       " 'meecham': 501,\n",
       " 'heartbroken': 502,\n",
       " 'spierlberg': 503,\n",
       " 'rohal': 504,\n",
       " 'sirhan': 505,\n",
       " 'neuro': 506,\n",
       " 'mortal': 507,\n",
       " 'hops': 508,\n",
       " 'where': 509,\n",
       " 'titles': 510,\n",
       " 'willcock': 511,\n",
       " 'schoolteacher': 512,\n",
       " 'placing': 513,\n",
       " 'mockney': 514,\n",
       " 'afore': 515,\n",
       " 'micahel': 516,\n",
       " 'naked': 517,\n",
       " 'grushenka': 518,\n",
       " 'shout': 519,\n",
       " 'provokes': 520,\n",
       " 'socioty': 521,\n",
       " 'distributing': 522,\n",
       " 'shephard': 523,\n",
       " 'piquantly': 524,\n",
       " 'stormare': 525,\n",
       " 'serrault': 526,\n",
       " 'disappointmented': 527,\n",
       " 'kller': 528,\n",
       " 'accomplishes': 529,\n",
       " 'laughfest': 530,\n",
       " 'aggravating': 531,\n",
       " 'motif': 532,\n",
       " 'deputize': 533,\n",
       " 'experimenter': 534,\n",
       " 'rudolf': 535,\n",
       " 'shinae': 536,\n",
       " 'mained': 537,\n",
       " 'recruiters': 538,\n",
       " 'squeel': 539,\n",
       " 'uomini': 540,\n",
       " 'sport': 541,\n",
       " 'haig': 542,\n",
       " 'torment': 543,\n",
       " 'brightens': 544,\n",
       " 'togs': 545,\n",
       " 'deadly': 546,\n",
       " 'aakash': 547,\n",
       " 'creaks': 548,\n",
       " 'crawled': 549,\n",
       " 'herbs': 550,\n",
       " 'backbone': 551,\n",
       " 'ragtag': 552,\n",
       " 'swartz': 553,\n",
       " 'kenya': 554,\n",
       " 'deepest': 555,\n",
       " 'lameness': 556,\n",
       " 'alongside': 557,\n",
       " 'faaar': 558,\n",
       " 'nemsis': 559,\n",
       " 'perrineau': 560,\n",
       " 'infra': 561,\n",
       " 'debenning': 562,\n",
       " 'satuday': 563,\n",
       " 'mores': 564,\n",
       " 'revolta': 565,\n",
       " 'chapter': 566,\n",
       " 'holed': 567,\n",
       " '.': 568,\n",
       " 'friers': 569,\n",
       " 'takai': 570,\n",
       " 'demurring': 571,\n",
       " 'pedophilia': 572,\n",
       " 'lovecraft': 573,\n",
       " 'detour': 574,\n",
       " 'kip': 575,\n",
       " 'stage': 576,\n",
       " 'gusto': 577,\n",
       " 'trueblood': 578,\n",
       " 'cnd': 579,\n",
       " 'tintorera': 580,\n",
       " 'martyn': 581,\n",
       " 'farmzoid': 582,\n",
       " 'incomplete': 583,\n",
       " 'muzzle': 584,\n",
       " 'boobtube': 585,\n",
       " 'honours': 586,\n",
       " 'eliot': 587,\n",
       " 'penetrated': 588,\n",
       " 'djian': 589,\n",
       " 'joyless': 590,\n",
       " 'proto': 591,\n",
       " 'startle': 592,\n",
       " 'mcgarten': 593,\n",
       " 'sht': 594,\n",
       " 'custodial': 595,\n",
       " 'shirdan': 596,\n",
       " 'pablito': 597,\n",
       " 'nyqvist': 598,\n",
       " 'untrustworthy': 599,\n",
       " 'pothole': 600,\n",
       " 'resolutive': 601,\n",
       " 'schlussel': 602,\n",
       " 'rabbits': 603,\n",
       " 'poltergeist': 604,\n",
       " 'tustin': 605,\n",
       " 'getters': 606,\n",
       " 'gagnes': 607,\n",
       " 'contemperaneous': 608,\n",
       " 'morto': 609,\n",
       " 'antibiotics': 610,\n",
       " 'mamooth': 611,\n",
       " 'meanies': 612,\n",
       " 'seymore': 613,\n",
       " 'zombie': 614,\n",
       " 'competing': 615,\n",
       " 'sharpshooters': 616,\n",
       " 'christan': 617,\n",
       " 'ecologically': 618,\n",
       " 'wolfe': 619,\n",
       " 'seriousness': 620,\n",
       " 'redheads': 621,\n",
       " 'empowers': 622,\n",
       " 'upright': 623,\n",
       " 'doctors': 624,\n",
       " 'vitamins': 625,\n",
       " 'bullock': 626,\n",
       " 'breakers': 627,\n",
       " 'bestest': 628,\n",
       " 'hdn': 629,\n",
       " 'toll': 630,\n",
       " 'misinterpreted': 631,\n",
       " 'doom': 632,\n",
       " 'incorrigible': 633,\n",
       " 'loathable': 634,\n",
       " 'lunges': 635,\n",
       " 'eisenstein': 636,\n",
       " 'viewability': 637,\n",
       " 'lateral': 638,\n",
       " 'highlights': 639,\n",
       " 'transitional': 640,\n",
       " 'receieved': 641,\n",
       " 'cutlery': 642,\n",
       " 'condescend': 643,\n",
       " 'implausability': 644,\n",
       " 'botswana': 645,\n",
       " 'arseholes': 646,\n",
       " 'quire': 647,\n",
       " 'harrods': 648,\n",
       " 'bestsellers': 649,\n",
       " 'squalor': 650,\n",
       " 'complainant': 651,\n",
       " 'lorean': 652,\n",
       " 'breasted': 653,\n",
       " 'contradicting': 654,\n",
       " 'mexicanos': 655,\n",
       " 'reinforcements': 656,\n",
       " 'rigets': 657,\n",
       " 'bedchamber': 658,\n",
       " 'hutchence': 659,\n",
       " 'steenburgen': 660,\n",
       " 'collier': 661,\n",
       " 'gangee': 662,\n",
       " 'scrumptious': 663,\n",
       " 'magnficiant': 664,\n",
       " 'niece': 665,\n",
       " 'samedi': 666,\n",
       " 'local': 667,\n",
       " 'filmcritic': 668,\n",
       " 'terribly': 669,\n",
       " 'quato': 670,\n",
       " 'inescapable': 671,\n",
       " 'kitamura': 672,\n",
       " 'sleeping': 673,\n",
       " 'stair': 674,\n",
       " 'crisply': 675,\n",
       " 'halloway': 676,\n",
       " 'suspenser': 677,\n",
       " 'bonesetter': 678,\n",
       " 'sauvage': 679,\n",
       " 'blusters': 680,\n",
       " 'bruckheimer': 681,\n",
       " 'hostages': 682,\n",
       " 'warrior': 683,\n",
       " 'loveliest': 684,\n",
       " 'filmability': 685,\n",
       " 'magnavision': 686,\n",
       " 'alienates': 687,\n",
       " 'satiated': 688,\n",
       " 'jahfre': 689,\n",
       " 'dixie': 690,\n",
       " 'pooed': 691,\n",
       " 'mermaids': 692,\n",
       " 'hutch': 693,\n",
       " 'decore': 694,\n",
       " 'phoney': 695,\n",
       " 'slacker': 696,\n",
       " 'perfetta': 697,\n",
       " 'loveable': 698,\n",
       " 'belleville': 699,\n",
       " 'chummy': 700,\n",
       " 'cimino': 701,\n",
       " 'loops': 702,\n",
       " 'uncut': 703,\n",
       " 'proposed': 704,\n",
       " 'dunes': 705,\n",
       " 'trill': 706,\n",
       " 'conway': 707,\n",
       " 'creepshow': 708,\n",
       " 'btk': 709,\n",
       " 'preteens': 710,\n",
       " 'repackaging': 711,\n",
       " 'mondrians': 712,\n",
       " 'extorts': 713,\n",
       " 'twinkies': 714,\n",
       " 'uptade': 715,\n",
       " 'discontents': 716,\n",
       " 'decrementing': 717,\n",
       " 'mourby': 718,\n",
       " 'pakistani': 719,\n",
       " 'scavo': 720,\n",
       " 'colonialism': 721,\n",
       " 'racism': 722,\n",
       " 'birthmark': 723,\n",
       " 'greist': 724,\n",
       " 'jughead': 725,\n",
       " 'liable': 726,\n",
       " 'national': 727,\n",
       " 'photog': 728,\n",
       " 'hairpin': 729,\n",
       " 'aoi': 730,\n",
       " 'indiscretions': 731,\n",
       " 'abducting': 732,\n",
       " 'botanist': 733,\n",
       " 'kinng': 734,\n",
       " 'dibley': 735,\n",
       " 'shahid': 736,\n",
       " 'proboscis': 737,\n",
       " 'whirry': 738,\n",
       " 'pimples': 739,\n",
       " 'importing': 740,\n",
       " 'bobs': 741,\n",
       " 'ajay': 742,\n",
       " 'humble': 743,\n",
       " 'milling': 744,\n",
       " 'clouzot': 745,\n",
       " 'denies': 746,\n",
       " 'del': 747,\n",
       " 'emulating': 748,\n",
       " 'grumpiest': 749,\n",
       " 'swears': 750,\n",
       " 'decimal': 751,\n",
       " 'walter': 752,\n",
       " 'lodged': 753,\n",
       " 'dynasty': 754,\n",
       " 'benetakos': 755,\n",
       " 'manghattan': 756,\n",
       " 'helin': 757,\n",
       " 'carmichael': 758,\n",
       " 'waving': 759,\n",
       " 'beefs': 760,\n",
       " 'kinski': 761,\n",
       " 'goodwin': 762,\n",
       " 'visceral': 763,\n",
       " 'gethsemane': 764,\n",
       " 'ex': 765,\n",
       " 'underside': 766,\n",
       " 'eskimos': 767,\n",
       " 'vivah': 768,\n",
       " 'sheev': 769,\n",
       " 'baited': 770,\n",
       " 'deal': 771,\n",
       " 'spitted': 772,\n",
       " 'irritatingly': 773,\n",
       " 'our': 774,\n",
       " 'misusing': 775,\n",
       " 'jazzed': 776,\n",
       " 'sheen': 777,\n",
       " 'boomers': 778,\n",
       " 'maisie': 779,\n",
       " 'hangover': 780,\n",
       " 'mocked': 781,\n",
       " 'arbitrary': 782,\n",
       " 'existential': 783,\n",
       " 'astoria': 784,\n",
       " 'languorously': 785,\n",
       " 'symbolism': 786,\n",
       " 'zieglers': 787,\n",
       " 'trickiest': 788,\n",
       " 'thoughout': 789,\n",
       " 'resistant': 790,\n",
       " 'hodgkins': 791,\n",
       " 'simulations': 792,\n",
       " 'vindictively': 793,\n",
       " 'eggbeater': 794,\n",
       " 'onasis': 795,\n",
       " 'summary': 796,\n",
       " 'tobacconist': 797,\n",
       " 'muxmuschenstill': 798,\n",
       " 'expo': 799,\n",
       " 'kuan': 800,\n",
       " 'silliness': 801,\n",
       " 'interwiew': 802,\n",
       " 'geographical': 803,\n",
       " 'imaginaire': 804,\n",
       " 'sublimation': 805,\n",
       " 'mags': 806,\n",
       " 'milenia': 807,\n",
       " 'underacted': 808,\n",
       " 'laudrup': 809,\n",
       " 'yards': 810,\n",
       " 'dryzek': 811,\n",
       " 'objective': 812,\n",
       " 'homevideo': 813,\n",
       " 'middle': 814,\n",
       " 'voight': 815,\n",
       " 'emanates': 816,\n",
       " 'yuko': 817,\n",
       " 'apprehend': 818,\n",
       " 'bolt': 819,\n",
       " 'dancers': 820,\n",
       " 'civl': 821,\n",
       " 'billiards': 822,\n",
       " 'cronies': 823,\n",
       " 'dosage': 824,\n",
       " 'asst': 825,\n",
       " 'mir': 826,\n",
       " 'offside': 827,\n",
       " 'kit': 828,\n",
       " 'suoi': 829,\n",
       " 'screwloose': 830,\n",
       " 'insecure': 831,\n",
       " 'considered': 832,\n",
       " 'businessman': 833,\n",
       " 'hotter': 834,\n",
       " 'memoral': 835,\n",
       " 'mello': 836,\n",
       " 'dof': 837,\n",
       " 'hung': 838,\n",
       " 'garrick': 839,\n",
       " 'robotics': 840,\n",
       " 'mermaid': 841,\n",
       " 'wack': 842,\n",
       " 'handicaps': 843,\n",
       " 'encourage': 844,\n",
       " 'breakouts': 845,\n",
       " 'ive': 846,\n",
       " 'extrasmaking': 847,\n",
       " 'mcmahon': 848,\n",
       " 'pos': 849,\n",
       " 'buffalos': 850,\n",
       " 'palsy': 851,\n",
       " 'imperfection': 852,\n",
       " 'undirected': 853,\n",
       " 'invocations': 854,\n",
       " 'lachman': 855,\n",
       " 'eowyn': 856,\n",
       " 'pelle': 857,\n",
       " 'runtime': 858,\n",
       " 'cruiser': 859,\n",
       " 'blackness': 860,\n",
       " 'teir': 861,\n",
       " 'prescribe': 862,\n",
       " 'calvet': 863,\n",
       " 'sailormoon': 864,\n",
       " 'matelot': 865,\n",
       " 'disarmament': 866,\n",
       " 'hollywoodised': 867,\n",
       " 'carer': 868,\n",
       " 'foran': 869,\n",
       " 'escalate': 870,\n",
       " 'translated': 871,\n",
       " 'dionysian': 872,\n",
       " 'schoolkids': 873,\n",
       " 'craydon': 874,\n",
       " 'haskins': 875,\n",
       " 'stalone': 876,\n",
       " 'rid': 877,\n",
       " 'celibate': 878,\n",
       " 'salt': 879,\n",
       " 'monster': 880,\n",
       " 'winds': 881,\n",
       " 'resse': 882,\n",
       " 'lilies': 883,\n",
       " 'helpfuls': 884,\n",
       " 'vogues': 885,\n",
       " 'pasdar': 886,\n",
       " 'neofolk': 887,\n",
       " 'globalisation': 888,\n",
       " 'sandbox': 889,\n",
       " 'takeoffs': 890,\n",
       " 'collectibles': 891,\n",
       " 'striped': 892,\n",
       " 'nihilistically': 893,\n",
       " 'faire': 894,\n",
       " 'cassini': 895,\n",
       " 'composite': 896,\n",
       " 'shamoo': 897,\n",
       " 'fairs': 898,\n",
       " 'snags': 899,\n",
       " 'konstadinou': 900,\n",
       " 'savalas': 901,\n",
       " 'believ': 902,\n",
       " 'marlina': 903,\n",
       " 'stunning': 904,\n",
       " 'cheezy': 905,\n",
       " 'talespeter': 906,\n",
       " 'supercomputer': 907,\n",
       " 'macao': 908,\n",
       " 'encyclopedic': 909,\n",
       " 'brightening': 910,\n",
       " 'gaimans': 911,\n",
       " 'linklatter': 912,\n",
       " 'sherrybaby': 913,\n",
       " 'facilitates': 914,\n",
       " 'akosua': 915,\n",
       " 'timidly': 916,\n",
       " 'followups': 917,\n",
       " 'inequality': 918,\n",
       " 'guggenheim': 919,\n",
       " 'jindabyne': 920,\n",
       " 'karino': 921,\n",
       " 'mccann': 922,\n",
       " 'ethiopian': 923,\n",
       " 'whycome': 924,\n",
       " 'nekhron': 925,\n",
       " 'savanna': 926,\n",
       " 'numerical': 927,\n",
       " 'sprawled': 928,\n",
       " 'attract': 929,\n",
       " 'waggoner': 930,\n",
       " 'ty': 931,\n",
       " 'flowered': 932,\n",
       " 'enlarged': 933,\n",
       " 'catharsis': 934,\n",
       " 'slamdunk': 935,\n",
       " 'motley': 936,\n",
       " 'ramin': 937,\n",
       " 'kidnappedin': 938,\n",
       " 'rotoscopic': 939,\n",
       " 'dorm': 940,\n",
       " 'voss': 941,\n",
       " 'alien': 942,\n",
       " 'methuselah': 943,\n",
       " 'mesmorizingly': 944,\n",
       " 'gustad': 945,\n",
       " 'stargazing': 946,\n",
       " 'hamer': 947,\n",
       " 'raffs': 948,\n",
       " 'pertained': 949,\n",
       " 'jaayen': 950,\n",
       " 'twentieth': 951,\n",
       " 'bullsh': 952,\n",
       " 'jeane': 953,\n",
       " 'ralphy': 954,\n",
       " 'hattie': 955,\n",
       " 'auh': 956,\n",
       " 'misled': 957,\n",
       " 'inclusive': 958,\n",
       " 'riffing': 959,\n",
       " 'tenure': 960,\n",
       " 'dietrich': 961,\n",
       " 'diahnn': 962,\n",
       " 'huuuuuuuarrrrghhhhhh': 963,\n",
       " 'johannsson': 964,\n",
       " 'barabra': 965,\n",
       " 'swimfan': 966,\n",
       " 'lovell': 967,\n",
       " 'socks': 968,\n",
       " 'assante': 969,\n",
       " 'simmone': 970,\n",
       " 'gainey': 971,\n",
       " 'hrishita': 972,\n",
       " 'sichuan': 973,\n",
       " 'delimma': 974,\n",
       " 'miseries': 975,\n",
       " 'diwana': 976,\n",
       " 'haydn': 977,\n",
       " 'radical': 978,\n",
       " 'outskirts': 979,\n",
       " 'hemorrhage': 980,\n",
       " 'mammies': 981,\n",
       " 'genius': 982,\n",
       " 'fax': 983,\n",
       " 'daresay': 984,\n",
       " 'sensationalising': 985,\n",
       " 'polidori': 986,\n",
       " 'complimenting': 987,\n",
       " 'incapacity': 988,\n",
       " 'koreatown': 989,\n",
       " 'ursine': 990,\n",
       " 'corpsethe': 991,\n",
       " 'heckled': 992,\n",
       " 'laird': 993,\n",
       " 'gatt': 994,\n",
       " 'weightlifting': 995,\n",
       " 'dishing': 996,\n",
       " 'bargearse': 997,\n",
       " 'service': 998,\n",
       " 'banker': 999,\n",
       " ...}"
      ]
     },
     "execution_count": 211,
     "metadata": {},
     "output_type": "execute_result"
    }
   ],
   "source": [
    "# Creamos un diccionario que tiene como key la palabra y como valor el índice asociado\n",
    "word2index = {}\n",
    "for i,word in enumerate(vocab):\n",
    "    word2index[word.lower()] = i\n",
    "    \n",
    "word2index"
   ]
  },
  {
   "cell_type": "markdown",
   "metadata": {},
   "source": [
    "#### Cuarto paso: crear la función que dada una crítica devuelve un vector contando la frecuencia de las palabras utilizadas."
   ]
  },
  {
   "cell_type": "code",
   "execution_count": 173,
   "metadata": {},
   "outputs": [],
   "source": [
    "import warnings"
   ]
  },
  {
   "cell_type": "code",
   "execution_count": 212,
   "metadata": {},
   "outputs": [],
   "source": [
    "## Rellena la función que para crítica devuelve el vector asociado aplicando bag of words\n",
    "def bag_of_words(review):\n",
    "    v = np.zeros(vocab_size)\n",
    "\n",
    "    for word in review.split(\" \"):\n",
    "        word = word.lower()\n",
    "        if word in word2index:\n",
    "            v[word2index[word]] += 1\n",
    "        else:\n",
    "            import warnings\n",
    "            msg = f\"\"\"La palabra {word} no se encuentra en el diccionario construido durante el \n",
    "            entrenamiento. La vectorización de la frase se construye sin tener en cuenta la \n",
    "            existencia de esta palabra\"\"\"            \n",
    "            warnings.warn(msg)\n",
    "    return v"
   ]
  },
  {
   "cell_type": "code",
   "execution_count": 213,
   "metadata": {},
   "outputs": [
    {
     "data": {
      "text/plain": [
       "'bromwell high is a cartoon comedy . it ran at the same time as some other programs about school life  such as  teachers  . my   years in the teaching profession lead me to believe that bromwell high  s satire is much closer to reality than is  teachers  . the scramble to survive financially  the insightful students who can see right through their pathetic teachers  pomp  the pettiness of the whole situation  all remind me of the schools i knew and their students . when i saw the episode in which a student repeatedly tried to burn down the school  i immediately recalled . . . . . . . . . at . . . . . . . . . . high . a classic line inspector i  m here to sack one of your teachers . student welcome to bromwell high . i expect that many adults of my age think that bromwell high is far fetched . what a pity that it isn  t   '"
      ]
     },
     "execution_count": 213,
     "metadata": {},
     "output_type": "execute_result"
    }
   ],
   "source": [
    "reviews[0]"
   ]
  },
  {
   "cell_type": "code",
   "execution_count": 217,
   "metadata": {},
   "outputs": [
    {
     "data": {
      "text/plain": [
       "0"
      ]
     },
     "execution_count": 217,
     "metadata": {},
     "output_type": "execute_result"
    }
   ],
   "source": [
    "word2index[\"\"]"
   ]
  },
  {
   "cell_type": "markdown",
   "metadata": {},
   "source": [
    "#### Quinto paso: el target de nuestro modelo serán 1s y 0s. Vamos a crear una función que convierta los cadenas POSITIVE y NEGATIVE a 1 y 0."
   ]
  },
  {
   "cell_type": "code",
   "execution_count": 215,
   "metadata": {},
   "outputs": [],
   "source": [
    "## Rellena la función para que dada la etiqueta en forma de cadena devuelve el entero asociado\n",
    "def target_numerico(label):\n",
    "    return 1  if label == 'POSITIVE'else 0"
   ]
  },
  {
   "cell_type": "code",
   "execution_count": 216,
   "metadata": {},
   "outputs": [
    {
     "data": {
      "text/plain": [
       "1"
      ]
     },
     "execution_count": 216,
     "metadata": {},
     "output_type": "execute_result"
    }
   ],
   "source": [
    "target_numerico(labels[0])"
   ]
  },
  {
   "cell_type": "markdown",
   "metadata": {},
   "source": [
    "#### Sexto paso: dividimos los datos que tenemos en train y test (esta vez lo hacemos a ojo)."
   ]
  },
  {
   "cell_type": "code",
   "execution_count": 218,
   "metadata": {},
   "outputs": [
    {
     "name": "stdout",
     "output_type": "stream",
     "text": [
      "5000\n",
      "10000\n"
     ]
    }
   ],
   "source": [
    "training_size = 5000\n",
    "test_size = 10000\n",
    "training_rev = reviews[:training_size]\n",
    "training_lab = labels[:training_size]\n",
    "test_rev = reviews[-test_size:]\n",
    "test_lab = labels[-test_size:]\n",
    "print(len(training_lab))\n",
    "print(len(test_lab))"
   ]
  },
  {
   "cell_type": "code",
   "execution_count": 180,
   "metadata": {},
   "outputs": [
    {
     "name": "stdout",
     "output_type": "stream",
     "text": [
      "who in their right mind does anything so stupid as this movie   br    br   accidental killing of a security guard . . . characters that are so two dimensional that a two year old could have painted drawn them . . . and better . . .  br    br   a red toolbox of death  please . . . .  br    br   hypothermic weak thugs . . .  br    br   acting from hell . . .  br    br   stylistically this movie shifts between teen comedy  thriller  voyeurism and . . . female . . .  uhm  rambo   br    br   unbelievable and it  s an insult to any thinking person . do not watch  walk away it  s more horrible than you may imagine . . .  br    br   and on top of it all it  s trying to be hip by being overly graphic in it  s violence . . .  br    br   mrs montford shoot  em up was fun and funny  this is just pathetic and terrible . good luck next time .     \n",
      "who in their right mind does anything so stupid as this movie   br    br   accidental killing of a security guard . . . characters that are so two dimensional that a two year old could have painted drawn them . . . and better . . .  br    br   a red toolbox of death  please . . . .  br    br   hypothermic weak thugs . . .  br    br   acting from hell . . .  br    br   stylistically this movie shifts between teen comedy  thriller  voyeurism and . . . female . . .  uhm  rambo   br    br   unbelievable and it  s an insult to any thinking person . do not watch  walk away it  s more horrible than you may imagine . . .  br    br   and on top of it all it  s trying to be hip by being overly graphic in it  s violence . . .  br    br   mrs montford shoot  em up was fun and funny  this is just pathetic and terrible . good luck next time .     \n"
     ]
    }
   ],
   "source": [
    "print(training_rev[training_size-1])\n",
    "print(reviews[training_size-1])"
   ]
  },
  {
   "cell_type": "code",
   "execution_count": 181,
   "metadata": {},
   "outputs": [
    {
     "name": "stdout",
     "output_type": "stream",
     "text": [
      "this documentary  now available free on video . google . com  is a fantastic demonstration of the power of ordinary people to overcome injustice . everyone must see this .  br    br   chavez was elected in a landslide vote in     . his platform was to divert the fantastic oil wealth from the    middle class to the    poor . he banned foreign drift net fishing in venezuelan waters . he sent       cuban doctors to the slums to treat the sick for free . he wiped out illiteracy and set up new free universities .  br    br   but it was his    tax on oil company profits that got him in trouble with the bush administration . in      while irish film makers kim bartley and donnacha o  briain were interviewing chavez inside the presidential palace about his social programs  a cia backed coup was launched . with the cameras rolling  chavez was captured and flown out of the country . it was announced on national tv that he had  resigned  .  br    br   but the poor of venezuela didn  t believe the media . they went to the palace in their millions and demanded that chavez be returned . in the face of such overwhelming numbers  the military turned on the coup leaders and the plotters fled to the us . chavez was rescued by military helicopter and returned to jubilation .  \n",
      "this documentary  now available free on video . google . com  is a fantastic demonstration of the power of ordinary people to overcome injustice . everyone must see this .  br    br   chavez was elected in a landslide vote in     . his platform was to divert the fantastic oil wealth from the    middle class to the    poor . he banned foreign drift net fishing in venezuelan waters . he sent       cuban doctors to the slums to treat the sick for free . he wiped out illiteracy and set up new free universities .  br    br   but it was his    tax on oil company profits that got him in trouble with the bush administration . in      while irish film makers kim bartley and donnacha o  briain were interviewing chavez inside the presidential palace about his social programs  a cia backed coup was launched . with the cameras rolling  chavez was captured and flown out of the country . it was announced on national tv that he had  resigned  .  br    br   but the poor of venezuela didn  t believe the media . they went to the palace in their millions and demanded that chavez be returned . in the face of such overwhelming numbers  the military turned on the coup leaders and the plotters fled to the us . chavez was rescued by military helicopter and returned to jubilation .  \n"
     ]
    }
   ],
   "source": [
    "print(test_rev[0])\n",
    "print(reviews[-test_size])"
   ]
  },
  {
   "cell_type": "markdown",
   "metadata": {},
   "source": [
    "#### Séptimo paso: calculamos las matrices de entrenamiento y de test."
   ]
  },
  {
   "cell_type": "code",
   "execution_count": 182,
   "metadata": {},
   "outputs": [
    {
     "name": "stdout",
     "output_type": "stream",
     "text": [
      "(5000, 74074)\n"
     ]
    },
    {
     "data": {
      "text/plain": [
       "array([[18.,  0.,  0., ...,  0.,  0.,  0.],\n",
       "       [ 5.,  0.,  0., ...,  0.,  0.,  0.],\n",
       "       [78.,  0.,  0., ...,  0.,  0.,  0.],\n",
       "       ...,\n",
       "       [26.,  0.,  0., ...,  0.,  0.,  0.],\n",
       "       [10.,  0.,  0., ...,  0.,  0.,  0.],\n",
       "       [67.,  0.,  0., ...,  0.,  0.,  0.]])"
      ]
     },
     "execution_count": 182,
     "metadata": {},
     "output_type": "execute_result"
    }
   ],
   "source": [
    "X = np.empty((len(training_rev), vocab_size))\n",
    "print(X.shape)\n",
    "### Rellena X aquí\n",
    "for i in range(len(training_rev)):\n",
    "    X[i] = bag_of_words(training_rev[i])\n",
    "X"
   ]
  },
  {
   "cell_type": "code",
   "execution_count": 183,
   "metadata": {},
   "outputs": [
    {
     "name": "stdout",
     "output_type": "stream",
     "text": [
      "(10000, 74074)\n"
     ]
    },
    {
     "data": {
      "text/plain": [
       "array([[53.,  0.,  0., ...,  0.,  0.,  0.],\n",
       "       [72.,  0.,  0., ...,  0.,  0.,  0.],\n",
       "       [28.,  0.,  0., ...,  0.,  0.,  0.],\n",
       "       ...,\n",
       "       [52.,  0.,  0., ...,  0.,  0.,  0.],\n",
       "       [37.,  0.,  0., ...,  0.,  0.,  0.],\n",
       "       [24.,  0.,  0., ...,  0.,  0.,  0.]])"
      ]
     },
     "execution_count": 183,
     "metadata": {},
     "output_type": "execute_result"
    }
   ],
   "source": [
    "X_test = np.empty((len(test_rev), vocab_size))\n",
    "print(X_test.shape)\n",
    "# Rellena X_test aquí\n",
    "for i in range(len(test_rev)):\n",
    "    X_test[i] = bag_of_words(test_rev[i])\n",
    "X_test"
   ]
  },
  {
   "cell_type": "code",
   "execution_count": 219,
   "metadata": {},
   "outputs": [
    {
     "data": {
      "text/plain": [
       "['POSITIVE',\n",
       " 'NEGATIVE',\n",
       " 'POSITIVE',\n",
       " 'NEGATIVE',\n",
       " 'POSITIVE',\n",
       " 'NEGATIVE',\n",
       " 'POSITIVE',\n",
       " 'NEGATIVE',\n",
       " 'POSITIVE',\n",
       " 'NEGATIVE',\n",
       " 'POSITIVE',\n",
       " 'NEGATIVE',\n",
       " 'POSITIVE',\n",
       " 'NEGATIVE',\n",
       " 'POSITIVE',\n",
       " 'NEGATIVE',\n",
       " 'POSITIVE',\n",
       " 'NEGATIVE',\n",
       " 'POSITIVE',\n",
       " 'NEGATIVE',\n",
       " 'POSITIVE',\n",
       " 'NEGATIVE',\n",
       " 'POSITIVE',\n",
       " 'NEGATIVE',\n",
       " 'POSITIVE',\n",
       " 'NEGATIVE',\n",
       " 'POSITIVE',\n",
       " 'NEGATIVE',\n",
       " 'POSITIVE',\n",
       " 'NEGATIVE',\n",
       " 'POSITIVE',\n",
       " 'NEGATIVE',\n",
       " 'POSITIVE',\n",
       " 'NEGATIVE',\n",
       " 'POSITIVE',\n",
       " 'NEGATIVE',\n",
       " 'POSITIVE',\n",
       " 'NEGATIVE',\n",
       " 'POSITIVE',\n",
       " 'NEGATIVE',\n",
       " 'POSITIVE',\n",
       " 'NEGATIVE',\n",
       " 'POSITIVE',\n",
       " 'NEGATIVE',\n",
       " 'POSITIVE',\n",
       " 'NEGATIVE',\n",
       " 'POSITIVE',\n",
       " 'NEGATIVE',\n",
       " 'POSITIVE',\n",
       " 'NEGATIVE',\n",
       " 'POSITIVE',\n",
       " 'NEGATIVE',\n",
       " 'POSITIVE',\n",
       " 'NEGATIVE',\n",
       " 'POSITIVE',\n",
       " 'NEGATIVE',\n",
       " 'POSITIVE',\n",
       " 'NEGATIVE',\n",
       " 'POSITIVE',\n",
       " 'NEGATIVE',\n",
       " 'POSITIVE',\n",
       " 'NEGATIVE',\n",
       " 'POSITIVE',\n",
       " 'NEGATIVE',\n",
       " 'POSITIVE',\n",
       " 'NEGATIVE',\n",
       " 'POSITIVE',\n",
       " 'NEGATIVE',\n",
       " 'POSITIVE',\n",
       " 'NEGATIVE',\n",
       " 'POSITIVE',\n",
       " 'NEGATIVE',\n",
       " 'POSITIVE',\n",
       " 'NEGATIVE',\n",
       " 'POSITIVE',\n",
       " 'NEGATIVE',\n",
       " 'POSITIVE',\n",
       " 'NEGATIVE',\n",
       " 'POSITIVE',\n",
       " 'NEGATIVE',\n",
       " 'POSITIVE',\n",
       " 'NEGATIVE',\n",
       " 'POSITIVE',\n",
       " 'NEGATIVE',\n",
       " 'POSITIVE',\n",
       " 'NEGATIVE',\n",
       " 'POSITIVE',\n",
       " 'NEGATIVE',\n",
       " 'POSITIVE',\n",
       " 'NEGATIVE',\n",
       " 'POSITIVE',\n",
       " 'NEGATIVE',\n",
       " 'POSITIVE',\n",
       " 'NEGATIVE',\n",
       " 'POSITIVE',\n",
       " 'NEGATIVE',\n",
       " 'POSITIVE',\n",
       " 'NEGATIVE',\n",
       " 'POSITIVE',\n",
       " 'NEGATIVE',\n",
       " 'POSITIVE',\n",
       " 'NEGATIVE',\n",
       " 'POSITIVE',\n",
       " 'NEGATIVE',\n",
       " 'POSITIVE',\n",
       " 'NEGATIVE',\n",
       " 'POSITIVE',\n",
       " 'NEGATIVE',\n",
       " 'POSITIVE',\n",
       " 'NEGATIVE',\n",
       " 'POSITIVE',\n",
       " 'NEGATIVE',\n",
       " 'POSITIVE',\n",
       " 'NEGATIVE',\n",
       " 'POSITIVE',\n",
       " 'NEGATIVE',\n",
       " 'POSITIVE',\n",
       " 'NEGATIVE',\n",
       " 'POSITIVE',\n",
       " 'NEGATIVE',\n",
       " 'POSITIVE',\n",
       " 'NEGATIVE',\n",
       " 'POSITIVE',\n",
       " 'NEGATIVE',\n",
       " 'POSITIVE',\n",
       " 'NEGATIVE',\n",
       " 'POSITIVE',\n",
       " 'NEGATIVE',\n",
       " 'POSITIVE',\n",
       " 'NEGATIVE',\n",
       " 'POSITIVE',\n",
       " 'NEGATIVE',\n",
       " 'POSITIVE',\n",
       " 'NEGATIVE',\n",
       " 'POSITIVE',\n",
       " 'NEGATIVE',\n",
       " 'POSITIVE',\n",
       " 'NEGATIVE',\n",
       " 'POSITIVE',\n",
       " 'NEGATIVE',\n",
       " 'POSITIVE',\n",
       " 'NEGATIVE',\n",
       " 'POSITIVE',\n",
       " 'NEGATIVE',\n",
       " 'POSITIVE',\n",
       " 'NEGATIVE',\n",
       " 'POSITIVE',\n",
       " 'NEGATIVE',\n",
       " 'POSITIVE',\n",
       " 'NEGATIVE',\n",
       " 'POSITIVE',\n",
       " 'NEGATIVE',\n",
       " 'POSITIVE',\n",
       " 'NEGATIVE',\n",
       " 'POSITIVE',\n",
       " 'NEGATIVE',\n",
       " 'POSITIVE',\n",
       " 'NEGATIVE',\n",
       " 'POSITIVE',\n",
       " 'NEGATIVE',\n",
       " 'POSITIVE',\n",
       " 'NEGATIVE',\n",
       " 'POSITIVE',\n",
       " 'NEGATIVE',\n",
       " 'POSITIVE',\n",
       " 'NEGATIVE',\n",
       " 'POSITIVE',\n",
       " 'NEGATIVE',\n",
       " 'POSITIVE',\n",
       " 'NEGATIVE',\n",
       " 'POSITIVE',\n",
       " 'NEGATIVE',\n",
       " 'POSITIVE',\n",
       " 'NEGATIVE',\n",
       " 'POSITIVE',\n",
       " 'NEGATIVE',\n",
       " 'POSITIVE',\n",
       " 'NEGATIVE',\n",
       " 'POSITIVE',\n",
       " 'NEGATIVE',\n",
       " 'POSITIVE',\n",
       " 'NEGATIVE',\n",
       " 'POSITIVE',\n",
       " 'NEGATIVE',\n",
       " 'POSITIVE',\n",
       " 'NEGATIVE',\n",
       " 'POSITIVE',\n",
       " 'NEGATIVE',\n",
       " 'POSITIVE',\n",
       " 'NEGATIVE',\n",
       " 'POSITIVE',\n",
       " 'NEGATIVE',\n",
       " 'POSITIVE',\n",
       " 'NEGATIVE',\n",
       " 'POSITIVE',\n",
       " 'NEGATIVE',\n",
       " 'POSITIVE',\n",
       " 'NEGATIVE',\n",
       " 'POSITIVE',\n",
       " 'NEGATIVE',\n",
       " 'POSITIVE',\n",
       " 'NEGATIVE',\n",
       " 'POSITIVE',\n",
       " 'NEGATIVE',\n",
       " 'POSITIVE',\n",
       " 'NEGATIVE',\n",
       " 'POSITIVE',\n",
       " 'NEGATIVE',\n",
       " 'POSITIVE',\n",
       " 'NEGATIVE',\n",
       " 'POSITIVE',\n",
       " 'NEGATIVE',\n",
       " 'POSITIVE',\n",
       " 'NEGATIVE',\n",
       " 'POSITIVE',\n",
       " 'NEGATIVE',\n",
       " 'POSITIVE',\n",
       " 'NEGATIVE',\n",
       " 'POSITIVE',\n",
       " 'NEGATIVE',\n",
       " 'POSITIVE',\n",
       " 'NEGATIVE',\n",
       " 'POSITIVE',\n",
       " 'NEGATIVE',\n",
       " 'POSITIVE',\n",
       " 'NEGATIVE',\n",
       " 'POSITIVE',\n",
       " 'NEGATIVE',\n",
       " 'POSITIVE',\n",
       " 'NEGATIVE',\n",
       " 'POSITIVE',\n",
       " 'NEGATIVE',\n",
       " 'POSITIVE',\n",
       " 'NEGATIVE',\n",
       " 'POSITIVE',\n",
       " 'NEGATIVE',\n",
       " 'POSITIVE',\n",
       " 'NEGATIVE',\n",
       " 'POSITIVE',\n",
       " 'NEGATIVE',\n",
       " 'POSITIVE',\n",
       " 'NEGATIVE',\n",
       " 'POSITIVE',\n",
       " 'NEGATIVE',\n",
       " 'POSITIVE',\n",
       " 'NEGATIVE',\n",
       " 'POSITIVE',\n",
       " 'NEGATIVE',\n",
       " 'POSITIVE',\n",
       " 'NEGATIVE',\n",
       " 'POSITIVE',\n",
       " 'NEGATIVE',\n",
       " 'POSITIVE',\n",
       " 'NEGATIVE',\n",
       " 'POSITIVE',\n",
       " 'NEGATIVE',\n",
       " 'POSITIVE',\n",
       " 'NEGATIVE',\n",
       " 'POSITIVE',\n",
       " 'NEGATIVE',\n",
       " 'POSITIVE',\n",
       " 'NEGATIVE',\n",
       " 'POSITIVE',\n",
       " 'NEGATIVE',\n",
       " 'POSITIVE',\n",
       " 'NEGATIVE',\n",
       " 'POSITIVE',\n",
       " 'NEGATIVE',\n",
       " 'POSITIVE',\n",
       " 'NEGATIVE',\n",
       " 'POSITIVE',\n",
       " 'NEGATIVE',\n",
       " 'POSITIVE',\n",
       " 'NEGATIVE',\n",
       " 'POSITIVE',\n",
       " 'NEGATIVE',\n",
       " 'POSITIVE',\n",
       " 'NEGATIVE',\n",
       " 'POSITIVE',\n",
       " 'NEGATIVE',\n",
       " 'POSITIVE',\n",
       " 'NEGATIVE',\n",
       " 'POSITIVE',\n",
       " 'NEGATIVE',\n",
       " 'POSITIVE',\n",
       " 'NEGATIVE',\n",
       " 'POSITIVE',\n",
       " 'NEGATIVE',\n",
       " 'POSITIVE',\n",
       " 'NEGATIVE',\n",
       " 'POSITIVE',\n",
       " 'NEGATIVE',\n",
       " 'POSITIVE',\n",
       " 'NEGATIVE',\n",
       " 'POSITIVE',\n",
       " 'NEGATIVE',\n",
       " 'POSITIVE',\n",
       " 'NEGATIVE',\n",
       " 'POSITIVE',\n",
       " 'NEGATIVE',\n",
       " 'POSITIVE',\n",
       " 'NEGATIVE',\n",
       " 'POSITIVE',\n",
       " 'NEGATIVE',\n",
       " 'POSITIVE',\n",
       " 'NEGATIVE',\n",
       " 'POSITIVE',\n",
       " 'NEGATIVE',\n",
       " 'POSITIVE',\n",
       " 'NEGATIVE',\n",
       " 'POSITIVE',\n",
       " 'NEGATIVE',\n",
       " 'POSITIVE',\n",
       " 'NEGATIVE',\n",
       " 'POSITIVE',\n",
       " 'NEGATIVE',\n",
       " 'POSITIVE',\n",
       " 'NEGATIVE',\n",
       " 'POSITIVE',\n",
       " 'NEGATIVE',\n",
       " 'POSITIVE',\n",
       " 'NEGATIVE',\n",
       " 'POSITIVE',\n",
       " 'NEGATIVE',\n",
       " 'POSITIVE',\n",
       " 'NEGATIVE',\n",
       " 'POSITIVE',\n",
       " 'NEGATIVE',\n",
       " 'POSITIVE',\n",
       " 'NEGATIVE',\n",
       " 'POSITIVE',\n",
       " 'NEGATIVE',\n",
       " 'POSITIVE',\n",
       " 'NEGATIVE',\n",
       " 'POSITIVE',\n",
       " 'NEGATIVE',\n",
       " 'POSITIVE',\n",
       " 'NEGATIVE',\n",
       " 'POSITIVE',\n",
       " 'NEGATIVE',\n",
       " 'POSITIVE',\n",
       " 'NEGATIVE',\n",
       " 'POSITIVE',\n",
       " 'NEGATIVE',\n",
       " 'POSITIVE',\n",
       " 'NEGATIVE',\n",
       " 'POSITIVE',\n",
       " 'NEGATIVE',\n",
       " 'POSITIVE',\n",
       " 'NEGATIVE',\n",
       " 'POSITIVE',\n",
       " 'NEGATIVE',\n",
       " 'POSITIVE',\n",
       " 'NEGATIVE',\n",
       " 'POSITIVE',\n",
       " 'NEGATIVE',\n",
       " 'POSITIVE',\n",
       " 'NEGATIVE',\n",
       " 'POSITIVE',\n",
       " 'NEGATIVE',\n",
       " 'POSITIVE',\n",
       " 'NEGATIVE',\n",
       " 'POSITIVE',\n",
       " 'NEGATIVE',\n",
       " 'POSITIVE',\n",
       " 'NEGATIVE',\n",
       " 'POSITIVE',\n",
       " 'NEGATIVE',\n",
       " 'POSITIVE',\n",
       " 'NEGATIVE',\n",
       " 'POSITIVE',\n",
       " 'NEGATIVE',\n",
       " 'POSITIVE',\n",
       " 'NEGATIVE',\n",
       " 'POSITIVE',\n",
       " 'NEGATIVE',\n",
       " 'POSITIVE',\n",
       " 'NEGATIVE',\n",
       " 'POSITIVE',\n",
       " 'NEGATIVE',\n",
       " 'POSITIVE',\n",
       " 'NEGATIVE',\n",
       " 'POSITIVE',\n",
       " 'NEGATIVE',\n",
       " 'POSITIVE',\n",
       " 'NEGATIVE',\n",
       " 'POSITIVE',\n",
       " 'NEGATIVE',\n",
       " 'POSITIVE',\n",
       " 'NEGATIVE',\n",
       " 'POSITIVE',\n",
       " 'NEGATIVE',\n",
       " 'POSITIVE',\n",
       " 'NEGATIVE',\n",
       " 'POSITIVE',\n",
       " 'NEGATIVE',\n",
       " 'POSITIVE',\n",
       " 'NEGATIVE',\n",
       " 'POSITIVE',\n",
       " 'NEGATIVE',\n",
       " 'POSITIVE',\n",
       " 'NEGATIVE',\n",
       " 'POSITIVE',\n",
       " 'NEGATIVE',\n",
       " 'POSITIVE',\n",
       " 'NEGATIVE',\n",
       " 'POSITIVE',\n",
       " 'NEGATIVE',\n",
       " 'POSITIVE',\n",
       " 'NEGATIVE',\n",
       " 'POSITIVE',\n",
       " 'NEGATIVE',\n",
       " 'POSITIVE',\n",
       " 'NEGATIVE',\n",
       " 'POSITIVE',\n",
       " 'NEGATIVE',\n",
       " 'POSITIVE',\n",
       " 'NEGATIVE',\n",
       " 'POSITIVE',\n",
       " 'NEGATIVE',\n",
       " 'POSITIVE',\n",
       " 'NEGATIVE',\n",
       " 'POSITIVE',\n",
       " 'NEGATIVE',\n",
       " 'POSITIVE',\n",
       " 'NEGATIVE',\n",
       " 'POSITIVE',\n",
       " 'NEGATIVE',\n",
       " 'POSITIVE',\n",
       " 'NEGATIVE',\n",
       " 'POSITIVE',\n",
       " 'NEGATIVE',\n",
       " 'POSITIVE',\n",
       " 'NEGATIVE',\n",
       " 'POSITIVE',\n",
       " 'NEGATIVE',\n",
       " 'POSITIVE',\n",
       " 'NEGATIVE',\n",
       " 'POSITIVE',\n",
       " 'NEGATIVE',\n",
       " 'POSITIVE',\n",
       " 'NEGATIVE',\n",
       " 'POSITIVE',\n",
       " 'NEGATIVE',\n",
       " 'POSITIVE',\n",
       " 'NEGATIVE',\n",
       " 'POSITIVE',\n",
       " 'NEGATIVE',\n",
       " 'POSITIVE',\n",
       " 'NEGATIVE',\n",
       " 'POSITIVE',\n",
       " 'NEGATIVE',\n",
       " 'POSITIVE',\n",
       " 'NEGATIVE',\n",
       " 'POSITIVE',\n",
       " 'NEGATIVE',\n",
       " 'POSITIVE',\n",
       " 'NEGATIVE',\n",
       " 'POSITIVE',\n",
       " 'NEGATIVE',\n",
       " 'POSITIVE',\n",
       " 'NEGATIVE',\n",
       " 'POSITIVE',\n",
       " 'NEGATIVE',\n",
       " 'POSITIVE',\n",
       " 'NEGATIVE',\n",
       " 'POSITIVE',\n",
       " 'NEGATIVE',\n",
       " 'POSITIVE',\n",
       " 'NEGATIVE',\n",
       " 'POSITIVE',\n",
       " 'NEGATIVE',\n",
       " 'POSITIVE',\n",
       " 'NEGATIVE',\n",
       " 'POSITIVE',\n",
       " 'NEGATIVE',\n",
       " 'POSITIVE',\n",
       " 'NEGATIVE',\n",
       " 'POSITIVE',\n",
       " 'NEGATIVE',\n",
       " 'POSITIVE',\n",
       " 'NEGATIVE',\n",
       " 'POSITIVE',\n",
       " 'NEGATIVE',\n",
       " 'POSITIVE',\n",
       " 'NEGATIVE',\n",
       " 'POSITIVE',\n",
       " 'NEGATIVE',\n",
       " 'POSITIVE',\n",
       " 'NEGATIVE',\n",
       " 'POSITIVE',\n",
       " 'NEGATIVE',\n",
       " 'POSITIVE',\n",
       " 'NEGATIVE',\n",
       " 'POSITIVE',\n",
       " 'NEGATIVE',\n",
       " 'POSITIVE',\n",
       " 'NEGATIVE',\n",
       " 'POSITIVE',\n",
       " 'NEGATIVE',\n",
       " 'POSITIVE',\n",
       " 'NEGATIVE',\n",
       " 'POSITIVE',\n",
       " 'NEGATIVE',\n",
       " 'POSITIVE',\n",
       " 'NEGATIVE',\n",
       " 'POSITIVE',\n",
       " 'NEGATIVE',\n",
       " 'POSITIVE',\n",
       " 'NEGATIVE',\n",
       " 'POSITIVE',\n",
       " 'NEGATIVE',\n",
       " 'POSITIVE',\n",
       " 'NEGATIVE',\n",
       " 'POSITIVE',\n",
       " 'NEGATIVE',\n",
       " 'POSITIVE',\n",
       " 'NEGATIVE',\n",
       " 'POSITIVE',\n",
       " 'NEGATIVE',\n",
       " 'POSITIVE',\n",
       " 'NEGATIVE',\n",
       " 'POSITIVE',\n",
       " 'NEGATIVE',\n",
       " 'POSITIVE',\n",
       " 'NEGATIVE',\n",
       " 'POSITIVE',\n",
       " 'NEGATIVE',\n",
       " 'POSITIVE',\n",
       " 'NEGATIVE',\n",
       " 'POSITIVE',\n",
       " 'NEGATIVE',\n",
       " 'POSITIVE',\n",
       " 'NEGATIVE',\n",
       " 'POSITIVE',\n",
       " 'NEGATIVE',\n",
       " 'POSITIVE',\n",
       " 'NEGATIVE',\n",
       " 'POSITIVE',\n",
       " 'NEGATIVE',\n",
       " 'POSITIVE',\n",
       " 'NEGATIVE',\n",
       " 'POSITIVE',\n",
       " 'NEGATIVE',\n",
       " 'POSITIVE',\n",
       " 'NEGATIVE',\n",
       " 'POSITIVE',\n",
       " 'NEGATIVE',\n",
       " 'POSITIVE',\n",
       " 'NEGATIVE',\n",
       " 'POSITIVE',\n",
       " 'NEGATIVE',\n",
       " 'POSITIVE',\n",
       " 'NEGATIVE',\n",
       " 'POSITIVE',\n",
       " 'NEGATIVE',\n",
       " 'POSITIVE',\n",
       " 'NEGATIVE',\n",
       " 'POSITIVE',\n",
       " 'NEGATIVE',\n",
       " 'POSITIVE',\n",
       " 'NEGATIVE',\n",
       " 'POSITIVE',\n",
       " 'NEGATIVE',\n",
       " 'POSITIVE',\n",
       " 'NEGATIVE',\n",
       " 'POSITIVE',\n",
       " 'NEGATIVE',\n",
       " 'POSITIVE',\n",
       " 'NEGATIVE',\n",
       " 'POSITIVE',\n",
       " 'NEGATIVE',\n",
       " 'POSITIVE',\n",
       " 'NEGATIVE',\n",
       " 'POSITIVE',\n",
       " 'NEGATIVE',\n",
       " 'POSITIVE',\n",
       " 'NEGATIVE',\n",
       " 'POSITIVE',\n",
       " 'NEGATIVE',\n",
       " 'POSITIVE',\n",
       " 'NEGATIVE',\n",
       " 'POSITIVE',\n",
       " 'NEGATIVE',\n",
       " 'POSITIVE',\n",
       " 'NEGATIVE',\n",
       " 'POSITIVE',\n",
       " 'NEGATIVE',\n",
       " 'POSITIVE',\n",
       " 'NEGATIVE',\n",
       " 'POSITIVE',\n",
       " 'NEGATIVE',\n",
       " 'POSITIVE',\n",
       " 'NEGATIVE',\n",
       " 'POSITIVE',\n",
       " 'NEGATIVE',\n",
       " 'POSITIVE',\n",
       " 'NEGATIVE',\n",
       " 'POSITIVE',\n",
       " 'NEGATIVE',\n",
       " 'POSITIVE',\n",
       " 'NEGATIVE',\n",
       " 'POSITIVE',\n",
       " 'NEGATIVE',\n",
       " 'POSITIVE',\n",
       " 'NEGATIVE',\n",
       " 'POSITIVE',\n",
       " 'NEGATIVE',\n",
       " 'POSITIVE',\n",
       " 'NEGATIVE',\n",
       " 'POSITIVE',\n",
       " 'NEGATIVE',\n",
       " 'POSITIVE',\n",
       " 'NEGATIVE',\n",
       " 'POSITIVE',\n",
       " 'NEGATIVE',\n",
       " 'POSITIVE',\n",
       " 'NEGATIVE',\n",
       " 'POSITIVE',\n",
       " 'NEGATIVE',\n",
       " 'POSITIVE',\n",
       " 'NEGATIVE',\n",
       " 'POSITIVE',\n",
       " 'NEGATIVE',\n",
       " 'POSITIVE',\n",
       " 'NEGATIVE',\n",
       " 'POSITIVE',\n",
       " 'NEGATIVE',\n",
       " 'POSITIVE',\n",
       " 'NEGATIVE',\n",
       " 'POSITIVE',\n",
       " 'NEGATIVE',\n",
       " 'POSITIVE',\n",
       " 'NEGATIVE',\n",
       " 'POSITIVE',\n",
       " 'NEGATIVE',\n",
       " 'POSITIVE',\n",
       " 'NEGATIVE',\n",
       " 'POSITIVE',\n",
       " 'NEGATIVE',\n",
       " 'POSITIVE',\n",
       " 'NEGATIVE',\n",
       " 'POSITIVE',\n",
       " 'NEGATIVE',\n",
       " 'POSITIVE',\n",
       " 'NEGATIVE',\n",
       " 'POSITIVE',\n",
       " 'NEGATIVE',\n",
       " 'POSITIVE',\n",
       " 'NEGATIVE',\n",
       " 'POSITIVE',\n",
       " 'NEGATIVE',\n",
       " 'POSITIVE',\n",
       " 'NEGATIVE',\n",
       " 'POSITIVE',\n",
       " 'NEGATIVE',\n",
       " 'POSITIVE',\n",
       " 'NEGATIVE',\n",
       " 'POSITIVE',\n",
       " 'NEGATIVE',\n",
       " 'POSITIVE',\n",
       " 'NEGATIVE',\n",
       " 'POSITIVE',\n",
       " 'NEGATIVE',\n",
       " 'POSITIVE',\n",
       " 'NEGATIVE',\n",
       " 'POSITIVE',\n",
       " 'NEGATIVE',\n",
       " 'POSITIVE',\n",
       " 'NEGATIVE',\n",
       " 'POSITIVE',\n",
       " 'NEGATIVE',\n",
       " 'POSITIVE',\n",
       " 'NEGATIVE',\n",
       " 'POSITIVE',\n",
       " 'NEGATIVE',\n",
       " 'POSITIVE',\n",
       " 'NEGATIVE',\n",
       " 'POSITIVE',\n",
       " 'NEGATIVE',\n",
       " 'POSITIVE',\n",
       " 'NEGATIVE',\n",
       " 'POSITIVE',\n",
       " 'NEGATIVE',\n",
       " 'POSITIVE',\n",
       " 'NEGATIVE',\n",
       " 'POSITIVE',\n",
       " 'NEGATIVE',\n",
       " 'POSITIVE',\n",
       " 'NEGATIVE',\n",
       " 'POSITIVE',\n",
       " 'NEGATIVE',\n",
       " 'POSITIVE',\n",
       " 'NEGATIVE',\n",
       " 'POSITIVE',\n",
       " 'NEGATIVE',\n",
       " 'POSITIVE',\n",
       " 'NEGATIVE',\n",
       " 'POSITIVE',\n",
       " 'NEGATIVE',\n",
       " 'POSITIVE',\n",
       " 'NEGATIVE',\n",
       " 'POSITIVE',\n",
       " 'NEGATIVE',\n",
       " 'POSITIVE',\n",
       " 'NEGATIVE',\n",
       " 'POSITIVE',\n",
       " 'NEGATIVE',\n",
       " 'POSITIVE',\n",
       " 'NEGATIVE',\n",
       " 'POSITIVE',\n",
       " 'NEGATIVE',\n",
       " 'POSITIVE',\n",
       " 'NEGATIVE',\n",
       " 'POSITIVE',\n",
       " 'NEGATIVE',\n",
       " 'POSITIVE',\n",
       " 'NEGATIVE',\n",
       " 'POSITIVE',\n",
       " 'NEGATIVE',\n",
       " 'POSITIVE',\n",
       " 'NEGATIVE',\n",
       " 'POSITIVE',\n",
       " 'NEGATIVE',\n",
       " 'POSITIVE',\n",
       " 'NEGATIVE',\n",
       " 'POSITIVE',\n",
       " 'NEGATIVE',\n",
       " 'POSITIVE',\n",
       " 'NEGATIVE',\n",
       " 'POSITIVE',\n",
       " 'NEGATIVE',\n",
       " 'POSITIVE',\n",
       " 'NEGATIVE',\n",
       " 'POSITIVE',\n",
       " 'NEGATIVE',\n",
       " 'POSITIVE',\n",
       " 'NEGATIVE',\n",
       " 'POSITIVE',\n",
       " 'NEGATIVE',\n",
       " 'POSITIVE',\n",
       " 'NEGATIVE',\n",
       " 'POSITIVE',\n",
       " 'NEGATIVE',\n",
       " 'POSITIVE',\n",
       " 'NEGATIVE',\n",
       " 'POSITIVE',\n",
       " 'NEGATIVE',\n",
       " 'POSITIVE',\n",
       " 'NEGATIVE',\n",
       " 'POSITIVE',\n",
       " 'NEGATIVE',\n",
       " 'POSITIVE',\n",
       " 'NEGATIVE',\n",
       " 'POSITIVE',\n",
       " 'NEGATIVE',\n",
       " 'POSITIVE',\n",
       " 'NEGATIVE',\n",
       " 'POSITIVE',\n",
       " 'NEGATIVE',\n",
       " 'POSITIVE',\n",
       " 'NEGATIVE',\n",
       " 'POSITIVE',\n",
       " 'NEGATIVE',\n",
       " 'POSITIVE',\n",
       " 'NEGATIVE',\n",
       " 'POSITIVE',\n",
       " 'NEGATIVE',\n",
       " 'POSITIVE',\n",
       " 'NEGATIVE',\n",
       " 'POSITIVE',\n",
       " 'NEGATIVE',\n",
       " 'POSITIVE',\n",
       " 'NEGATIVE',\n",
       " 'POSITIVE',\n",
       " 'NEGATIVE',\n",
       " 'POSITIVE',\n",
       " 'NEGATIVE',\n",
       " 'POSITIVE',\n",
       " 'NEGATIVE',\n",
       " 'POSITIVE',\n",
       " 'NEGATIVE',\n",
       " 'POSITIVE',\n",
       " 'NEGATIVE',\n",
       " 'POSITIVE',\n",
       " 'NEGATIVE',\n",
       " 'POSITIVE',\n",
       " 'NEGATIVE',\n",
       " 'POSITIVE',\n",
       " 'NEGATIVE',\n",
       " 'POSITIVE',\n",
       " 'NEGATIVE',\n",
       " 'POSITIVE',\n",
       " 'NEGATIVE',\n",
       " 'POSITIVE',\n",
       " 'NEGATIVE',\n",
       " 'POSITIVE',\n",
       " 'NEGATIVE',\n",
       " 'POSITIVE',\n",
       " 'NEGATIVE',\n",
       " 'POSITIVE',\n",
       " 'NEGATIVE',\n",
       " 'POSITIVE',\n",
       " 'NEGATIVE',\n",
       " 'POSITIVE',\n",
       " 'NEGATIVE',\n",
       " 'POSITIVE',\n",
       " 'NEGATIVE',\n",
       " 'POSITIVE',\n",
       " 'NEGATIVE',\n",
       " 'POSITIVE',\n",
       " 'NEGATIVE',\n",
       " 'POSITIVE',\n",
       " 'NEGATIVE',\n",
       " 'POSITIVE',\n",
       " 'NEGATIVE',\n",
       " 'POSITIVE',\n",
       " 'NEGATIVE',\n",
       " 'POSITIVE',\n",
       " 'NEGATIVE',\n",
       " 'POSITIVE',\n",
       " 'NEGATIVE',\n",
       " 'POSITIVE',\n",
       " 'NEGATIVE',\n",
       " 'POSITIVE',\n",
       " 'NEGATIVE',\n",
       " 'POSITIVE',\n",
       " 'NEGATIVE',\n",
       " 'POSITIVE',\n",
       " 'NEGATIVE',\n",
       " 'POSITIVE',\n",
       " 'NEGATIVE',\n",
       " 'POSITIVE',\n",
       " 'NEGATIVE',\n",
       " 'POSITIVE',\n",
       " 'NEGATIVE',\n",
       " 'POSITIVE',\n",
       " 'NEGATIVE',\n",
       " 'POSITIVE',\n",
       " 'NEGATIVE',\n",
       " 'POSITIVE',\n",
       " 'NEGATIVE',\n",
       " 'POSITIVE',\n",
       " 'NEGATIVE',\n",
       " 'POSITIVE',\n",
       " 'NEGATIVE',\n",
       " 'POSITIVE',\n",
       " 'NEGATIVE',\n",
       " 'POSITIVE',\n",
       " 'NEGATIVE',\n",
       " 'POSITIVE',\n",
       " 'NEGATIVE',\n",
       " 'POSITIVE',\n",
       " 'NEGATIVE',\n",
       " 'POSITIVE',\n",
       " 'NEGATIVE',\n",
       " 'POSITIVE',\n",
       " 'NEGATIVE',\n",
       " 'POSITIVE',\n",
       " 'NEGATIVE',\n",
       " 'POSITIVE',\n",
       " 'NEGATIVE',\n",
       " 'POSITIVE',\n",
       " 'NEGATIVE',\n",
       " 'POSITIVE',\n",
       " 'NEGATIVE',\n",
       " 'POSITIVE',\n",
       " 'NEGATIVE',\n",
       " 'POSITIVE',\n",
       " 'NEGATIVE',\n",
       " 'POSITIVE',\n",
       " 'NEGATIVE',\n",
       " 'POSITIVE',\n",
       " 'NEGATIVE',\n",
       " 'POSITIVE',\n",
       " 'NEGATIVE',\n",
       " 'POSITIVE',\n",
       " 'NEGATIVE',\n",
       " 'POSITIVE',\n",
       " 'NEGATIVE',\n",
       " 'POSITIVE',\n",
       " 'NEGATIVE',\n",
       " 'POSITIVE',\n",
       " 'NEGATIVE',\n",
       " 'POSITIVE',\n",
       " 'NEGATIVE',\n",
       " 'POSITIVE',\n",
       " 'NEGATIVE',\n",
       " 'POSITIVE',\n",
       " 'NEGATIVE',\n",
       " 'POSITIVE',\n",
       " 'NEGATIVE',\n",
       " 'POSITIVE',\n",
       " 'NEGATIVE',\n",
       " 'POSITIVE',\n",
       " 'NEGATIVE',\n",
       " 'POSITIVE',\n",
       " 'NEGATIVE',\n",
       " 'POSITIVE',\n",
       " 'NEGATIVE',\n",
       " 'POSITIVE',\n",
       " 'NEGATIVE',\n",
       " 'POSITIVE',\n",
       " 'NEGATIVE',\n",
       " 'POSITIVE',\n",
       " 'NEGATIVE',\n",
       " 'POSITIVE',\n",
       " 'NEGATIVE',\n",
       " 'POSITIVE',\n",
       " 'NEGATIVE',\n",
       " 'POSITIVE',\n",
       " 'NEGATIVE',\n",
       " 'POSITIVE',\n",
       " 'NEGATIVE',\n",
       " 'POSITIVE',\n",
       " 'NEGATIVE',\n",
       " 'POSITIVE',\n",
       " 'NEGATIVE',\n",
       " 'POSITIVE',\n",
       " 'NEGATIVE',\n",
       " 'POSITIVE',\n",
       " 'NEGATIVE',\n",
       " 'POSITIVE',\n",
       " 'NEGATIVE',\n",
       " 'POSITIVE',\n",
       " 'NEGATIVE',\n",
       " 'POSITIVE',\n",
       " 'NEGATIVE',\n",
       " 'POSITIVE',\n",
       " 'NEGATIVE',\n",
       " 'POSITIVE',\n",
       " 'NEGATIVE',\n",
       " 'POSITIVE',\n",
       " 'NEGATIVE',\n",
       " 'POSITIVE',\n",
       " 'NEGATIVE',\n",
       " 'POSITIVE',\n",
       " 'NEGATIVE',\n",
       " 'POSITIVE',\n",
       " 'NEGATIVE',\n",
       " 'POSITIVE',\n",
       " 'NEGATIVE',\n",
       " 'POSITIVE',\n",
       " 'NEGATIVE',\n",
       " 'POSITIVE',\n",
       " 'NEGATIVE',\n",
       " 'POSITIVE',\n",
       " 'NEGATIVE',\n",
       " 'POSITIVE',\n",
       " 'NEGATIVE',\n",
       " 'POSITIVE',\n",
       " 'NEGATIVE',\n",
       " 'POSITIVE',\n",
       " 'NEGATIVE',\n",
       " 'POSITIVE',\n",
       " 'NEGATIVE',\n",
       " 'POSITIVE',\n",
       " 'NEGATIVE',\n",
       " 'POSITIVE',\n",
       " 'NEGATIVE',\n",
       " 'POSITIVE',\n",
       " 'NEGATIVE',\n",
       " 'POSITIVE',\n",
       " 'NEGATIVE',\n",
       " 'POSITIVE',\n",
       " 'NEGATIVE',\n",
       " 'POSITIVE',\n",
       " 'NEGATIVE',\n",
       " 'POSITIVE',\n",
       " 'NEGATIVE',\n",
       " 'POSITIVE',\n",
       " 'NEGATIVE',\n",
       " 'POSITIVE',\n",
       " 'NEGATIVE',\n",
       " 'POSITIVE',\n",
       " 'NEGATIVE',\n",
       " 'POSITIVE',\n",
       " 'NEGATIVE',\n",
       " 'POSITIVE',\n",
       " 'NEGATIVE',\n",
       " 'POSITIVE',\n",
       " 'NEGATIVE',\n",
       " 'POSITIVE',\n",
       " 'NEGATIVE',\n",
       " 'POSITIVE',\n",
       " 'NEGATIVE',\n",
       " 'POSITIVE',\n",
       " 'NEGATIVE',\n",
       " 'POSITIVE',\n",
       " 'NEGATIVE',\n",
       " 'POSITIVE',\n",
       " 'NEGATIVE',\n",
       " 'POSITIVE',\n",
       " 'NEGATIVE',\n",
       " 'POSITIVE',\n",
       " 'NEGATIVE',\n",
       " 'POSITIVE',\n",
       " 'NEGATIVE',\n",
       " 'POSITIVE',\n",
       " 'NEGATIVE',\n",
       " ...]"
      ]
     },
     "execution_count": 219,
     "metadata": {},
     "output_type": "execute_result"
    }
   ],
   "source": [
    "training_rev = reviews[:training_size]\n",
    "training_lab = labels[:training_size]\n",
    "test_rev = reviews[-test_size:]\n",
    "test_lab"
   ]
  },
  {
   "cell_type": "code",
   "execution_count": 220,
   "metadata": {},
   "outputs": [
    {
     "name": "stdout",
     "output_type": "stream",
     "text": [
      "(5000,)\n"
     ]
    },
    {
     "data": {
      "text/plain": [
       "array([1., 0., 1., ..., 0., 1., 0.])"
      ]
     },
     "execution_count": 220,
     "metadata": {},
     "output_type": "execute_result"
    }
   ],
   "source": [
    "y = np.empty((len(training_lab),))\n",
    "print(y.shape)\n",
    "# Rellena y aquí\n",
    "for i in range(len(training_lab)):\n",
    "    y[i] = target_numerico(training_lab[i])\n",
    "y"
   ]
  },
  {
   "cell_type": "code",
   "execution_count": 221,
   "metadata": {},
   "outputs": [
    {
     "name": "stdout",
     "output_type": "stream",
     "text": [
      "(10000,)\n"
     ]
    },
    {
     "data": {
      "text/plain": [
       "array([1., 0., 1., ..., 0., 1., 0.])"
      ]
     },
     "execution_count": 221,
     "metadata": {},
     "output_type": "execute_result"
    }
   ],
   "source": [
    "y_test = np.empty((len(test_lab),))\n",
    "print(y_test.shape)\n",
    "# Rellena y_test aquí\n",
    "for i in range(len(test_lab)):\n",
    "    y_test[i] = target_numerico(test_lab[i])\n",
    "y_test"
   ]
  },
  {
   "cell_type": "markdown",
   "metadata": {},
   "source": [
    "#### Octavo paso: entrenamos el modelo"
   ]
  },
  {
   "cell_type": "code",
   "execution_count": 222,
   "metadata": {},
   "outputs": [],
   "source": [
    "from sklearn import linear_model\n",
    "from sklearn import model_selection\n",
    "from sklearn.metrics import classification_report\n",
    "from sklearn.metrics import confusion_matrix\n",
    "from sklearn.metrics import accuracy_score"
   ]
  },
  {
   "cell_type": "code",
   "execution_count": 223,
   "metadata": {},
   "outputs": [
    {
     "name": "stderr",
     "output_type": "stream",
     "text": [
      "c:\\Users\\manu-\\AppData\\Local\\Programs\\Python\\Python312\\Lib\\site-packages\\sklearn\\linear_model\\_logistic.py:469: ConvergenceWarning: lbfgs failed to converge (status=1):\n",
      "STOP: TOTAL NO. of ITERATIONS REACHED LIMIT.\n",
      "\n",
      "Increase the number of iterations (max_iter) or scale the data as shown in:\n",
      "    https://scikit-learn.org/stable/modules/preprocessing.html\n",
      "Please also refer to the documentation for alternative solver options:\n",
      "    https://scikit-learn.org/stable/modules/linear_model.html#logistic-regression\n",
      "  n_iter_i = _check_optimize_result(\n"
     ]
    },
    {
     "data": {
      "text/html": [
       "<style>#sk-container-id-3 {\n",
       "  /* Definition of color scheme common for light and dark mode */\n",
       "  --sklearn-color-text: black;\n",
       "  --sklearn-color-line: gray;\n",
       "  /* Definition of color scheme for unfitted estimators */\n",
       "  --sklearn-color-unfitted-level-0: #fff5e6;\n",
       "  --sklearn-color-unfitted-level-1: #f6e4d2;\n",
       "  --sklearn-color-unfitted-level-2: #ffe0b3;\n",
       "  --sklearn-color-unfitted-level-3: chocolate;\n",
       "  /* Definition of color scheme for fitted estimators */\n",
       "  --sklearn-color-fitted-level-0: #f0f8ff;\n",
       "  --sklearn-color-fitted-level-1: #d4ebff;\n",
       "  --sklearn-color-fitted-level-2: #b3dbfd;\n",
       "  --sklearn-color-fitted-level-3: cornflowerblue;\n",
       "\n",
       "  /* Specific color for light theme */\n",
       "  --sklearn-color-text-on-default-background: var(--sg-text-color, var(--theme-code-foreground, var(--jp-content-font-color1, black)));\n",
       "  --sklearn-color-background: var(--sg-background-color, var(--theme-background, var(--jp-layout-color0, white)));\n",
       "  --sklearn-color-border-box: var(--sg-text-color, var(--theme-code-foreground, var(--jp-content-font-color1, black)));\n",
       "  --sklearn-color-icon: #696969;\n",
       "\n",
       "  @media (prefers-color-scheme: dark) {\n",
       "    /* Redefinition of color scheme for dark theme */\n",
       "    --sklearn-color-text-on-default-background: var(--sg-text-color, var(--theme-code-foreground, var(--jp-content-font-color1, white)));\n",
       "    --sklearn-color-background: var(--sg-background-color, var(--theme-background, var(--jp-layout-color0, #111)));\n",
       "    --sklearn-color-border-box: var(--sg-text-color, var(--theme-code-foreground, var(--jp-content-font-color1, white)));\n",
       "    --sklearn-color-icon: #878787;\n",
       "  }\n",
       "}\n",
       "\n",
       "#sk-container-id-3 {\n",
       "  color: var(--sklearn-color-text);\n",
       "}\n",
       "\n",
       "#sk-container-id-3 pre {\n",
       "  padding: 0;\n",
       "}\n",
       "\n",
       "#sk-container-id-3 input.sk-hidden--visually {\n",
       "  border: 0;\n",
       "  clip: rect(1px 1px 1px 1px);\n",
       "  clip: rect(1px, 1px, 1px, 1px);\n",
       "  height: 1px;\n",
       "  margin: -1px;\n",
       "  overflow: hidden;\n",
       "  padding: 0;\n",
       "  position: absolute;\n",
       "  width: 1px;\n",
       "}\n",
       "\n",
       "#sk-container-id-3 div.sk-dashed-wrapped {\n",
       "  border: 1px dashed var(--sklearn-color-line);\n",
       "  margin: 0 0.4em 0.5em 0.4em;\n",
       "  box-sizing: border-box;\n",
       "  padding-bottom: 0.4em;\n",
       "  background-color: var(--sklearn-color-background);\n",
       "}\n",
       "\n",
       "#sk-container-id-3 div.sk-container {\n",
       "  /* jupyter's `normalize.less` sets `[hidden] { display: none; }`\n",
       "     but bootstrap.min.css set `[hidden] { display: none !important; }`\n",
       "     so we also need the `!important` here to be able to override the\n",
       "     default hidden behavior on the sphinx rendered scikit-learn.org.\n",
       "     See: https://github.com/scikit-learn/scikit-learn/issues/21755 */\n",
       "  display: inline-block !important;\n",
       "  position: relative;\n",
       "}\n",
       "\n",
       "#sk-container-id-3 div.sk-text-repr-fallback {\n",
       "  display: none;\n",
       "}\n",
       "\n",
       "div.sk-parallel-item,\n",
       "div.sk-serial,\n",
       "div.sk-item {\n",
       "  /* draw centered vertical line to link estimators */\n",
       "  background-image: linear-gradient(var(--sklearn-color-text-on-default-background), var(--sklearn-color-text-on-default-background));\n",
       "  background-size: 2px 100%;\n",
       "  background-repeat: no-repeat;\n",
       "  background-position: center center;\n",
       "}\n",
       "\n",
       "/* Parallel-specific style estimator block */\n",
       "\n",
       "#sk-container-id-3 div.sk-parallel-item::after {\n",
       "  content: \"\";\n",
       "  width: 100%;\n",
       "  border-bottom: 2px solid var(--sklearn-color-text-on-default-background);\n",
       "  flex-grow: 1;\n",
       "}\n",
       "\n",
       "#sk-container-id-3 div.sk-parallel {\n",
       "  display: flex;\n",
       "  align-items: stretch;\n",
       "  justify-content: center;\n",
       "  background-color: var(--sklearn-color-background);\n",
       "  position: relative;\n",
       "}\n",
       "\n",
       "#sk-container-id-3 div.sk-parallel-item {\n",
       "  display: flex;\n",
       "  flex-direction: column;\n",
       "}\n",
       "\n",
       "#sk-container-id-3 div.sk-parallel-item:first-child::after {\n",
       "  align-self: flex-end;\n",
       "  width: 50%;\n",
       "}\n",
       "\n",
       "#sk-container-id-3 div.sk-parallel-item:last-child::after {\n",
       "  align-self: flex-start;\n",
       "  width: 50%;\n",
       "}\n",
       "\n",
       "#sk-container-id-3 div.sk-parallel-item:only-child::after {\n",
       "  width: 0;\n",
       "}\n",
       "\n",
       "/* Serial-specific style estimator block */\n",
       "\n",
       "#sk-container-id-3 div.sk-serial {\n",
       "  display: flex;\n",
       "  flex-direction: column;\n",
       "  align-items: center;\n",
       "  background-color: var(--sklearn-color-background);\n",
       "  padding-right: 1em;\n",
       "  padding-left: 1em;\n",
       "}\n",
       "\n",
       "\n",
       "/* Toggleable style: style used for estimator/Pipeline/ColumnTransformer box that is\n",
       "clickable and can be expanded/collapsed.\n",
       "- Pipeline and ColumnTransformer use this feature and define the default style\n",
       "- Estimators will overwrite some part of the style using the `sk-estimator` class\n",
       "*/\n",
       "\n",
       "/* Pipeline and ColumnTransformer style (default) */\n",
       "\n",
       "#sk-container-id-3 div.sk-toggleable {\n",
       "  /* Default theme specific background. It is overwritten whether we have a\n",
       "  specific estimator or a Pipeline/ColumnTransformer */\n",
       "  background-color: var(--sklearn-color-background);\n",
       "}\n",
       "\n",
       "/* Toggleable label */\n",
       "#sk-container-id-3 label.sk-toggleable__label {\n",
       "  cursor: pointer;\n",
       "  display: block;\n",
       "  width: 100%;\n",
       "  margin-bottom: 0;\n",
       "  padding: 0.5em;\n",
       "  box-sizing: border-box;\n",
       "  text-align: center;\n",
       "}\n",
       "\n",
       "#sk-container-id-3 label.sk-toggleable__label-arrow:before {\n",
       "  /* Arrow on the left of the label */\n",
       "  content: \"▸\";\n",
       "  float: left;\n",
       "  margin-right: 0.25em;\n",
       "  color: var(--sklearn-color-icon);\n",
       "}\n",
       "\n",
       "#sk-container-id-3 label.sk-toggleable__label-arrow:hover:before {\n",
       "  color: var(--sklearn-color-text);\n",
       "}\n",
       "\n",
       "/* Toggleable content - dropdown */\n",
       "\n",
       "#sk-container-id-3 div.sk-toggleable__content {\n",
       "  max-height: 0;\n",
       "  max-width: 0;\n",
       "  overflow: hidden;\n",
       "  text-align: left;\n",
       "  /* unfitted */\n",
       "  background-color: var(--sklearn-color-unfitted-level-0);\n",
       "}\n",
       "\n",
       "#sk-container-id-3 div.sk-toggleable__content.fitted {\n",
       "  /* fitted */\n",
       "  background-color: var(--sklearn-color-fitted-level-0);\n",
       "}\n",
       "\n",
       "#sk-container-id-3 div.sk-toggleable__content pre {\n",
       "  margin: 0.2em;\n",
       "  border-radius: 0.25em;\n",
       "  color: var(--sklearn-color-text);\n",
       "  /* unfitted */\n",
       "  background-color: var(--sklearn-color-unfitted-level-0);\n",
       "}\n",
       "\n",
       "#sk-container-id-3 div.sk-toggleable__content.fitted pre {\n",
       "  /* unfitted */\n",
       "  background-color: var(--sklearn-color-fitted-level-0);\n",
       "}\n",
       "\n",
       "#sk-container-id-3 input.sk-toggleable__control:checked~div.sk-toggleable__content {\n",
       "  /* Expand drop-down */\n",
       "  max-height: 200px;\n",
       "  max-width: 100%;\n",
       "  overflow: auto;\n",
       "}\n",
       "\n",
       "#sk-container-id-3 input.sk-toggleable__control:checked~label.sk-toggleable__label-arrow:before {\n",
       "  content: \"▾\";\n",
       "}\n",
       "\n",
       "/* Pipeline/ColumnTransformer-specific style */\n",
       "\n",
       "#sk-container-id-3 div.sk-label input.sk-toggleable__control:checked~label.sk-toggleable__label {\n",
       "  color: var(--sklearn-color-text);\n",
       "  background-color: var(--sklearn-color-unfitted-level-2);\n",
       "}\n",
       "\n",
       "#sk-container-id-3 div.sk-label.fitted input.sk-toggleable__control:checked~label.sk-toggleable__label {\n",
       "  background-color: var(--sklearn-color-fitted-level-2);\n",
       "}\n",
       "\n",
       "/* Estimator-specific style */\n",
       "\n",
       "/* Colorize estimator box */\n",
       "#sk-container-id-3 div.sk-estimator input.sk-toggleable__control:checked~label.sk-toggleable__label {\n",
       "  /* unfitted */\n",
       "  background-color: var(--sklearn-color-unfitted-level-2);\n",
       "}\n",
       "\n",
       "#sk-container-id-3 div.sk-estimator.fitted input.sk-toggleable__control:checked~label.sk-toggleable__label {\n",
       "  /* fitted */\n",
       "  background-color: var(--sklearn-color-fitted-level-2);\n",
       "}\n",
       "\n",
       "#sk-container-id-3 div.sk-label label.sk-toggleable__label,\n",
       "#sk-container-id-3 div.sk-label label {\n",
       "  /* The background is the default theme color */\n",
       "  color: var(--sklearn-color-text-on-default-background);\n",
       "}\n",
       "\n",
       "/* On hover, darken the color of the background */\n",
       "#sk-container-id-3 div.sk-label:hover label.sk-toggleable__label {\n",
       "  color: var(--sklearn-color-text);\n",
       "  background-color: var(--sklearn-color-unfitted-level-2);\n",
       "}\n",
       "\n",
       "/* Label box, darken color on hover, fitted */\n",
       "#sk-container-id-3 div.sk-label.fitted:hover label.sk-toggleable__label.fitted {\n",
       "  color: var(--sklearn-color-text);\n",
       "  background-color: var(--sklearn-color-fitted-level-2);\n",
       "}\n",
       "\n",
       "/* Estimator label */\n",
       "\n",
       "#sk-container-id-3 div.sk-label label {\n",
       "  font-family: monospace;\n",
       "  font-weight: bold;\n",
       "  display: inline-block;\n",
       "  line-height: 1.2em;\n",
       "}\n",
       "\n",
       "#sk-container-id-3 div.sk-label-container {\n",
       "  text-align: center;\n",
       "}\n",
       "\n",
       "/* Estimator-specific */\n",
       "#sk-container-id-3 div.sk-estimator {\n",
       "  font-family: monospace;\n",
       "  border: 1px dotted var(--sklearn-color-border-box);\n",
       "  border-radius: 0.25em;\n",
       "  box-sizing: border-box;\n",
       "  margin-bottom: 0.5em;\n",
       "  /* unfitted */\n",
       "  background-color: var(--sklearn-color-unfitted-level-0);\n",
       "}\n",
       "\n",
       "#sk-container-id-3 div.sk-estimator.fitted {\n",
       "  /* fitted */\n",
       "  background-color: var(--sklearn-color-fitted-level-0);\n",
       "}\n",
       "\n",
       "/* on hover */\n",
       "#sk-container-id-3 div.sk-estimator:hover {\n",
       "  /* unfitted */\n",
       "  background-color: var(--sklearn-color-unfitted-level-2);\n",
       "}\n",
       "\n",
       "#sk-container-id-3 div.sk-estimator.fitted:hover {\n",
       "  /* fitted */\n",
       "  background-color: var(--sklearn-color-fitted-level-2);\n",
       "}\n",
       "\n",
       "/* Specification for estimator info (e.g. \"i\" and \"?\") */\n",
       "\n",
       "/* Common style for \"i\" and \"?\" */\n",
       "\n",
       ".sk-estimator-doc-link,\n",
       "a:link.sk-estimator-doc-link,\n",
       "a:visited.sk-estimator-doc-link {\n",
       "  float: right;\n",
       "  font-size: smaller;\n",
       "  line-height: 1em;\n",
       "  font-family: monospace;\n",
       "  background-color: var(--sklearn-color-background);\n",
       "  border-radius: 1em;\n",
       "  height: 1em;\n",
       "  width: 1em;\n",
       "  text-decoration: none !important;\n",
       "  margin-left: 1ex;\n",
       "  /* unfitted */\n",
       "  border: var(--sklearn-color-unfitted-level-1) 1pt solid;\n",
       "  color: var(--sklearn-color-unfitted-level-1);\n",
       "}\n",
       "\n",
       ".sk-estimator-doc-link.fitted,\n",
       "a:link.sk-estimator-doc-link.fitted,\n",
       "a:visited.sk-estimator-doc-link.fitted {\n",
       "  /* fitted */\n",
       "  border: var(--sklearn-color-fitted-level-1) 1pt solid;\n",
       "  color: var(--sklearn-color-fitted-level-1);\n",
       "}\n",
       "\n",
       "/* On hover */\n",
       "div.sk-estimator:hover .sk-estimator-doc-link:hover,\n",
       ".sk-estimator-doc-link:hover,\n",
       "div.sk-label-container:hover .sk-estimator-doc-link:hover,\n",
       ".sk-estimator-doc-link:hover {\n",
       "  /* unfitted */\n",
       "  background-color: var(--sklearn-color-unfitted-level-3);\n",
       "  color: var(--sklearn-color-background);\n",
       "  text-decoration: none;\n",
       "}\n",
       "\n",
       "div.sk-estimator.fitted:hover .sk-estimator-doc-link.fitted:hover,\n",
       ".sk-estimator-doc-link.fitted:hover,\n",
       "div.sk-label-container:hover .sk-estimator-doc-link.fitted:hover,\n",
       ".sk-estimator-doc-link.fitted:hover {\n",
       "  /* fitted */\n",
       "  background-color: var(--sklearn-color-fitted-level-3);\n",
       "  color: var(--sklearn-color-background);\n",
       "  text-decoration: none;\n",
       "}\n",
       "\n",
       "/* Span, style for the box shown on hovering the info icon */\n",
       ".sk-estimator-doc-link span {\n",
       "  display: none;\n",
       "  z-index: 9999;\n",
       "  position: relative;\n",
       "  font-weight: normal;\n",
       "  right: .2ex;\n",
       "  padding: .5ex;\n",
       "  margin: .5ex;\n",
       "  width: min-content;\n",
       "  min-width: 20ex;\n",
       "  max-width: 50ex;\n",
       "  color: var(--sklearn-color-text);\n",
       "  box-shadow: 2pt 2pt 4pt #999;\n",
       "  /* unfitted */\n",
       "  background: var(--sklearn-color-unfitted-level-0);\n",
       "  border: .5pt solid var(--sklearn-color-unfitted-level-3);\n",
       "}\n",
       "\n",
       ".sk-estimator-doc-link.fitted span {\n",
       "  /* fitted */\n",
       "  background: var(--sklearn-color-fitted-level-0);\n",
       "  border: var(--sklearn-color-fitted-level-3);\n",
       "}\n",
       "\n",
       ".sk-estimator-doc-link:hover span {\n",
       "  display: block;\n",
       "}\n",
       "\n",
       "/* \"?\"-specific style due to the `<a>` HTML tag */\n",
       "\n",
       "#sk-container-id-3 a.estimator_doc_link {\n",
       "  float: right;\n",
       "  font-size: 1rem;\n",
       "  line-height: 1em;\n",
       "  font-family: monospace;\n",
       "  background-color: var(--sklearn-color-background);\n",
       "  border-radius: 1rem;\n",
       "  height: 1rem;\n",
       "  width: 1rem;\n",
       "  text-decoration: none;\n",
       "  /* unfitted */\n",
       "  color: var(--sklearn-color-unfitted-level-1);\n",
       "  border: var(--sklearn-color-unfitted-level-1) 1pt solid;\n",
       "}\n",
       "\n",
       "#sk-container-id-3 a.estimator_doc_link.fitted {\n",
       "  /* fitted */\n",
       "  border: var(--sklearn-color-fitted-level-1) 1pt solid;\n",
       "  color: var(--sklearn-color-fitted-level-1);\n",
       "}\n",
       "\n",
       "/* On hover */\n",
       "#sk-container-id-3 a.estimator_doc_link:hover {\n",
       "  /* unfitted */\n",
       "  background-color: var(--sklearn-color-unfitted-level-3);\n",
       "  color: var(--sklearn-color-background);\n",
       "  text-decoration: none;\n",
       "}\n",
       "\n",
       "#sk-container-id-3 a.estimator_doc_link.fitted:hover {\n",
       "  /* fitted */\n",
       "  background-color: var(--sklearn-color-fitted-level-3);\n",
       "}\n",
       "</style><div id=\"sk-container-id-3\" class=\"sk-top-container\"><div class=\"sk-text-repr-fallback\"><pre>LogisticRegression()</pre><b>In a Jupyter environment, please rerun this cell to show the HTML representation or trust the notebook. <br />On GitHub, the HTML representation is unable to render, please try loading this page with nbviewer.org.</b></div><div class=\"sk-container\" hidden><div class=\"sk-item\"><div class=\"sk-estimator fitted sk-toggleable\"><input class=\"sk-toggleable__control sk-hidden--visually\" id=\"sk-estimator-id-3\" type=\"checkbox\" checked><label for=\"sk-estimator-id-3\" class=\"sk-toggleable__label fitted sk-toggleable__label-arrow fitted\">&nbsp;&nbsp;LogisticRegression<a class=\"sk-estimator-doc-link fitted\" rel=\"noreferrer\" target=\"_blank\" href=\"https://scikit-learn.org/1.4/modules/generated/sklearn.linear_model.LogisticRegression.html\">?<span>Documentation for LogisticRegression</span></a><span class=\"sk-estimator-doc-link fitted\">i<span>Fitted</span></span></label><div class=\"sk-toggleable__content fitted\"><pre>LogisticRegression()</pre></div> </div></div></div></div>"
      ],
      "text/plain": [
       "LogisticRegression()"
      ]
     },
     "execution_count": 223,
     "metadata": {},
     "output_type": "execute_result"
    }
   ],
   "source": [
    "model = linear_model.LogisticRegression()\n",
    "model.fit(X,y)"
   ]
  },
  {
   "cell_type": "markdown",
   "metadata": {},
   "source": [
    "#### Noveno paso: aplicamos el predict sobre el conjunto de test y vemos qué tal funciona."
   ]
  },
  {
   "cell_type": "code",
   "execution_count": 224,
   "metadata": {},
   "outputs": [],
   "source": [
    "predictions = model.predict(X_test)"
   ]
  },
  {
   "cell_type": "code",
   "execution_count": 225,
   "metadata": {},
   "outputs": [
    {
     "data": {
      "text/plain": [
       "0.9984"
      ]
     },
     "execution_count": 225,
     "metadata": {},
     "output_type": "execute_result"
    }
   ],
   "source": [
    "model.score(X,y)"
   ]
  },
  {
   "cell_type": "code",
   "execution_count": 226,
   "metadata": {},
   "outputs": [
    {
     "data": {
      "text/plain": [
       "0.8405"
      ]
     },
     "execution_count": 226,
     "metadata": {},
     "output_type": "execute_result"
    }
   ],
   "source": [
    "model.score(X_test,y_test)"
   ]
  },
  {
   "cell_type": "code",
   "execution_count": 227,
   "metadata": {},
   "outputs": [
    {
     "name": "stdout",
     "output_type": "stream",
     "text": [
      "[[4324  676]\n",
      " [ 919 4081]]\n"
     ]
    }
   ],
   "source": [
    "print(confusion_matrix(y_test, predictions))"
   ]
  },
  {
   "cell_type": "code",
   "execution_count": 228,
   "metadata": {},
   "outputs": [
    {
     "name": "stdout",
     "output_type": "stream",
     "text": [
      "              precision    recall  f1-score   support\n",
      "\n",
      "         0.0       0.82      0.86      0.84      5000\n",
      "         1.0       0.86      0.82      0.84      5000\n",
      "\n",
      "    accuracy                           0.84     10000\n",
      "   macro avg       0.84      0.84      0.84     10000\n",
      "weighted avg       0.84      0.84      0.84     10000\n",
      "\n"
     ]
    }
   ],
   "source": [
    "print(classification_report(y_test, predictions))"
   ]
  },
  {
   "cell_type": "markdown",
   "metadata": {},
   "source": [
    "#### Decimo paso: preparamos el código para probar el modelo con cadenas nuevas."
   ]
  },
  {
   "cell_type": "code",
   "execution_count": 229,
   "metadata": {},
   "outputs": [],
   "source": [
    "# Rellena la función para, dada una crítica, aplicar el modelo que hemos entrenado\n",
    "# e imprimir POSITIVE/NEGATIVE\n",
    "def sentiment_analysis(review):\n",
    "    vector_input = np.empty((1, vocab_size))\n",
    "    vector_input[0] = bag_of_words(review)\n",
    "    pred = model.predict(vector_input)\n",
    "    if pred == 1:\n",
    "        print('POSITIVE')\n",
    "    else:\n",
    "        print('NEGATIVE')"
   ]
  },
  {
   "cell_type": "code",
   "execution_count": 230,
   "metadata": {},
   "outputs": [
    {
     "name": "stdout",
     "output_type": "stream",
     "text": [
      "NEGATIVE\n"
     ]
    }
   ],
   "source": [
    "sentiment_analysis('movie bad')"
   ]
  },
  {
   "cell_type": "code",
   "execution_count": 231,
   "metadata": {},
   "outputs": [
    {
     "name": "stdout",
     "output_type": "stream",
     "text": [
      "POSITIVE\n"
     ]
    }
   ],
   "source": [
    "sentiment_analysis('great movie i loved it')"
   ]
  },
  {
   "cell_type": "code",
   "execution_count": 232,
   "metadata": {},
   "outputs": [
    {
     "name": "stdout",
     "output_type": "stream",
     "text": [
      "POSITIVE\n"
     ]
    },
    {
     "name": "stderr",
     "output_type": "stream",
     "text": [
      "C:\\Users\\manu-\\AppData\\Local\\Temp\\ipykernel_34536\\1404890858.py:14: UserWarning: La palabra españa no se encuentra en el diccionario construido durante el \n",
      "            entrenamiento. La vectorización de la frase se construye sin tener en cuenta la \n",
      "            existencia de esta palabra\n",
      "  warnings.warn(msg)\n"
     ]
    }
   ],
   "source": [
    "sentiment_analysis('españa is very good')"
   ]
  },
  {
   "cell_type": "markdown",
   "metadata": {},
   "source": [
    "¿Qué hacemos con el error que se obtiene al meter una palabra que no está en el vocabulario? Solucionar este error es parte de la práctica de la asignatura."
   ]
  },
  {
   "cell_type": "markdown",
   "metadata": {},
   "source": [
    "Cuando una palabra no está en el vocabulario generado durante la fase de entrenamiento, no puede ser integrada en el vector de una frase que la contenga. Incluirla requeriría recalcular el diccionario completo, provocando su crecimiento constante, ya que siempre aparecerán términos nuevos según el texto en el que se haya basado dicho vocabulario.\n",
    "\n",
    "En estos casos, se decide formar el vector de la frase ignorando la nueva palabra. No es recomendable generar un error o detener el proceso, ya que una única palabra en una frase puede no cambiar completamente el significado y, aun sin representarla, se podría obtener una predicción adecuada. Sin embargo, esta elección depende del criterio del implementador y no puede considerarse absolutamente correcta o incorrecta.\n",
    "\n",
    "Para mantener la transparencia, es necesario emitir una advertencia cuando se omite una palabra desconocida. Esta práctica permite que el análisis continúe sin interrupciones y que el usuario del modelo esté al tanto de posibles limitaciones en el análisis."
   ]
  },
  {
   "cell_type": "code",
   "execution_count": 233,
   "metadata": {},
   "outputs": [
    {
     "name": "stdout",
     "output_type": "stream",
     "text": [
      "POSITIVE\n"
     ]
    }
   ],
   "source": [
    "sentiment_analysis('Cool movie')"
   ]
  },
  {
   "cell_type": "markdown",
   "metadata": {},
   "source": [
    "Pero si Cool si es una palabra inglesa. ¿Qué ocurre? ¿Cómo lo solucionamos? Esto también es parte de la práctica de la asignatura."
   ]
  },
  {
   "cell_type": "markdown",
   "metadata": {},
   "source": [
    "El inconveniente con la palabra \"Cool\" puede originarse debido a diversos factores, como un preprocesamiento inadecuado o una representación insuficiente en el conjunto de datos de entrenamiento.Aqui, se convierten todas las palabras a minúsculas durante el preprocesamiento para garantizar que una misma palabra, aunque esté escrita de manera diferente, se interprete de la misma forma. Hemos modificado la función bag_of_words para que considere este cambio y adicionalmente verifica si la palabra existe en el vocabulario.\n",
    "En caso de no estar, en lugar de generar un error, se muestra una advertencia indicando que dicha palabra no está en el vocabulario y por lo tanto, no se toma en cuenta para vectorizar una frase.\n",
    "\n"
   ]
  }
 ],
 "metadata": {
  "colab": {
   "provenance": []
  },
  "kernelspec": {
   "display_name": "Python 3 (ipykernel)",
   "language": "python",
   "name": "python3"
  },
  "language_info": {
   "codemirror_mode": {
    "name": "ipython",
    "version": 3
   },
   "file_extension": ".py",
   "mimetype": "text/x-python",
   "name": "python",
   "nbconvert_exporter": "python",
   "pygments_lexer": "ipython3",
   "version": "3.12.3"
  }
 },
 "nbformat": 4,
 "nbformat_minor": 4
}
