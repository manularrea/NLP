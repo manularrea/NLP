{
  "nbformat": 4,
  "nbformat_minor": 0,
  "metadata": {
    "colab": {
      "provenance": [],
      "machine_shape": "hm"
    },
    "kernelspec": {
      "name": "python3",
      "display_name": "Python 3"
    }
  },
  "cells": [
    {
      "cell_type": "markdown",
      "metadata": {
        "id": "svuzsW-c_Va0"
      },
      "source": [
        "Text Mining - 6. Clasificacion textos\n",
        "\n",
        "AFI - Máster en Data Science y Big Data\n",
        "\n",
        "Juan de Dios Romero Palop\n",
        "\n",
        "Abril 2024\n",
        "\n",
        "Source: Andrew Task, Udacity\n"
      ]
    },
    {
      "cell_type": "markdown",
      "metadata": {
        "id": "d5Y0tolWGdIo"
      },
      "source": [
        "### 1. Carga de datos"
      ]
    },
    {
      "cell_type": "code",
      "metadata": {
        "id": "eqOmYFCU_caw"
      },
      "source": [
        "## Críticas de películas\n",
        "g = open('/content/drive/My Drive/Colab Notebooks/AFI/Text Mining/reviews.txt','r')\n",
        "reviews = g.read().splitlines()\n",
        "g.close()\n",
        "\n",
        "## Sentimiento asociado\n",
        "g = open('/content/drive/My Drive/Colab Notebooks/AFI/Text Mining/labels.txt','r') # What we WANT to know!\n",
        "labels = g.read().upper().splitlines()\n",
        "g.close()"
      ],
      "execution_count": null,
      "outputs": []
    },
    {
      "cell_type": "code",
      "metadata": {
        "id": "sCNRyZge_q-S"
      },
      "source": [
        "len(reviews)"
      ],
      "execution_count": null,
      "outputs": []
    },
    {
      "cell_type": "code",
      "metadata": {
        "id": "m4-aZ98KApvE"
      },
      "source": [
        "reviews[1]"
      ],
      "execution_count": null,
      "outputs": []
    },
    {
      "cell_type": "code",
      "metadata": {
        "id": "_Sp0eh4FAgAm"
      },
      "source": [
        "len(labels)"
      ],
      "execution_count": null,
      "outputs": []
    },
    {
      "cell_type": "code",
      "metadata": {
        "id": "xsYwZbY8Alu3"
      },
      "source": [
        "labels[1]"
      ],
      "execution_count": null,
      "outputs": []
    },
    {
      "cell_type": "code",
      "metadata": {
        "id": "7NnpYsu8b9-9"
      },
      "source": [
        "def pretty_print_review_and_label(i):\n",
        "    print(labels[i] + \"\\t:\\t\" + reviews[i][:80] + \"...\")"
      ],
      "execution_count": null,
      "outputs": []
    },
    {
      "cell_type": "code",
      "metadata": {
        "nbpresent": {
          "id": "e67a709f-234f-4493-bae6-4fb192141ee0"
        },
        "id": "2uZIkLHR-658"
      },
      "source": [
        "print(\"labels.txt \\t : \\t reviews.txt\\n\")\n",
        "pretty_print_review_and_label(2137)\n",
        "pretty_print_review_and_label(12816)\n",
        "pretty_print_review_and_label(6267)\n",
        "pretty_print_review_and_label(21934)\n",
        "pretty_print_review_and_label(5297)\n",
        "pretty_print_review_and_label(4998)"
      ],
      "execution_count": null,
      "outputs": []
    },
    {
      "cell_type": "markdown",
      "metadata": {
        "id": "sLGTusxtGV87"
      },
      "source": [
        "### 2. Análisis cuantitativo términos: ¿Qué términos aparecen en los comentarios positivos, cuales en los negativos y cuales aparecen en ambos?"
      ]
    },
    {
      "cell_type": "code",
      "metadata": {
        "id": "nlqB8_qn-66C"
      },
      "source": [
        "from collections import Counter\n",
        "import numpy as np"
      ],
      "execution_count": null,
      "outputs": []
    },
    {
      "cell_type": "markdown",
      "metadata": {
        "id": "M91OwP4ecNyN"
      },
      "source": [
        "Vamos a utilizar la estructura Counter de python para ver cuantas veces aparece cada palabra en las críticas. Debajo tienes un ejemplo de como utilizar un contador."
      ]
    },
    {
      "cell_type": "markdown",
      "metadata": {
        "id": "dbZsxhiYcvuc"
      },
      "source": [
        "https://docs.python.org/2/library/collections.html#collections.Counter"
      ]
    },
    {
      "cell_type": "code",
      "metadata": {
        "id": "C5zuEETgcXD2"
      },
      "source": [
        "ex_count = Counter()\n",
        "ex_count['palabra1'] = 3\n",
        "ex_count['palabra2'] = 5\n",
        "ex_count.most_common()"
      ],
      "execution_count": null,
      "outputs": []
    },
    {
      "cell_type": "code",
      "metadata": {
        "id": "ZrNcZkIpGmT1"
      },
      "source": [
        "# Un contandor para cada tipo de review y uno total\n",
        "positive_counts = Counter()\n",
        "negative_counts = Counter()\n",
        "total_counts = Counter()"
      ],
      "execution_count": null,
      "outputs": []
    },
    {
      "cell_type": "code",
      "metadata": {
        "id": "BbU5hbuzHRQ9"
      },
      "source": [
        "# Crea un bucle que, para cada crítica, recorra sus palabras una a una e incremente en 1 el número de aparaciones.\n",
        "# Aumenta el contador siempre en total_counts y en positive_counts O en negative_counts dependiendo de si es una crítica\n",
        "# positiva o negativa"
      ],
      "execution_count": null,
      "outputs": []
    },
    {
      "cell_type": "code",
      "metadata": {
        "id": "IX6QYAZAHWKA"
      },
      "source": [
        "positive_counts.most_common(10)"
      ],
      "execution_count": null,
      "outputs": []
    },
    {
      "cell_type": "code",
      "metadata": {
        "id": "d9jcE5CGbZab"
      },
      "source": [
        "negative_counts.most_common(10)"
      ],
      "execution_count": null,
      "outputs": []
    },
    {
      "cell_type": "code",
      "metadata": {
        "id": "56UEs2mpbZlA"
      },
      "source": [
        "total_counts.most_common(10)"
      ],
      "execution_count": null,
      "outputs": []
    },
    {
      "cell_type": "markdown",
      "metadata": {
        "id": "oeZvc1p6dj84"
      },
      "source": [
        "El resultado del conteo muestra que las stopwords están presentes tanto en críticas positivas como en críticas negativas y pueden añadir ruido a la hora crear un modelo de clasificación. ¿Cómo podemos sacar aquellas palabras que son un indicador claro de que se trata de una crítica positiva o negativa?"
      ]
    },
    {
      "cell_type": "markdown",
      "metadata": {
        "id": "viJr7UXGeVbu"
      },
      "source": [
        "### 3. Análisis cuantitativo términos: Ratios"
      ]
    },
    {
      "cell_type": "markdown",
      "metadata": {
        "id": "YmhHY4jvek4X"
      },
      "source": [
        "Vamos a calcular los ratios de aparición de los términos de la siguiente manera: ratio = positive_counts/float(negative_counts + 1).\n",
        "\n",
        "**Nota**: vamos a trabajar unicamente con aquellos términos que **en total** aparecen 101 o más veces."
      ]
    },
    {
      "cell_type": "markdown",
      "metadata": {
        "id": "GDOywUqOfDli"
      },
      "source": [
        "*   ¿Por qué ese +1 en el denominador?\n",
        "*   A bote pronto, ¿cómo interpretaríamos los resultados? ¿En qué rango se van a mover los ratios?\n",
        "\n"
      ]
    },
    {
      "cell_type": "code",
      "metadata": {
        "id": "ktFv5uKydaCP"
      },
      "source": [
        "pos_neg_ratios = Counter()\n",
        "\n",
        "# Calcula el ratio para los término más comunes"
      ],
      "execution_count": null,
      "outputs": []
    },
    {
      "cell_type": "code",
      "metadata": {
        "id": "O2BnMZPsf3_7"
      },
      "source": [
        "pos_neg_ratios.most_common(15)"
      ],
      "execution_count": null,
      "outputs": []
    },
    {
      "cell_type": "code",
      "metadata": {
        "id": "HVQ2eL6j-66Z"
      },
      "source": [
        "## Algunos ejemplos que nos ayudan a interpretar los resultados\n",
        "print(\"Pos-to-neg ratio for 'the' = {}\".format(pos_neg_ratios[\"the\"]))\n",
        "print(\"Pos-to-neg ratio for 'amazing' = {}\".format(pos_neg_ratios[\"amazing\"]))\n",
        "print(\"Pos-to-neg ratio for 'terrible' = {}\".format(pos_neg_ratios[\"terrible\"]))"
      ],
      "execution_count": null,
      "outputs": []
    },
    {
      "cell_type": "markdown",
      "metadata": {
        "id": "oaRceyK0gTdi"
      },
      "source": [
        "¿Qué problema tiene esta definición de ratio? ¿Cómo lo solucionamos?"
      ]
    },
    {
      "cell_type": "markdown",
      "metadata": {
        "id": "1CquUDSegmpV"
      },
      "source": [
        "### 4. Análisis cuantitativo términos: Logaritmos"
      ]
    },
    {
      "cell_type": "markdown",
      "metadata": {
        "id": "nEFWetNNg2pR"
      },
      "source": [
        "Al aplicar logaritmos a los valores calculados en el apartado anterior hacemos que los valores por debajo de 1 pasen a ser negativos (y con valor absoluto más alto cuanto más cercanos a 0 sean) y además conseguimos que dos términos con frecuencias relativas parecidas pero en críticas de signo distinto tomen valores con valor absoluto parecido y signo contrario."
      ]
    },
    {
      "cell_type": "code",
      "metadata": {
        "id": "w6SwM1-5-66d"
      },
      "source": [
        "# Calcula el logaritmo de los ratios para todos los términos"
      ],
      "execution_count": null,
      "outputs": []
    },
    {
      "cell_type": "code",
      "metadata": {
        "id": "nelsu3orhrz_"
      },
      "source": [
        "pos_neg_ratios.most_common(15)"
      ],
      "execution_count": null,
      "outputs": []
    },
    {
      "cell_type": "code",
      "metadata": {
        "id": "ac4dUOgEhnML"
      },
      "source": [
        "## Algunos ejemplos que nos ayudan a interpretar los resultados\n",
        "print(\"Pos-to-neg ratio for 'the' = {}\".format(pos_neg_ratios[\"the\"]))\n",
        "print(\"Pos-to-neg ratio for 'amazing' = {}\".format(pos_neg_ratios[\"amazing\"]))\n",
        "print(\"Pos-to-neg ratio for 'terrible' = {}\".format(pos_neg_ratios[\"terrible\"]))"
      ],
      "execution_count": null,
      "outputs": []
    },
    {
      "cell_type": "code",
      "metadata": {
        "id": "BuwnIl_Wh8e5"
      },
      "source": [
        "pos_neg_ratios.most_common()[:-31:-1]"
      ],
      "execution_count": null,
      "outputs": []
    },
    {
      "cell_type": "markdown",
      "metadata": {
        "id": "4hdAIKBvJEKa"
      },
      "source": [
        "### 5. Modelo de clasificación basado en bag of words"
      ]
    },
    {
      "cell_type": "markdown",
      "metadata": {
        "id": "hD8mLKkKJOaL"
      },
      "source": [
        "Vamos a aplicar la técnica de bag of words paso a paso a cada una de las críticas con el objetivo de convertirlas en vectores numéricos que sirvan de features de un nuestro modelo.\n",
        "\n",
        "#### Primer paso: construir el conjunto de palabras de nuestros vocabulario."
      ]
    },
    {
      "cell_type": "code",
      "metadata": {
        "id": "XbWDpvonhp7n"
      },
      "source": [
        "vocab = set(total_counts.keys())"
      ],
      "execution_count": null,
      "outputs": []
    },
    {
      "cell_type": "code",
      "metadata": {
        "id": "ASu4GwbSJt_u"
      },
      "source": [
        "vocab_size = len(vocab)\n",
        "vocab_size"
      ],
      "execution_count": null,
      "outputs": []
    },
    {
      "cell_type": "markdown",
      "metadata": {
        "id": "OeneoUAXKRe5"
      },
      "source": [
        "#### Segundo paso: construímos un vector del tamaño de nuestro vocabulario. Para ganar tiempo lo creamos como un vector entero de 0s usando la función de numpy zeros()"
      ]
    },
    {
      "cell_type": "code",
      "metadata": {
        "id": "re4cRsBcJy9L"
      },
      "source": [
        "import numpy as np\n",
        "zeros = np.zeros(vocab_size)"
      ],
      "execution_count": null,
      "outputs": []
    },
    {
      "cell_type": "code",
      "metadata": {
        "id": "FwlXPMQUKMSp"
      },
      "source": [
        "zeros"
      ],
      "execution_count": null,
      "outputs": []
    },
    {
      "cell_type": "markdown",
      "metadata": {
        "id": "S-wjmc3TKl7n"
      },
      "source": [
        "#### Tercer paso: asignar a cada palabra un índice del vector y crear una tabla maestra que guarde esta relación y nos permita crear fácilmente nuestros vectores."
      ]
    },
    {
      "cell_type": "code",
      "metadata": {
        "id": "WyTGXExmKOto"
      },
      "source": [
        "# Creamos un diccionario que tiene como key la palabra y como valor el índice asociado\n",
        "word2index = {}\n",
        "for i,word in enumerate(vocab):\n",
        "    word2index[word] = i\n",
        "\n",
        "word2index"
      ],
      "execution_count": null,
      "outputs": []
    },
    {
      "cell_type": "markdown",
      "metadata": {
        "id": "00djBLcWLe3-"
      },
      "source": [
        "#### Cuarto paso: crear la función que dada una crítica devuelve un vector contando la frecuencia de las palabras utilizadas."
      ]
    },
    {
      "cell_type": "code",
      "metadata": {
        "id": "9Iov2PNeLEw5"
      },
      "source": [
        "## Rellena la función que para crítica devuelve el vector asociado aplicando bag of words\n",
        "def bag_of_words(review):\n",
        "  v = np.zeros(vocab_size)\n",
        "\n",
        "## Inserta código aquí\n"
      ],
      "execution_count": null,
      "outputs": []
    },
    {
      "cell_type": "code",
      "metadata": {
        "id": "4uR3jCvuSBrf"
      },
      "source": [
        "reviews[0]"
      ],
      "execution_count": null,
      "outputs": []
    },
    {
      "cell_type": "code",
      "metadata": {
        "id": "t2iUM_MeSGkP"
      },
      "source": [
        "word2index['']"
      ],
      "execution_count": null,
      "outputs": []
    },
    {
      "cell_type": "code",
      "metadata": {
        "id": "3ASg9r1ga6en"
      },
      "source": [
        "word2index[\"bromwell\"]"
      ],
      "execution_count": null,
      "outputs": []
    },
    {
      "cell_type": "code",
      "metadata": {
        "id": "n7BOLYxRMJFL"
      },
      "source": [
        "bag_of_words(reviews[0])[42347]"
      ],
      "execution_count": null,
      "outputs": []
    },
    {
      "cell_type": "code",
      "metadata": {
        "id": "8e-pUBV5ay1t"
      },
      "source": [
        "bag_of_words(reviews[0]).shape"
      ],
      "execution_count": null,
      "outputs": []
    },
    {
      "cell_type": "markdown",
      "metadata": {
        "id": "-zy1Su0ENDzb"
      },
      "source": [
        "#### Quinto paso: el target de nuestro modelo serán 1s y 0s. Vamos a crear una función que convierta los cadenas POSITIVE y NEGATIVE a 1 y 0."
      ]
    },
    {
      "cell_type": "code",
      "metadata": {
        "id": "LUQ52KX3MLfC"
      },
      "source": [
        "## Rellena la función para que dada la etiqueta en forma de cadena devuelve el entero asociado\n",
        "def target_numerico(label):"
      ],
      "execution_count": null,
      "outputs": []
    },
    {
      "cell_type": "code",
      "metadata": {
        "id": "NXFHGGG8Ngf2"
      },
      "source": [
        "target_numerico(labels[0])"
      ],
      "execution_count": null,
      "outputs": []
    },
    {
      "cell_type": "markdown",
      "metadata": {
        "id": "3socGi2cP_v4"
      },
      "source": [
        "#### Sexto paso: dividimos los datos que tenemos en train y test (esta vez lo hacemos a ojo)."
      ]
    },
    {
      "cell_type": "code",
      "metadata": {
        "id": "Hiy_hHiNQKHV"
      },
      "source": [
        "training_size = 5000\n",
        "test_size = 10000\n",
        "training_rev = reviews[:training_size]\n",
        "training_lab = labels[:training_size]\n",
        "test_rev = reviews[-test_size:]\n",
        "test_lab = labels[-test_size:]\n",
        "print(len(training_lab))\n",
        "print(len(test_lab))"
      ],
      "execution_count": null,
      "outputs": []
    },
    {
      "cell_type": "code",
      "metadata": {
        "id": "bd6kzIovTxEZ"
      },
      "source": [
        "print(training_rev[training_size-1])\n",
        "print(reviews[training_size-1])"
      ],
      "execution_count": null,
      "outputs": []
    },
    {
      "cell_type": "code",
      "metadata": {
        "id": "E61D-jvbT_kc"
      },
      "source": [
        "print(test_rev[0])\n",
        "print(reviews[-test_size])"
      ],
      "execution_count": null,
      "outputs": []
    },
    {
      "cell_type": "markdown",
      "metadata": {
        "id": "8wjjnhbmQ2bR"
      },
      "source": [
        "#### Séptimo paso: calculamos las matrices de entrenamiento y de test."
      ]
    },
    {
      "cell_type": "code",
      "metadata": {
        "id": "5CnlYbNnNkdA"
      },
      "source": [
        "X = np.empty((len(training_rev), vocab_size))\n",
        "print(X.shape)\n",
        "### Rellena X aquí"
      ],
      "execution_count": null,
      "outputs": []
    },
    {
      "cell_type": "code",
      "metadata": {
        "id": "mDfnC2WRVkAA"
      },
      "source": [
        "X_test = np.empty((len(test_rev), vocab_size))\n",
        "print(X_test.shape)\n",
        "# Rellena X_test aquí"
      ],
      "execution_count": null,
      "outputs": []
    },
    {
      "cell_type": "code",
      "metadata": {
        "id": "DvJtxlnJcgwh"
      },
      "source": [
        "training_rev = reviews[:training_size]\n",
        "training_lab = labels[:training_size]\n",
        "test_rev = reviews[-test_size:]\n",
        "test_lab"
      ],
      "execution_count": null,
      "outputs": []
    },
    {
      "cell_type": "code",
      "metadata": {
        "id": "8dRHQFKVPLaB"
      },
      "source": [
        "y = np.empty((len(training_lab),))\n",
        "print(y.shape)\n",
        "# Rellena y aquí"
      ],
      "execution_count": null,
      "outputs": []
    },
    {
      "cell_type": "code",
      "metadata": {
        "id": "wQ8H8PfQVuiC"
      },
      "source": [
        "y_test = np.empty((len(test_lab),))\n",
        "print(y_test.shape)\n",
        "# Rellena y_test aquí"
      ],
      "execution_count": null,
      "outputs": []
    },
    {
      "cell_type": "markdown",
      "metadata": {
        "id": "0BUgNbNaVZQI"
      },
      "source": [
        "#### Octavo paso: entrenamos el modelo"
      ]
    },
    {
      "cell_type": "code",
      "metadata": {
        "id": "418HbjvnS3R6"
      },
      "source": [
        "from sklearn import linear_model\n",
        "from sklearn import model_selection\n",
        "from sklearn.metrics import classification_report\n",
        "from sklearn.metrics import confusion_matrix\n",
        "from sklearn.metrics import accuracy_score"
      ],
      "execution_count": null,
      "outputs": []
    },
    {
      "cell_type": "code",
      "metadata": {
        "id": "FFw3UoZDTNrz"
      },
      "source": [
        "model = linear_model.LogisticRegression()\n",
        "model.fit(X,y)"
      ],
      "execution_count": null,
      "outputs": []
    },
    {
      "cell_type": "markdown",
      "metadata": {
        "id": "tHbMoVIvVd37"
      },
      "source": [
        "#### Noveno paso: aplicamos el predict sobre el conjunto de test y vemos qué tal funciona."
      ]
    },
    {
      "cell_type": "code",
      "metadata": {
        "id": "4ew7DEftTOnr"
      },
      "source": [
        "predictions = model.predict(X_test)"
      ],
      "execution_count": null,
      "outputs": []
    },
    {
      "cell_type": "code",
      "metadata": {
        "id": "jz8FOER4VSYf"
      },
      "source": [
        "model.score(X,y)"
      ],
      "execution_count": null,
      "outputs": []
    },
    {
      "cell_type": "code",
      "metadata": {
        "id": "5EMDdavGWEs-"
      },
      "source": [
        "model.score(X_test,y_test)"
      ],
      "execution_count": null,
      "outputs": []
    },
    {
      "cell_type": "code",
      "metadata": {
        "id": "ZTVPXI4TWHvS"
      },
      "source": [
        "print(confusion_matrix(y_test, predictions))"
      ],
      "execution_count": null,
      "outputs": []
    },
    {
      "cell_type": "code",
      "metadata": {
        "id": "qGy6v14K-Ovy"
      },
      "source": [
        "print(classification_report(y_test, predictions))"
      ],
      "execution_count": null,
      "outputs": []
    },
    {
      "cell_type": "markdown",
      "metadata": {
        "id": "T1_6xKsU-cOe"
      },
      "source": [
        "#### Decimo paso: preparamos el código para probar el modelo con cadenas nuevas."
      ]
    },
    {
      "cell_type": "code",
      "metadata": {
        "id": "Melhwgn7-YVv"
      },
      "source": [
        "# Rellena la función para, dada una crítica, aplicar el modelo que hemos entrenado\n",
        "# e imprimir POSITIVE/NEGATIVE\n",
        "def sentiment_analysis(review):"
      ],
      "execution_count": null,
      "outputs": []
    },
    {
      "cell_type": "code",
      "metadata": {
        "id": "83AM8es9_oNl"
      },
      "source": [
        "sentiment_analysis('movie bad')"
      ],
      "execution_count": null,
      "outputs": []
    },
    {
      "cell_type": "code",
      "metadata": {
        "id": "cVkYqDqC_rLm"
      },
      "source": [
        "sentiment_analysis('great movie i loved it')"
      ],
      "execution_count": null,
      "outputs": []
    },
    {
      "cell_type": "code",
      "metadata": {
        "id": "Rj8IWCGxAHNZ"
      },
      "source": [
        "sentiment_analysis('españa is very good')"
      ],
      "execution_count": null,
      "outputs": []
    },
    {
      "cell_type": "markdown",
      "metadata": {
        "id": "2oUKhEDkASes"
      },
      "source": [
        "¿Qué hacemos con el error que se obtiene al meter una palabra que no está en el vocabulario? Solucionar este error es parte de la práctica de la asignatura."
      ]
    },
    {
      "cell_type": "code",
      "metadata": {
        "id": "LxIV-DyqAKUF"
      },
      "source": [
        "sentiment_analysis('Cool movie')"
      ],
      "execution_count": null,
      "outputs": []
    },
    {
      "cell_type": "markdown",
      "metadata": {
        "id": "YDNO9LHVAp6E"
      },
      "source": [
        "Pero si Cool si es una palabra inglesa. ¿Qué ocurre? ¿Cómo lo solucionamos? Esto también es parte de la práctica de la asignatura."
      ]
    },
    {
      "cell_type": "code",
      "metadata": {
        "id": "cphmPCyuA3VS"
      },
      "source": [],
      "execution_count": null,
      "outputs": []
    }
  ]
}